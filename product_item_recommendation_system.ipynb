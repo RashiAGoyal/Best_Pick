{
  "cells": [
    {
      "cell_type": "code",
      "execution_count": 1,
      "metadata": {
        "colab": {
          "base_uri": "https://localhost:8080/"
        },
        "id": "zItDBlYyD5hZ",
        "outputId": "6f41beca-1259-4329-d0cf-7f22b0d246f2"
      },
      "outputs": [
        {
          "name": "stdout",
          "output_type": "stream",
          "text": [
            "Requirement already satisfied: scikit-surprise in /home/rashi/anaconda3/lib/python3.7/site-packages (1.1.1)\n",
            "Requirement already satisfied: joblib>=0.11 in /home/rashi/anaconda3/lib/python3.7/site-packages (from scikit-surprise) (0.14.1)\n",
            "Requirement already satisfied: numpy>=1.11.2 in /home/rashi/anaconda3/lib/python3.7/site-packages (from scikit-surprise) (1.21.6)\n",
            "Requirement already satisfied: scipy>=1.0.0 in /home/rashi/anaconda3/lib/python3.7/site-packages (from scikit-surprise) (1.4.1)\n",
            "Requirement already satisfied: six>=1.10.0 in /home/rashi/anaconda3/lib/python3.7/site-packages (from scikit-surprise) (1.14.0)\n"
          ]
        }
      ],
      "source": [
        "!pip install scikit-surprise"
      ]
    },
    {
      "cell_type": "code",
      "execution_count": 2,
      "metadata": {
        "id": "BQLwie8gFOOM"
      },
      "outputs": [],
      "source": [
        "import numpy as np\n",
        "import pandas as pd\n",
        "import matplotlib.pyplot as plt\n",
        "import seaborn as sns\n",
        "from sklearn import preprocessing\n",
        "from surprise import Dataset\n",
        "from surprise import Reader\n",
        "from surprise.model_selection import train_test_split\n",
        "from surprise import accuracy\n"
      ]
    },
    {
      "cell_type": "code",
      "execution_count": 3,
      "metadata": {
        "id": "MjVTNGqmE5Aq"
      },
      "outputs": [],
      "source": [
        "items=pd.read_csv('prep_items_202303291533.csv')"
      ]
    },
    {
      "cell_type": "code",
      "execution_count": 4,
      "metadata": {
        "id": "4oskyVWFFaH1"
      },
      "outputs": [],
      "source": [
        "items.item_name =items.item_name.str.rstrip()"
      ]
    },
    {
      "cell_type": "code",
      "execution_count": 5,
      "metadata": {
        "colab": {
          "base_uri": "https://localhost:8080/"
        },
        "id": "HM7-6VpkFclx",
        "outputId": "d28edf9a-2f54-40b4-ae95-1585dfb9b0ba"
      },
      "outputs": [
        {
          "name": "stdout",
          "output_type": "stream",
          "text": [
            "<class 'pandas.core.frame.DataFrame'>\n",
            "RangeIndex: 10142 entries, 0 to 10141\n",
            "Data columns (total 37 columns):\n",
            " #   Column               Non-Null Count  Dtype  \n",
            "---  ------               --------------  -----  \n",
            " 0   id                   10142 non-null  int64  \n",
            " 1   item_id              0 non-null      float64\n",
            " 2   tax_code             0 non-null      float64\n",
            " 3   is_deleted           0 non-null      float64\n",
            " 4   tenant_id            0 non-null      float64\n",
            " 5   provider_id          0 non-null      float64\n",
            " 6   catalog_id           0 non-null      float64\n",
            " 7   is_availabe          0 non-null      float64\n",
            " 8   dwh_updated_at       0 non-null      float64\n",
            " 9   _id                  10142 non-null  object \n",
            " 10  description_summary  10142 non-null  object \n",
            " 11  provider             10142 non-null  object \n",
            " 12  discount             3597 non-null   float64\n",
            " 13  discountpercent      4830 non-null   object \n",
            " 14  dealprice            8773 non-null   object \n",
            " 15  price                10139 non-null  float64\n",
            " 16  images               10142 non-null  object \n",
            " 17  catalogid            10142 non-null  object \n",
            " 18  producttype          10141 non-null  object \n",
            " 19  type                 10142 non-null  object \n",
            " 20  issellable           10138 non-null  object \n",
            " 21  sellercontact        5424 non-null   object \n",
            " 22  quantity             6860 non-null   object \n",
            " 23  isdeleted            10142 non-null  bool   \n",
            " 24  tenant               10142 non-null  object \n",
            " 25  avgrating            10142 non-null  int64  \n",
            " 26  providername         10142 non-null  object \n",
            " 27  isoffline            10142 non-null  bool   \n",
            " 28  variations           4204 non-null   object \n",
            " 29  category             10142 non-null  object \n",
            " 30  market               10142 non-null  object \n",
            " 31  slug                 9907 non-null   object \n",
            " 32  integer_attributes   10142 non-null  object \n",
            " 33  stockcount           0 non-null      float64\n",
            " 34  createdat            10142 non-null  object \n",
            " 35  updatedat            10142 non-null  object \n",
            " 36  item_name            10142 non-null  object \n",
            "dtypes: bool(2), float64(11), int64(2), object(22)\n",
            "memory usage: 2.7+ MB\n"
          ]
        }
      ],
      "source": [
        "items.info()"
      ]
    },
    {
      "cell_type": "code",
      "execution_count": 6,
      "metadata": {
        "colab": {
          "base_uri": "https://localhost:8080/"
        },
        "id": "6CLG3V8YFhfX",
        "outputId": "31f447d6-400f-43d7-9e83-ce6c8065f1d7"
      },
      "outputs": [
        {
          "data": {
            "text/plain": [
              "Name                                              489\n",
              "CAIRON WHITE SATIN SOLID CLUBWEAR SHIRT            50\n",
              "CAIRON GREY SATIN SOLID CLUBWEAR SHIRT             48\n",
              "CAIRON RED CHECK CASUAL SHIRT                      37\n",
              "Bigen B103 Men's Beard Haircolor                   35\n",
              "                                                 ... \n",
              "Lipton Green Tea Bags Honey Lemon, 10 N             1\n",
              "Tetley Green Tea Bag Ginger, Mint Lemon, 25 N       1\n",
              "Lipton Lemon Honey Green Tea Bags Sachet, 25 N      1\n",
              "Lipton Green Tea 100 g                              1\n",
              "Diamond mirshi 100g                                 1\n",
              "Name: item_name, Length: 3796, dtype: int64"
            ]
          },
          "execution_count": 6,
          "metadata": {},
          "output_type": "execute_result"
        }
      ],
      "source": [
        "items.item_name.value_counts()"
      ]
    },
    {
      "cell_type": "code",
      "execution_count": 7,
      "metadata": {
        "id": "LX8c0g64Fk6U"
      },
      "outputs": [
        {
          "ename": "FileNotFoundError",
          "evalue": "[Errno 2] No such file or directory: 'prep_orderitem_dummy_202303291450.csv'",
          "output_type": "error",
          "traceback": [
            "\u001b[0;31m---------------------------------------------------------------------------\u001b[0m",
            "\u001b[0;31mFileNotFoundError\u001b[0m                         Traceback (most recent call last)",
            "\u001b[0;32m<ipython-input-7-53fdee54aadc>\u001b[0m in \u001b[0;36m<module>\u001b[0;34m\u001b[0m\n\u001b[0;32m----> 1\u001b[0;31m \u001b[0morder\u001b[0m\u001b[0;34m=\u001b[0m\u001b[0mpd\u001b[0m\u001b[0;34m.\u001b[0m\u001b[0mread_csv\u001b[0m\u001b[0;34m(\u001b[0m\u001b[0;34m'prep_orderitem_dummy_202303291450.csv'\u001b[0m\u001b[0;34m)\u001b[0m\u001b[0;34m\u001b[0m\u001b[0;34m\u001b[0m\u001b[0m\n\u001b[0m",
            "\u001b[0;32m~/anaconda3/lib/python3.7/site-packages/pandas/util/_decorators.py\u001b[0m in \u001b[0;36mwrapper\u001b[0;34m(*args, **kwargs)\u001b[0m\n\u001b[1;32m    309\u001b[0m                     \u001b[0mstacklevel\u001b[0m\u001b[0;34m=\u001b[0m\u001b[0mstacklevel\u001b[0m\u001b[0;34m,\u001b[0m\u001b[0;34m\u001b[0m\u001b[0;34m\u001b[0m\u001b[0m\n\u001b[1;32m    310\u001b[0m                 )\n\u001b[0;32m--> 311\u001b[0;31m             \u001b[0;32mreturn\u001b[0m \u001b[0mfunc\u001b[0m\u001b[0;34m(\u001b[0m\u001b[0;34m*\u001b[0m\u001b[0margs\u001b[0m\u001b[0;34m,\u001b[0m \u001b[0;34m**\u001b[0m\u001b[0mkwargs\u001b[0m\u001b[0;34m)\u001b[0m\u001b[0;34m\u001b[0m\u001b[0;34m\u001b[0m\u001b[0m\n\u001b[0m\u001b[1;32m    312\u001b[0m \u001b[0;34m\u001b[0m\u001b[0m\n\u001b[1;32m    313\u001b[0m         \u001b[0;32mreturn\u001b[0m \u001b[0mwrapper\u001b[0m\u001b[0;34m\u001b[0m\u001b[0;34m\u001b[0m\u001b[0m\n",
            "\u001b[0;32m~/anaconda3/lib/python3.7/site-packages/pandas/io/parsers/readers.py\u001b[0m in \u001b[0;36mread_csv\u001b[0;34m(filepath_or_buffer, sep, delimiter, header, names, index_col, usecols, squeeze, prefix, mangle_dupe_cols, dtype, engine, converters, true_values, false_values, skipinitialspace, skiprows, skipfooter, nrows, na_values, keep_default_na, na_filter, verbose, skip_blank_lines, parse_dates, infer_datetime_format, keep_date_col, date_parser, dayfirst, cache_dates, iterator, chunksize, compression, thousands, decimal, lineterminator, quotechar, quoting, doublequote, escapechar, comment, encoding, encoding_errors, dialect, error_bad_lines, warn_bad_lines, on_bad_lines, delim_whitespace, low_memory, memory_map, float_precision, storage_options)\u001b[0m\n\u001b[1;32m    584\u001b[0m     \u001b[0mkwds\u001b[0m\u001b[0;34m.\u001b[0m\u001b[0mupdate\u001b[0m\u001b[0;34m(\u001b[0m\u001b[0mkwds_defaults\u001b[0m\u001b[0;34m)\u001b[0m\u001b[0;34m\u001b[0m\u001b[0;34m\u001b[0m\u001b[0m\n\u001b[1;32m    585\u001b[0m \u001b[0;34m\u001b[0m\u001b[0m\n\u001b[0;32m--> 586\u001b[0;31m     \u001b[0;32mreturn\u001b[0m \u001b[0m_read\u001b[0m\u001b[0;34m(\u001b[0m\u001b[0mfilepath_or_buffer\u001b[0m\u001b[0;34m,\u001b[0m \u001b[0mkwds\u001b[0m\u001b[0;34m)\u001b[0m\u001b[0;34m\u001b[0m\u001b[0;34m\u001b[0m\u001b[0m\n\u001b[0m\u001b[1;32m    587\u001b[0m \u001b[0;34m\u001b[0m\u001b[0m\n\u001b[1;32m    588\u001b[0m \u001b[0;34m\u001b[0m\u001b[0m\n",
            "\u001b[0;32m~/anaconda3/lib/python3.7/site-packages/pandas/io/parsers/readers.py\u001b[0m in \u001b[0;36m_read\u001b[0;34m(filepath_or_buffer, kwds)\u001b[0m\n\u001b[1;32m    480\u001b[0m \u001b[0;34m\u001b[0m\u001b[0m\n\u001b[1;32m    481\u001b[0m     \u001b[0;31m# Create the parser.\u001b[0m\u001b[0;34m\u001b[0m\u001b[0;34m\u001b[0m\u001b[0;34m\u001b[0m\u001b[0m\n\u001b[0;32m--> 482\u001b[0;31m     \u001b[0mparser\u001b[0m \u001b[0;34m=\u001b[0m \u001b[0mTextFileReader\u001b[0m\u001b[0;34m(\u001b[0m\u001b[0mfilepath_or_buffer\u001b[0m\u001b[0;34m,\u001b[0m \u001b[0;34m**\u001b[0m\u001b[0mkwds\u001b[0m\u001b[0;34m)\u001b[0m\u001b[0;34m\u001b[0m\u001b[0;34m\u001b[0m\u001b[0m\n\u001b[0m\u001b[1;32m    483\u001b[0m \u001b[0;34m\u001b[0m\u001b[0m\n\u001b[1;32m    484\u001b[0m     \u001b[0;32mif\u001b[0m \u001b[0mchunksize\u001b[0m \u001b[0;32mor\u001b[0m \u001b[0miterator\u001b[0m\u001b[0;34m:\u001b[0m\u001b[0;34m\u001b[0m\u001b[0;34m\u001b[0m\u001b[0m\n",
            "\u001b[0;32m~/anaconda3/lib/python3.7/site-packages/pandas/io/parsers/readers.py\u001b[0m in \u001b[0;36m__init__\u001b[0;34m(self, f, engine, **kwds)\u001b[0m\n\u001b[1;32m    809\u001b[0m             \u001b[0mself\u001b[0m\u001b[0;34m.\u001b[0m\u001b[0moptions\u001b[0m\u001b[0;34m[\u001b[0m\u001b[0;34m\"has_index_names\"\u001b[0m\u001b[0;34m]\u001b[0m \u001b[0;34m=\u001b[0m \u001b[0mkwds\u001b[0m\u001b[0;34m[\u001b[0m\u001b[0;34m\"has_index_names\"\u001b[0m\u001b[0;34m]\u001b[0m\u001b[0;34m\u001b[0m\u001b[0;34m\u001b[0m\u001b[0m\n\u001b[1;32m    810\u001b[0m \u001b[0;34m\u001b[0m\u001b[0m\n\u001b[0;32m--> 811\u001b[0;31m         \u001b[0mself\u001b[0m\u001b[0;34m.\u001b[0m\u001b[0m_engine\u001b[0m \u001b[0;34m=\u001b[0m \u001b[0mself\u001b[0m\u001b[0;34m.\u001b[0m\u001b[0m_make_engine\u001b[0m\u001b[0;34m(\u001b[0m\u001b[0mself\u001b[0m\u001b[0;34m.\u001b[0m\u001b[0mengine\u001b[0m\u001b[0;34m)\u001b[0m\u001b[0;34m\u001b[0m\u001b[0;34m\u001b[0m\u001b[0m\n\u001b[0m\u001b[1;32m    812\u001b[0m \u001b[0;34m\u001b[0m\u001b[0m\n\u001b[1;32m    813\u001b[0m     \u001b[0;32mdef\u001b[0m \u001b[0mclose\u001b[0m\u001b[0;34m(\u001b[0m\u001b[0mself\u001b[0m\u001b[0;34m)\u001b[0m\u001b[0;34m:\u001b[0m\u001b[0;34m\u001b[0m\u001b[0;34m\u001b[0m\u001b[0m\n",
            "\u001b[0;32m~/anaconda3/lib/python3.7/site-packages/pandas/io/parsers/readers.py\u001b[0m in \u001b[0;36m_make_engine\u001b[0;34m(self, engine)\u001b[0m\n\u001b[1;32m   1038\u001b[0m             )\n\u001b[1;32m   1039\u001b[0m         \u001b[0;31m# error: Too many arguments for \"ParserBase\"\u001b[0m\u001b[0;34m\u001b[0m\u001b[0;34m\u001b[0m\u001b[0;34m\u001b[0m\u001b[0m\n\u001b[0;32m-> 1040\u001b[0;31m         \u001b[0;32mreturn\u001b[0m \u001b[0mmapping\u001b[0m\u001b[0;34m[\u001b[0m\u001b[0mengine\u001b[0m\u001b[0;34m]\u001b[0m\u001b[0;34m(\u001b[0m\u001b[0mself\u001b[0m\u001b[0;34m.\u001b[0m\u001b[0mf\u001b[0m\u001b[0;34m,\u001b[0m \u001b[0;34m**\u001b[0m\u001b[0mself\u001b[0m\u001b[0;34m.\u001b[0m\u001b[0moptions\u001b[0m\u001b[0;34m)\u001b[0m  \u001b[0;31m# type: ignore[call-arg]\u001b[0m\u001b[0;34m\u001b[0m\u001b[0;34m\u001b[0m\u001b[0m\n\u001b[0m\u001b[1;32m   1041\u001b[0m \u001b[0;34m\u001b[0m\u001b[0m\n\u001b[1;32m   1042\u001b[0m     \u001b[0;32mdef\u001b[0m \u001b[0m_failover_to_python\u001b[0m\u001b[0;34m(\u001b[0m\u001b[0mself\u001b[0m\u001b[0;34m)\u001b[0m\u001b[0;34m:\u001b[0m\u001b[0;34m\u001b[0m\u001b[0;34m\u001b[0m\u001b[0m\n",
            "\u001b[0;32m~/anaconda3/lib/python3.7/site-packages/pandas/io/parsers/c_parser_wrapper.py\u001b[0m in \u001b[0;36m__init__\u001b[0;34m(self, src, **kwds)\u001b[0m\n\u001b[1;32m     49\u001b[0m \u001b[0;34m\u001b[0m\u001b[0m\n\u001b[1;32m     50\u001b[0m         \u001b[0;31m# open handles\u001b[0m\u001b[0;34m\u001b[0m\u001b[0;34m\u001b[0m\u001b[0;34m\u001b[0m\u001b[0m\n\u001b[0;32m---> 51\u001b[0;31m         \u001b[0mself\u001b[0m\u001b[0;34m.\u001b[0m\u001b[0m_open_handles\u001b[0m\u001b[0;34m(\u001b[0m\u001b[0msrc\u001b[0m\u001b[0;34m,\u001b[0m \u001b[0mkwds\u001b[0m\u001b[0;34m)\u001b[0m\u001b[0;34m\u001b[0m\u001b[0;34m\u001b[0m\u001b[0m\n\u001b[0m\u001b[1;32m     52\u001b[0m         \u001b[0;32massert\u001b[0m \u001b[0mself\u001b[0m\u001b[0;34m.\u001b[0m\u001b[0mhandles\u001b[0m \u001b[0;32mis\u001b[0m \u001b[0;32mnot\u001b[0m \u001b[0;32mNone\u001b[0m\u001b[0;34m\u001b[0m\u001b[0;34m\u001b[0m\u001b[0m\n\u001b[1;32m     53\u001b[0m \u001b[0;34m\u001b[0m\u001b[0m\n",
            "\u001b[0;32m~/anaconda3/lib/python3.7/site-packages/pandas/io/parsers/base_parser.py\u001b[0m in \u001b[0;36m_open_handles\u001b[0;34m(self, src, kwds)\u001b[0m\n\u001b[1;32m    227\u001b[0m             \u001b[0mmemory_map\u001b[0m\u001b[0;34m=\u001b[0m\u001b[0mkwds\u001b[0m\u001b[0;34m.\u001b[0m\u001b[0mget\u001b[0m\u001b[0;34m(\u001b[0m\u001b[0;34m\"memory_map\"\u001b[0m\u001b[0;34m,\u001b[0m \u001b[0;32mFalse\u001b[0m\u001b[0;34m)\u001b[0m\u001b[0;34m,\u001b[0m\u001b[0;34m\u001b[0m\u001b[0;34m\u001b[0m\u001b[0m\n\u001b[1;32m    228\u001b[0m             \u001b[0mstorage_options\u001b[0m\u001b[0;34m=\u001b[0m\u001b[0mkwds\u001b[0m\u001b[0;34m.\u001b[0m\u001b[0mget\u001b[0m\u001b[0;34m(\u001b[0m\u001b[0;34m\"storage_options\"\u001b[0m\u001b[0;34m,\u001b[0m \u001b[0;32mNone\u001b[0m\u001b[0;34m)\u001b[0m\u001b[0;34m,\u001b[0m\u001b[0;34m\u001b[0m\u001b[0;34m\u001b[0m\u001b[0m\n\u001b[0;32m--> 229\u001b[0;31m             \u001b[0merrors\u001b[0m\u001b[0;34m=\u001b[0m\u001b[0mkwds\u001b[0m\u001b[0;34m.\u001b[0m\u001b[0mget\u001b[0m\u001b[0;34m(\u001b[0m\u001b[0;34m\"encoding_errors\"\u001b[0m\u001b[0;34m,\u001b[0m \u001b[0;34m\"strict\"\u001b[0m\u001b[0;34m)\u001b[0m\u001b[0;34m,\u001b[0m\u001b[0;34m\u001b[0m\u001b[0;34m\u001b[0m\u001b[0m\n\u001b[0m\u001b[1;32m    230\u001b[0m         )\n\u001b[1;32m    231\u001b[0m \u001b[0;34m\u001b[0m\u001b[0m\n",
            "\u001b[0;32m~/anaconda3/lib/python3.7/site-packages/pandas/io/common.py\u001b[0m in \u001b[0;36mget_handle\u001b[0;34m(path_or_buf, mode, encoding, compression, memory_map, is_text, errors, storage_options)\u001b[0m\n\u001b[1;32m    705\u001b[0m                 \u001b[0mencoding\u001b[0m\u001b[0;34m=\u001b[0m\u001b[0mioargs\u001b[0m\u001b[0;34m.\u001b[0m\u001b[0mencoding\u001b[0m\u001b[0;34m,\u001b[0m\u001b[0;34m\u001b[0m\u001b[0;34m\u001b[0m\u001b[0m\n\u001b[1;32m    706\u001b[0m                 \u001b[0merrors\u001b[0m\u001b[0;34m=\u001b[0m\u001b[0merrors\u001b[0m\u001b[0;34m,\u001b[0m\u001b[0;34m\u001b[0m\u001b[0;34m\u001b[0m\u001b[0m\n\u001b[0;32m--> 707\u001b[0;31m                 \u001b[0mnewline\u001b[0m\u001b[0;34m=\u001b[0m\u001b[0;34m\"\"\u001b[0m\u001b[0;34m,\u001b[0m\u001b[0;34m\u001b[0m\u001b[0;34m\u001b[0m\u001b[0m\n\u001b[0m\u001b[1;32m    708\u001b[0m             )\n\u001b[1;32m    709\u001b[0m         \u001b[0;32melse\u001b[0m\u001b[0;34m:\u001b[0m\u001b[0;34m\u001b[0m\u001b[0;34m\u001b[0m\u001b[0m\n",
            "\u001b[0;31mFileNotFoundError\u001b[0m: [Errno 2] No such file or directory: 'prep_orderitem_dummy_202303291450.csv'"
          ]
        }
      ],
      "source": [
        "order=pd.read_csv('prep_orderitem_dummy_202303291450.csv')"
      ]
    },
    {
      "cell_type": "code",
      "execution_count": null,
      "metadata": {
        "id": "d934qYzOb5uQ"
      },
      "outputs": [],
      "source": [
        "customer=pd.read_csv('prep_customers_address_202304031410.csv')"
      ]
    },
    {
      "cell_type": "code",
      "execution_count": null,
      "metadata": {
        "colab": {
          "base_uri": "https://localhost:8080/"
        },
        "id": "ryzdell6ci9G",
        "outputId": "12562a45-24c9-4228-a548-3f8396690a33"
      },
      "outputs": [
        {
          "name": "stdout",
          "output_type": "stream",
          "text": [
            "<class 'pandas.core.frame.DataFrame'>\n",
            "RangeIndex: 11604 entries, 0 to 11603\n",
            "Data columns (total 19 columns):\n",
            " #   Column       Non-Null Count  Dtype  \n",
            "---  ------       --------------  -----  \n",
            " 0   _id          11604 non-null  object \n",
            " 1   customerno   11604 non-null  object \n",
            " 2   tenant       11604 non-null  object \n",
            " 3   address_id   11604 non-null  object \n",
            " 4   isdefault    11604 non-null  bool   \n",
            " 5   latitude     0 non-null      float64\n",
            " 6   longitude    0 non-null      float64\n",
            " 7   type         11604 non-null  object \n",
            " 8   city         11604 non-null  object \n",
            " 9   country      11604 non-null  object \n",
            " 10  housenumber  11602 non-null  object \n",
            " 11  state        11604 non-null  object \n",
            " 12  street1      11603 non-null  object \n",
            " 13  street2      11604 non-null  object \n",
            " 14  zip          11604 non-null  object \n",
            " 15  category     11604 non-null  object \n",
            " 16  fullname     11604 non-null  object \n",
            " 17  gender       11604 non-null  object \n",
            " 18  age          11604 non-null  int64  \n",
            "dtypes: bool(1), float64(2), int64(1), object(15)\n",
            "memory usage: 1.6+ MB\n"
          ]
        }
      ],
      "source": [
        "customer.info()"
      ]
    },
    {
      "cell_type": "code",
      "execution_count": null,
      "metadata": {
        "colab": {
          "base_uri": "https://localhost:8080/"
        },
        "id": "VP6K2nvUy92p",
        "outputId": "f8ff721c-4793-4c2c-9934-ab049f48135a"
      },
      "outputs": [
        {
          "data": {
            "text/plain": [
              "Telangana          6884\n",
              "Andhra Pradesh     3354\n",
              "West Bengal         202\n",
              "Karnataka           132\n",
              "Gujarat              15\n",
              "Rajasthan             3\n",
              "ODISHA                1\n",
              "Telagna               1\n",
              "Andhara Pradesh       1\n",
              "Name: state, dtype: int64"
            ]
          },
          "execution_count": 24,
          "metadata": {},
          "output_type": "execute_result"
        }
      ],
      "source": [
        "customer.state.value_counts()"
      ]
    },
    {
      "cell_type": "code",
      "execution_count": null,
      "metadata": {
        "id": "CHVTWqJUzDi1"
      },
      "outputs": [],
      "source": [
        "customer.state=customer.state.str.rstrip()"
      ]
    },
    {
      "cell_type": "code",
      "execution_count": null,
      "metadata": {
        "id": "yrBLkzJhz9Pp"
      },
      "outputs": [],
      "source": [
        "customer.state=customer.state.map({'Telangana':'Telangana','Telagna':'Telagna','West Bengal':'West Bengal','Karnataka':'Karnataka',\n",
        "                                       'Andhra Pradesh':'Andhra Pradesh','Gujarat':'Gujarat','ODISHA':'ODISHA',\n",
        "                                   'ANDHRA Pradesh':'Andhra Pradesh','Andhrapradesh':'Andhra Pradesh',\n",
        "                                   'Avadi': 'Andhara Pradesh','Telanganana':'Telangana','Rajasthan':'Rajasthan'})"
      ]
    },
    {
      "cell_type": "code",
      "execution_count": null,
      "metadata": {
        "colab": {
          "base_uri": "https://localhost:8080/"
        },
        "id": "EQ8-ZqUIFov_",
        "outputId": "03d61a3d-29fe-4ef9-db38-98f7638924cb"
      },
      "outputs": [
        {
          "name": "stdout",
          "output_type": "stream",
          "text": [
            "<class 'pandas.core.frame.DataFrame'>\n",
            "RangeIndex: 10000 entries, 0 to 9999\n",
            "Data columns (total 3 columns):\n",
            " #   Column      Non-Null Count  Dtype \n",
            "---  ------      --------------  ----- \n",
            " 0   item_id     10000 non-null  object\n",
            " 1   customerid  9892 non-null   object\n",
            " 2   serialno    10000 non-null  int64 \n",
            "dtypes: int64(1), object(2)\n",
            "memory usage: 234.5+ KB\n"
          ]
        }
      ],
      "source": [
        "order.info()"
      ]
    },
    {
      "cell_type": "code",
      "execution_count": null,
      "metadata": {
        "id": "LqVVDkZ7FwHa"
      },
      "outputs": [],
      "source": [
        "df_merged =items.merge(order,how='left',left_on='_id',right_on='item_id',suffixes=('', '_drop'))\n",
        "df_merged.drop([col for col in df_merged.columns if 'drop' in col], axis=1, inplace=True)"
      ]
    },
    {
      "cell_type": "code",
      "execution_count": null,
      "metadata": {
        "id": "BKGofWCnu48j"
      },
      "outputs": [],
      "source": [
        "df_merged.market=df_merged.market.map({'Clothes & Fashion':'Clothes & Fashion','Grocery':'Grocery','Food & Restaurants':'Food & Restaurants',\n",
        "                                       'Clothes  & Fashion':'Clothes & Fashion','Electronics':'Electronics',\n",
        "                                   'Office & Stationary':'Office & Stationary','Office & Stationery':'Office & Stationary',\n",
        "                                   'Home Improvement': 'Home Improvement','Virtual assets & Real Estate':'Virtual assets & Real Estate',\n",
        "                                   'virtual assets & Real Estate':'Virtual assets & Real Estate','Fruits & Vegetables':'Fruits & Vegetables','Health Care':'Health Care'})"
      ]
    },
    {
      "cell_type": "code",
      "execution_count": null,
      "metadata": {
        "id": "-n47NYCqvCEj"
      },
      "outputs": [],
      "source": [
        "df_merged.to_csv('df_merged.csv')"
      ]
    },
    {
      "cell_type": "code",
      "execution_count": null,
      "metadata": {
        "colab": {
          "base_uri": "https://localhost:8080/"
        },
        "id": "tSYiPXgVF8k-",
        "outputId": "02024dce-26ad-4d62-81b0-9cf872960dc4"
      },
      "outputs": [
        {
          "data": {
            "text/plain": [
              "(10142, 39)"
            ]
          },
          "execution_count": 28,
          "metadata": {},
          "output_type": "execute_result"
        }
      ],
      "source": [
        "df_merged.shape"
      ]
    },
    {
      "cell_type": "code",
      "execution_count": null,
      "metadata": {
        "colab": {
          "base_uri": "https://localhost:8080/"
        },
        "id": "be4c9gM6F_H9",
        "outputId": "555dece5-773b-4d25-f477-ad8e1052d4fb"
      },
      "outputs": [
        {
          "name": "stdout",
          "output_type": "stream",
          "text": [
            "<class 'pandas.core.frame.DataFrame'>\n",
            "Int64Index: 10142 entries, 0 to 10141\n",
            "Data columns (total 39 columns):\n",
            " #   Column               Non-Null Count  Dtype  \n",
            "---  ------               --------------  -----  \n",
            " 0   id                   10142 non-null  int64  \n",
            " 1   item_id              0 non-null      float64\n",
            " 2   tax_code             0 non-null      float64\n",
            " 3   is_deleted           0 non-null      float64\n",
            " 4   tenant_id            0 non-null      float64\n",
            " 5   provider_id          0 non-null      float64\n",
            " 6   catalog_id           0 non-null      float64\n",
            " 7   is_availabe          0 non-null      float64\n",
            " 8   dwh_updated_at       0 non-null      float64\n",
            " 9   _id                  10142 non-null  object \n",
            " 10  description_summary  10142 non-null  object \n",
            " 11  provider             10142 non-null  object \n",
            " 12  discount             3597 non-null   float64\n",
            " 13  discountpercent      4830 non-null   object \n",
            " 14  dealprice            8773 non-null   object \n",
            " 15  price                10139 non-null  float64\n",
            " 16  images               10142 non-null  object \n",
            " 17  catalogid            10142 non-null  object \n",
            " 18  producttype          10141 non-null  object \n",
            " 19  type                 10142 non-null  object \n",
            " 20  issellable           10138 non-null  object \n",
            " 21  sellercontact        5424 non-null   object \n",
            " 22  quantity             6860 non-null   object \n",
            " 23  isdeleted            10142 non-null  bool   \n",
            " 24  tenant               10142 non-null  object \n",
            " 25  avgrating            10142 non-null  int64  \n",
            " 26  providername         10142 non-null  object \n",
            " 27  isoffline            10142 non-null  bool   \n",
            " 28  variations           4204 non-null   object \n",
            " 29  category             10142 non-null  object \n",
            " 30  market               10142 non-null  object \n",
            " 31  slug                 9907 non-null   object \n",
            " 32  integer_attributes   10142 non-null  object \n",
            " 33  stockcount           0 non-null      float64\n",
            " 34  createdat            10142 non-null  object \n",
            " 35  updatedat            10142 non-null  object \n",
            " 36  item_name            10142 non-null  object \n",
            " 37  customerid           9816 non-null   object \n",
            " 38  serialno             9924 non-null   float64\n",
            "dtypes: bool(2), float64(12), int64(2), object(23)\n",
            "memory usage: 3.0+ MB\n"
          ]
        }
      ],
      "source": [
        "df_merged.info()"
      ]
    },
    {
      "cell_type": "code",
      "execution_count": null,
      "metadata": {
        "id": "aQII4LJrcw-R"
      },
      "outputs": [],
      "source": [
        "data_merged =df_merged.merge(customer,how='left',left_on='customerid',right_on='_id',suffixes=('', '_drop'))\n",
        "data_merged.drop([col for col in df_merged.columns if 'drop' in col], axis=1, inplace=True)"
      ]
    },
    {
      "cell_type": "code",
      "execution_count": null,
      "metadata": {
        "colab": {
          "base_uri": "https://localhost:8080/"
        },
        "id": "3Bg11raQdT5-",
        "outputId": "1bed735f-361f-45c4-8f43-e114080a318a"
      },
      "outputs": [
        {
          "data": {
            "text/plain": [
              "(11895, 58)"
            ]
          },
          "execution_count": 31,
          "metadata": {},
          "output_type": "execute_result"
        }
      ],
      "source": [
        "data_merged.shape"
      ]
    },
    {
      "cell_type": "code",
      "execution_count": null,
      "metadata": {
        "colab": {
          "base_uri": "https://localhost:8080/"
        },
        "id": "8Do2fGunp1af",
        "outputId": "ef561d12-f107-4f81-f7c0-f985b9c2a6ea"
      },
      "outputs": [
        {
          "data": {
            "text/plain": [
              "{'Clothes & Fashion': 7165,\n",
              " 'Grocery': 2953,\n",
              " 'Food & Restaurants': 1017,\n",
              " 'Office & Stationary': 381,\n",
              " 'Electronics': 336,\n",
              " 'Home Improvement': 26,\n",
              " 'Virtual assets & Real Estate': 15,\n",
              " 'Fruits & Vegetables': 1,\n",
              " 'Health Care': 1}"
            ]
          },
          "execution_count": 32,
          "metadata": {},
          "output_type": "execute_result"
        }
      ],
      "source": [
        "dict(data_merged.market.value_counts())"
      ]
    },
    {
      "cell_type": "code",
      "execution_count": null,
      "metadata": {
        "id": "3mEj-BPbn5PL"
      },
      "outputs": [],
      "source": [
        "data_merged.to_csv('data_merged.csv')"
      ]
    },
    {
      "cell_type": "code",
      "execution_count": null,
      "metadata": {
        "id": "htWk73RoGtiz"
      },
      "outputs": [],
      "source": [
        "final_df=data_merged[['customerid','id','avgrating']]"
      ]
    },
    {
      "cell_type": "code",
      "execution_count": null,
      "metadata": {
        "colab": {
          "base_uri": "https://localhost:8080/",
          "height": 206
        },
        "id": "ORQjj49AHlLx",
        "outputId": "acef44c6-8d50-4571-eb64-73b4aac27c1b"
      },
      "outputs": [
        {
          "data": {
            "text/html": [
              "\n",
              "  <div id=\"df-c6b3882e-0f7d-4f9e-9438-b597862e9f52\">\n",
              "    <div class=\"colab-df-container\">\n",
              "      <div>\n",
              "<style scoped>\n",
              "    .dataframe tbody tr th:only-of-type {\n",
              "        vertical-align: middle;\n",
              "    }\n",
              "\n",
              "    .dataframe tbody tr th {\n",
              "        vertical-align: top;\n",
              "    }\n",
              "\n",
              "    .dataframe thead th {\n",
              "        text-align: right;\n",
              "    }\n",
              "</style>\n",
              "<table border=\"1\" class=\"dataframe\">\n",
              "  <thead>\n",
              "    <tr style=\"text-align: right;\">\n",
              "      <th></th>\n",
              "      <th>customerid</th>\n",
              "      <th>id</th>\n",
              "      <th>avgrating</th>\n",
              "    </tr>\n",
              "  </thead>\n",
              "  <tbody>\n",
              "    <tr>\n",
              "      <th>0</th>\n",
              "      <td>628cb023c3ccbfbb1d5f410e</td>\n",
              "      <td>1</td>\n",
              "      <td>1</td>\n",
              "    </tr>\n",
              "    <tr>\n",
              "      <th>1</th>\n",
              "      <td>633ac3aff0f1d2a7c6a29f5a</td>\n",
              "      <td>7399</td>\n",
              "      <td>1</td>\n",
              "    </tr>\n",
              "    <tr>\n",
              "      <th>2</th>\n",
              "      <td>630718b7cf57702ea522b0cb</td>\n",
              "      <td>754</td>\n",
              "      <td>4</td>\n",
              "    </tr>\n",
              "    <tr>\n",
              "      <th>3</th>\n",
              "      <td>63419766f0f1d24d99a34f54</td>\n",
              "      <td>7400</td>\n",
              "      <td>4</td>\n",
              "    </tr>\n",
              "    <tr>\n",
              "      <th>4</th>\n",
              "      <td>62dbd5ce9670f2007f7cce70</td>\n",
              "      <td>809</td>\n",
              "      <td>3</td>\n",
              "    </tr>\n",
              "  </tbody>\n",
              "</table>\n",
              "</div>\n",
              "      <button class=\"colab-df-convert\" onclick=\"convertToInteractive('df-c6b3882e-0f7d-4f9e-9438-b597862e9f52')\"\n",
              "              title=\"Convert this dataframe to an interactive table.\"\n",
              "              style=\"display:none;\">\n",
              "        \n",
              "  <svg xmlns=\"http://www.w3.org/2000/svg\" height=\"24px\"viewBox=\"0 0 24 24\"\n",
              "       width=\"24px\">\n",
              "    <path d=\"M0 0h24v24H0V0z\" fill=\"none\"/>\n",
              "    <path d=\"M18.56 5.44l.94 2.06.94-2.06 2.06-.94-2.06-.94-.94-2.06-.94 2.06-2.06.94zm-11 1L8.5 8.5l.94-2.06 2.06-.94-2.06-.94L8.5 2.5l-.94 2.06-2.06.94zm10 10l.94 2.06.94-2.06 2.06-.94-2.06-.94-.94-2.06-.94 2.06-2.06.94z\"/><path d=\"M17.41 7.96l-1.37-1.37c-.4-.4-.92-.59-1.43-.59-.52 0-1.04.2-1.43.59L10.3 9.45l-7.72 7.72c-.78.78-.78 2.05 0 2.83L4 21.41c.39.39.9.59 1.41.59.51 0 1.02-.2 1.41-.59l7.78-7.78 2.81-2.81c.8-.78.8-2.07 0-2.86zM5.41 20L4 18.59l7.72-7.72 1.47 1.35L5.41 20z\"/>\n",
              "  </svg>\n",
              "      </button>\n",
              "      \n",
              "  <style>\n",
              "    .colab-df-container {\n",
              "      display:flex;\n",
              "      flex-wrap:wrap;\n",
              "      gap: 12px;\n",
              "    }\n",
              "\n",
              "    .colab-df-convert {\n",
              "      background-color: #E8F0FE;\n",
              "      border: none;\n",
              "      border-radius: 50%;\n",
              "      cursor: pointer;\n",
              "      display: none;\n",
              "      fill: #1967D2;\n",
              "      height: 32px;\n",
              "      padding: 0 0 0 0;\n",
              "      width: 32px;\n",
              "    }\n",
              "\n",
              "    .colab-df-convert:hover {\n",
              "      background-color: #E2EBFA;\n",
              "      box-shadow: 0px 1px 2px rgba(60, 64, 67, 0.3), 0px 1px 3px 1px rgba(60, 64, 67, 0.15);\n",
              "      fill: #174EA6;\n",
              "    }\n",
              "\n",
              "    [theme=dark] .colab-df-convert {\n",
              "      background-color: #3B4455;\n",
              "      fill: #D2E3FC;\n",
              "    }\n",
              "\n",
              "    [theme=dark] .colab-df-convert:hover {\n",
              "      background-color: #434B5C;\n",
              "      box-shadow: 0px 1px 3px 1px rgba(0, 0, 0, 0.15);\n",
              "      filter: drop-shadow(0px 1px 2px rgba(0, 0, 0, 0.3));\n",
              "      fill: #FFFFFF;\n",
              "    }\n",
              "  </style>\n",
              "\n",
              "      <script>\n",
              "        const buttonEl =\n",
              "          document.querySelector('#df-c6b3882e-0f7d-4f9e-9438-b597862e9f52 button.colab-df-convert');\n",
              "        buttonEl.style.display =\n",
              "          google.colab.kernel.accessAllowed ? 'block' : 'none';\n",
              "\n",
              "        async function convertToInteractive(key) {\n",
              "          const element = document.querySelector('#df-c6b3882e-0f7d-4f9e-9438-b597862e9f52');\n",
              "          const dataTable =\n",
              "            await google.colab.kernel.invokeFunction('convertToInteractive',\n",
              "                                                     [key], {});\n",
              "          if (!dataTable) return;\n",
              "\n",
              "          const docLinkHtml = 'Like what you see? Visit the ' +\n",
              "            '<a target=\"_blank\" href=https://colab.research.google.com/notebooks/data_table.ipynb>data table notebook</a>'\n",
              "            + ' to learn more about interactive tables.';\n",
              "          element.innerHTML = '';\n",
              "          dataTable['output_type'] = 'display_data';\n",
              "          await google.colab.output.renderOutput(dataTable, element);\n",
              "          const docLink = document.createElement('div');\n",
              "          docLink.innerHTML = docLinkHtml;\n",
              "          element.appendChild(docLink);\n",
              "        }\n",
              "      </script>\n",
              "    </div>\n",
              "  </div>\n",
              "  "
            ],
            "text/plain": [
              "                 customerid    id  avgrating\n",
              "0  628cb023c3ccbfbb1d5f410e     1          1\n",
              "1  633ac3aff0f1d2a7c6a29f5a  7399          1\n",
              "2  630718b7cf57702ea522b0cb   754          4\n",
              "3  63419766f0f1d24d99a34f54  7400          4\n",
              "4  62dbd5ce9670f2007f7cce70   809          3"
            ]
          },
          "execution_count": 36,
          "metadata": {},
          "output_type": "execute_result"
        }
      ],
      "source": [
        "final_df.head()"
      ]
    },
    {
      "cell_type": "code",
      "execution_count": null,
      "metadata": {
        "colab": {
          "base_uri": "https://localhost:8080/"
        },
        "id": "acp15KXgIrZB",
        "outputId": "5d77f464-d58d-4dc4-8cea-aa44c21d252d"
      },
      "outputs": [
        {
          "name": "stdout",
          "output_type": "stream",
          "text": [
            "<class 'pandas.core.frame.DataFrame'>\n",
            "Int64Index: 11895 entries, 0 to 11894\n",
            "Data columns (total 3 columns):\n",
            " #   Column      Non-Null Count  Dtype \n",
            "---  ------      --------------  ----- \n",
            " 0   customerid  11569 non-null  object\n",
            " 1   id          11895 non-null  int64 \n",
            " 2   avgrating   11895 non-null  int64 \n",
            "dtypes: int64(2), object(1)\n",
            "memory usage: 371.7+ KB\n"
          ]
        }
      ],
      "source": [
        "final_df.info()"
      ]
    },
    {
      "cell_type": "code",
      "execution_count": null,
      "metadata": {
        "id": "mkMcVHCOULas"
      },
      "outputs": [],
      "source": [
        "final_df=final_df.dropna(subset=['customerid'])"
      ]
    },
    {
      "cell_type": "code",
      "execution_count": null,
      "metadata": {
        "id": "zP4UC-gVHm81"
      },
      "outputs": [],
      "source": [
        "# label_encoder = preprocessing.LabelEncoder()\n",
        "# final_df['customerid']= label_encoder.fit_transform(final_df['customerid'])"
      ]
    },
    {
      "cell_type": "code",
      "execution_count": null,
      "metadata": {
        "id": "S16kG-2weSkT"
      },
      "outputs": [],
      "source": [
        "final_df.to_csv('final_df.csv')"
      ]
    },
    {
      "cell_type": "markdown",
      "metadata": {
        "id": "VYfQo1-MILo-"
      },
      "source": [
        "## Total number of customer, items and ratings"
      ]
    },
    {
      "cell_type": "code",
      "execution_count": null,
      "metadata": {
        "colab": {
          "base_uri": "https://localhost:8080/"
        },
        "id": "-xJRxIJCH-jr",
        "outputId": "21155ca5-26d2-4b23-a926-affab5df93a4"
      },
      "outputs": [
        {
          "name": "stdout",
          "output_type": "stream",
          "text": [
            "Total no of ratings : 11569\n",
            "No. of unique customers: 2388\n",
            "No. of unique items: 9816\n"
          ]
        }
      ],
      "source": [
        "print(\"Total no of ratings :\",final_df.shape[0])\n",
        "print(\"No. of unique customers:\", final_df[\"customerid\"].nunique())\n",
        "print(\"No. of unique items:\", final_df[\"id\"].nunique())"
      ]
    },
    {
      "cell_type": "markdown",
      "metadata": {
        "id": "ctRfMvQfJM00"
      },
      "source": [
        "## Distribution of ratings"
      ]
    },
    {
      "cell_type": "code",
      "execution_count": null,
      "metadata": {
        "colab": {
          "base_uri": "https://localhost:8080/"
        },
        "id": "cBcJBlbIJK4p",
        "outputId": "ca5febc5-9603-463c-b7fc-11fe38a61c2e"
      },
      "outputs": [
        {
          "data": {
            "text/plain": [
              "1    2372\n",
              "2    2361\n",
              "4    2337\n",
              "3    2299\n",
              "5    2200\n",
              "Name: avgrating, dtype: int64"
            ]
          },
          "execution_count": 40,
          "metadata": {},
          "output_type": "execute_result"
        }
      ],
      "source": [
        "final_df.avgrating.value_counts()"
      ]
    },
    {
      "cell_type": "markdown",
      "metadata": {
        "id": "_BpSbMv8Jof7"
      },
      "source": [
        "#  Ratings per user"
      ]
    },
    {
      "cell_type": "code",
      "execution_count": null,
      "metadata": {
        "colab": {
          "base_uri": "https://localhost:8080/"
        },
        "id": "A5b1hfmVJWSp",
        "outputId": "b2fe2a11-93c3-41d2-b901-29ef5984973a"
      },
      "outputs": [
        {
          "data": {
            "text/plain": [
              "count    2388.000000\n",
              "mean        4.844640\n",
              "std        18.560868\n",
              "min         1.000000\n",
              "25%         1.000000\n",
              "50%         2.000000\n",
              "75%         4.000000\n",
              "max       635.000000\n",
              "Name: avgrating, dtype: float64"
            ]
          },
          "execution_count": 41,
          "metadata": {},
          "output_type": "execute_result"
        }
      ],
      "source": [
        "ratings_per_user = final_df.groupby(by='customerid')['avgrating'].count()\n",
        "ratings_per_user.describe()"
      ]
    },
    {
      "cell_type": "markdown",
      "metadata": {
        "id": "VE4xbheaJ3xJ"
      },
      "source": [
        "## Ratings per items"
      ]
    },
    {
      "cell_type": "code",
      "execution_count": null,
      "metadata": {
        "colab": {
          "base_uri": "https://localhost:8080/"
        },
        "id": "VVtZce51dCfp",
        "outputId": "12af73b7-726f-4667-dfdf-61116ee51f59"
      },
      "outputs": [
        {
          "data": {
            "text/plain": [
              "62d7e395ec76434350c3b45c    635\n",
              "633434892288e00638e17613    361\n",
              "62b7faa283be59b149130ba3    238\n",
              "62dbd8ab9670f2007f7d3eef    180\n",
              "63353e88f0f1d27889a1f733    154\n",
              "                           ... \n",
              "633320ca2288e0a136e1420d      1\n",
              "62eb65a1a636f0a43d62194a      1\n",
              "62dbd7149670f2007f7d018e      1\n",
              "62dd470dec7643856cc3ca14      1\n",
              "634d0bb9c4fba05c88231703      1\n",
              "Name: customerid, Length: 2388, dtype: int64"
            ]
          },
          "execution_count": 42,
          "metadata": {},
          "output_type": "execute_result"
        }
      ],
      "source": [
        "final_df.customerid.value_counts()"
      ]
    },
    {
      "cell_type": "code",
      "execution_count": null,
      "metadata": {
        "colab": {
          "base_uri": "https://localhost:8080/"
        },
        "id": "ruVqHvIEJ3Ee",
        "outputId": "292754ac-04cc-40ed-ee6c-ba6fa8d2c2de"
      },
      "outputs": [
        {
          "data": {
            "text/plain": [
              "count    9816.000000\n",
              "mean        1.178586\n",
              "std         1.232930\n",
              "min         1.000000\n",
              "25%         1.000000\n",
              "50%         1.000000\n",
              "75%         1.000000\n",
              "max        72.000000\n",
              "Name: avgrating, dtype: float64"
            ]
          },
          "execution_count": 43,
          "metadata": {},
          "output_type": "execute_result"
        }
      ],
      "source": [
        "ratings_per_item = final_df.groupby(by='id')['avgrating'].count()\n",
        "ratings_per_item.describe()"
      ]
    },
    {
      "cell_type": "markdown",
      "metadata": {
        "id": "eLTIrsKnKlUA"
      },
      "source": [
        "# Loading as Surprise dataframe and train-test split"
      ]
    },
    {
      "cell_type": "code",
      "execution_count": null,
      "metadata": {
        "id": "gyGSI7f4KR-o"
      },
      "outputs": [],
      "source": [
        "reader = Reader()\n",
        "ratings = Dataset.load_from_df(final_df[['customerid', 'id', 'avgrating']], reader)"
      ]
    },
    {
      "cell_type": "code",
      "execution_count": null,
      "metadata": {
        "colab": {
          "base_uri": "https://localhost:8080/"
        },
        "id": "B39sSmveKwNZ",
        "outputId": "c88579ee-51da-4587-9bb7-ddddc91fd50a"
      },
      "outputs": [
        {
          "name": "stdout",
          "output_type": "stream",
          "text": [
            "Size of trainset:  9255\n",
            "Size of testset:  2314\n"
          ]
        }
      ],
      "source": [
        "train_ratings, test_ratings = train_test_split(ratings, test_size=.20, random_state = 42)\n",
        "print(\"Size of trainset: \", train_ratings.n_ratings)\n",
        "print(\"Size of testset: \", len(test_ratings))"
      ]
    },
    {
      "cell_type": "code",
      "execution_count": null,
      "metadata": {
        "id": "NlLKmGLHK0xX"
      },
      "outputs": [],
      "source": [
        "#from surprise import BaselineOnly"
      ]
    },
    {
      "cell_type": "code",
      "execution_count": null,
      "metadata": {
        "colab": {
          "base_uri": "https://localhost:8080/"
        },
        "id": "tfxZNwa4K6Fd",
        "outputId": "1778e75f-c0cb-46f2-9bbc-664442b9be8e"
      },
      "outputs": [
        {
          "data": {
            "text/plain": [
              "<surprise.prediction_algorithms.baseline_only.BaselineOnly at 0x7f54784bbb20>"
            ]
          },
          "execution_count": 47,
          "metadata": {},
          "output_type": "execute_result"
        }
      ],
      "source": [
        "# baseline_model = BaselineOnly(verbose = False)\n",
        "# baseline_model.fit(train_ratings)"
      ]
    },
    {
      "cell_type": "code",
      "execution_count": null,
      "metadata": {
        "colab": {
          "base_uri": "https://localhost:8080/"
        },
        "id": "zpqdt9B6K8wt",
        "outputId": "fe41ad96-557c-4984-bc7e-5ce085d8e0aa"
      },
      "outputs": [
        {
          "name": "stdout",
          "output_type": "stream",
          "text": [
            "RMSE on training data :  1.1973073332039819\n",
            "RMSE on test data:  1.3675671978367903\n"
          ]
        }
      ],
      "source": [
        "# train_predictions = baseline_model.test(train_ratings.build_testset())\n",
        "# test_predictions = baseline_model.test(test_ratings)\n",
        "# print(\"RMSE on training data : \", accuracy.rmse(train_predictions,verbose = False))\n",
        "# print(\"RMSE on test data: \", accuracy.rmse(test_predictions,verbose = False))"
      ]
    },
    {
      "cell_type": "code",
      "execution_count": null,
      "metadata": {
        "colab": {
          "base_uri": "https://localhost:8080/"
        },
        "id": "oc-IZhkAY3kp",
        "outputId": "0fea1120-8f2c-4792-8bad-6604753bb584"
      },
      "outputs": [
        {
          "data": {
            "text/plain": [
              "18"
            ]
          },
          "execution_count": 49,
          "metadata": {},
          "output_type": "execute_result"
        }
      ],
      "source": [
        "# df_merged.loc[df_merged.customerid=='63d102996fee010ba791308c'].item_name.value_counts().sum()"
      ]
    },
    {
      "cell_type": "code",
      "execution_count": null,
      "metadata": {
        "id": "4HvayrF9b6hm"
      },
      "outputs": [],
      "source": [
        "#rating = Dataset.load_from_df(a, reader)"
      ]
    },
    {
      "cell_type": "code",
      "execution_count": null,
      "metadata": {
        "colab": {
          "base_uri": "https://localhost:8080/",
          "height": 165
        },
        "id": "J4s3lgIvcF7f",
        "outputId": "4023dc95-bcc2-4cdf-99e3-caf1391c4773"
      },
      "outputs": [
        {
          "ename": "NameError",
          "evalue": "ignored",
          "output_type": "error",
          "traceback": [
            "\u001b[0;31m---------------------------------------------------------------------------\u001b[0m",
            "\u001b[0;31mNameError\u001b[0m                                 Traceback (most recent call last)",
            "\u001b[0;32m<ipython-input-36-47970af69bcb>\u001b[0m in \u001b[0;36m<cell line: 1>\u001b[0;34m()\u001b[0m\n\u001b[0;32m----> 1\u001b[0;31m \u001b[0mitem_ratings\u001b[0m \u001b[0;34m=\u001b[0m \u001b[0mtrain_test_split\u001b[0m\u001b[0;34m(\u001b[0m\u001b[0mrating\u001b[0m\u001b[0;34m,\u001b[0m \u001b[0mrandom_state\u001b[0m \u001b[0;34m=\u001b[0m \u001b[0;36m42\u001b[0m\u001b[0;34m)\u001b[0m\u001b[0;34m\u001b[0m\u001b[0;34m\u001b[0m\u001b[0m\n\u001b[0m",
            "\u001b[0;31mNameError\u001b[0m: name 'rating' is not defined"
          ]
        }
      ],
      "source": [
        "#item_ratings = train_test_split(rating, random_state = 42)"
      ]
    },
    {
      "cell_type": "code",
      "execution_count": null,
      "metadata": {
        "id": "Ui2fkmsxNnFn"
      },
      "outputs": [],
      "source": [
        "from surprise import SVD"
      ]
    },
    {
      "cell_type": "code",
      "execution_count": null,
      "metadata": {
        "colab": {
          "base_uri": "https://localhost:8080/"
        },
        "id": "LdevbBgUN1Rp",
        "outputId": "a062cdbf-e5d1-4198-c0a3-d6e597791a45"
      },
      "outputs": [
        {
          "data": {
            "text/plain": [
              "<surprise.prediction_algorithms.matrix_factorization.SVD at 0x7f5446bc1bb0>"
            ]
          },
          "execution_count": 51,
          "metadata": {},
          "output_type": "execute_result"
        }
      ],
      "source": [
        "svd_model = SVD(random_state = 42)\n",
        "svd_model.fit(train_ratings)"
      ]
    },
    {
      "cell_type": "code",
      "execution_count": null,
      "metadata": {
        "colab": {
          "base_uri": "https://localhost:8080/"
        },
        "id": "FBOSM5koN4Hk",
        "outputId": "6c8c195c-7a51-4329-d8ec-1053d8cb4b85"
      },
      "outputs": [
        {
          "name": "stdout",
          "output_type": "stream",
          "text": [
            "RMSE on training data :  0.8738979704330262\n",
            "RMSE on test data:  1.3076715202890457\n"
          ]
        }
      ],
      "source": [
        "train_predictions = svd_model.test(train_ratings.build_testset())\n",
        "test_predictions = svd_model.test(test_ratings)\n",
        "print(\"RMSE on training data : \", accuracy.rmse(train_predictions, verbose = False))\n",
        "print(\"RMSE on test data: \", accuracy.rmse(test_predictions, verbose = False))"
      ]
    },
    {
      "cell_type": "code",
      "execution_count": null,
      "metadata": {
        "id": "aihih8PadU7Y"
      },
      "outputs": [],
      "source": [
        "import pickle\n",
        "\n",
        "# Load saved model from pickle file\n",
        "with open('model/svd_model.pkl', 'wb') as f:\n",
        "    pickle.dump(svd_model, f)"
      ]
    },
    {
      "cell_type": "code",
      "execution_count": null,
      "metadata": {
        "id": "Ioxa8GKFcVhg"
      },
      "outputs": [],
      "source": [
        "item_predictions = svd_model.test(train_ratings.build_testset())"
      ]
    },
    {
      "cell_type": "code",
      "execution_count": null,
      "metadata": {
        "colab": {
          "base_uri": "https://localhost:8080/",
          "height": 513
        },
        "id": "1YvUqnfgLAtG",
        "outputId": "d91ec701-34d6-478e-bb31-5c6e91ddfa09"
      },
      "outputs": [
        {
          "data": {
            "text/html": [
              "\n",
              "  <div id=\"df-55b1dd0e-2ffb-423a-9e82-8f8420267c0b\">\n",
              "    <div class=\"colab-df-container\">\n",
              "      <div>\n",
              "<style scoped>\n",
              "    .dataframe tbody tr th:only-of-type {\n",
              "        vertical-align: middle;\n",
              "    }\n",
              "\n",
              "    .dataframe tbody tr th {\n",
              "        vertical-align: top;\n",
              "    }\n",
              "\n",
              "    .dataframe thead th {\n",
              "        text-align: right;\n",
              "    }\n",
              "</style>\n",
              "<table border=\"1\" class=\"dataframe\">\n",
              "  <thead>\n",
              "    <tr style=\"text-align: right;\">\n",
              "      <th></th>\n",
              "      <th>item_name</th>\n",
              "      <th>market</th>\n",
              "      <th>price</th>\n",
              "      <th>avgrating</th>\n",
              "      <th>id</th>\n",
              "      <th>images</th>\n",
              "      <th>dealprice</th>\n",
              "      <th>type</th>\n",
              "      <th>discount</th>\n",
              "      <th>discountpercent</th>\n",
              "      <th>state</th>\n",
              "    </tr>\n",
              "  </thead>\n",
              "  <tbody>\n",
              "    <tr>\n",
              "      <th>3038</th>\n",
              "      <td>Abhisarika Fabulous Grey Women Kurta Sets</td>\n",
              "      <td>Clothes &amp; Fashion</td>\n",
              "      <td>1899.0</td>\n",
              "      <td>5</td>\n",
              "      <td>2500</td>\n",
              "      <td>https://teka-prod.s3.amazonaws.com/images/sell...</td>\n",
              "      <td>1709.1</td>\n",
              "      <td>PRODUCT</td>\n",
              "      <td>NaN</td>\n",
              "      <td>10</td>\n",
              "      <td>Telangana</td>\n",
              "    </tr>\n",
              "    <tr>\n",
              "      <th>847</th>\n",
              "      <td>Coffee</td>\n",
              "      <td>Food &amp; Restaurants</td>\n",
              "      <td>80.0</td>\n",
              "      <td>5</td>\n",
              "      <td>1680</td>\n",
              "      <td>https://teka-prod.s3.amazonaws.com/images/sell...</td>\n",
              "      <td>NaN</td>\n",
              "      <td>PRODUCT</td>\n",
              "      <td>NaN</td>\n",
              "      <td>NaN</td>\n",
              "      <td>Telangana</td>\n",
              "    </tr>\n",
              "    <tr>\n",
              "      <th>3135</th>\n",
              "      <td>Lime Glycerin Soap 100 Gms</td>\n",
              "      <td>Grocery</td>\n",
              "      <td>95.0</td>\n",
              "      <td>5</td>\n",
              "      <td>2732</td>\n",
              "      <td>https://teka-prod.s3.amazonaws.com/images/sell...</td>\n",
              "      <td>NaN</td>\n",
              "      <td>PRODUCT</td>\n",
              "      <td>NaN</td>\n",
              "      <td>NaN</td>\n",
              "      <td>Telangana</td>\n",
              "    </tr>\n",
              "    <tr>\n",
              "      <th>980</th>\n",
              "      <td>Tie White Satin Skinny Tie</td>\n",
              "      <td>Clothes &amp; Fashion</td>\n",
              "      <td>299.0</td>\n",
              "      <td>5</td>\n",
              "      <td>656</td>\n",
              "      <td>https://teka-prod.s3.amazonaws.com/images/sell...</td>\n",
              "      <td>293</td>\n",
              "      <td>PRODUCT</td>\n",
              "      <td>6.0</td>\n",
              "      <td>NaN</td>\n",
              "      <td>Telangana</td>\n",
              "    </tr>\n",
              "    <tr>\n",
              "      <th>3110</th>\n",
              "      <td>Adrika Graceful Black Women Kurta Sets</td>\n",
              "      <td>Clothes &amp; Fashion</td>\n",
              "      <td>1799.0</td>\n",
              "      <td>5</td>\n",
              "      <td>2561</td>\n",
              "      <td>https://teka-prod.s3.amazonaws.com/images/sell...</td>\n",
              "      <td>1619.1</td>\n",
              "      <td>PRODUCT</td>\n",
              "      <td>NaN</td>\n",
              "      <td>10</td>\n",
              "      <td>Telangana</td>\n",
              "    </tr>\n",
              "  </tbody>\n",
              "</table>\n",
              "</div>\n",
              "      <button class=\"colab-df-convert\" onclick=\"convertToInteractive('df-55b1dd0e-2ffb-423a-9e82-8f8420267c0b')\"\n",
              "              title=\"Convert this dataframe to an interactive table.\"\n",
              "              style=\"display:none;\">\n",
              "        \n",
              "  <svg xmlns=\"http://www.w3.org/2000/svg\" height=\"24px\"viewBox=\"0 0 24 24\"\n",
              "       width=\"24px\">\n",
              "    <path d=\"M0 0h24v24H0V0z\" fill=\"none\"/>\n",
              "    <path d=\"M18.56 5.44l.94 2.06.94-2.06 2.06-.94-2.06-.94-.94-2.06-.94 2.06-2.06.94zm-11 1L8.5 8.5l.94-2.06 2.06-.94-2.06-.94L8.5 2.5l-.94 2.06-2.06.94zm10 10l.94 2.06.94-2.06 2.06-.94-2.06-.94-.94-2.06-.94 2.06-2.06.94z\"/><path d=\"M17.41 7.96l-1.37-1.37c-.4-.4-.92-.59-1.43-.59-.52 0-1.04.2-1.43.59L10.3 9.45l-7.72 7.72c-.78.78-.78 2.05 0 2.83L4 21.41c.39.39.9.59 1.41.59.51 0 1.02-.2 1.41-.59l7.78-7.78 2.81-2.81c.8-.78.8-2.07 0-2.86zM5.41 20L4 18.59l7.72-7.72 1.47 1.35L5.41 20z\"/>\n",
              "  </svg>\n",
              "      </button>\n",
              "      \n",
              "  <style>\n",
              "    .colab-df-container {\n",
              "      display:flex;\n",
              "      flex-wrap:wrap;\n",
              "      gap: 12px;\n",
              "    }\n",
              "\n",
              "    .colab-df-convert {\n",
              "      background-color: #E8F0FE;\n",
              "      border: none;\n",
              "      border-radius: 50%;\n",
              "      cursor: pointer;\n",
              "      display: none;\n",
              "      fill: #1967D2;\n",
              "      height: 32px;\n",
              "      padding: 0 0 0 0;\n",
              "      width: 32px;\n",
              "    }\n",
              "\n",
              "    .colab-df-convert:hover {\n",
              "      background-color: #E2EBFA;\n",
              "      box-shadow: 0px 1px 2px rgba(60, 64, 67, 0.3), 0px 1px 3px 1px rgba(60, 64, 67, 0.15);\n",
              "      fill: #174EA6;\n",
              "    }\n",
              "\n",
              "    [theme=dark] .colab-df-convert {\n",
              "      background-color: #3B4455;\n",
              "      fill: #D2E3FC;\n",
              "    }\n",
              "\n",
              "    [theme=dark] .colab-df-convert:hover {\n",
              "      background-color: #434B5C;\n",
              "      box-shadow: 0px 1px 3px 1px rgba(0, 0, 0, 0.15);\n",
              "      filter: drop-shadow(0px 1px 2px rgba(0, 0, 0, 0.3));\n",
              "      fill: #FFFFFF;\n",
              "    }\n",
              "  </style>\n",
              "\n",
              "      <script>\n",
              "        const buttonEl =\n",
              "          document.querySelector('#df-55b1dd0e-2ffb-423a-9e82-8f8420267c0b button.colab-df-convert');\n",
              "        buttonEl.style.display =\n",
              "          google.colab.kernel.accessAllowed ? 'block' : 'none';\n",
              "\n",
              "        async function convertToInteractive(key) {\n",
              "          const element = document.querySelector('#df-55b1dd0e-2ffb-423a-9e82-8f8420267c0b');\n",
              "          const dataTable =\n",
              "            await google.colab.kernel.invokeFunction('convertToInteractive',\n",
              "                                                     [key], {});\n",
              "          if (!dataTable) return;\n",
              "\n",
              "          const docLinkHtml = 'Like what you see? Visit the ' +\n",
              "            '<a target=\"_blank\" href=https://colab.research.google.com/notebooks/data_table.ipynb>data table notebook</a>'\n",
              "            + ' to learn more about interactive tables.';\n",
              "          element.innerHTML = '';\n",
              "          dataTable['output_type'] = 'display_data';\n",
              "          await google.colab.output.renderOutput(dataTable, element);\n",
              "          const docLink = document.createElement('div');\n",
              "          docLink.innerHTML = docLinkHtml;\n",
              "          element.appendChild(docLink);\n",
              "        }\n",
              "      </script>\n",
              "    </div>\n",
              "  </div>\n",
              "  "
            ],
            "text/plain": [
              "                                      item_name              market   price  \\\n",
              "3038  Abhisarika Fabulous Grey Women Kurta Sets   Clothes & Fashion  1899.0   \n",
              "847                                      Coffee  Food & Restaurants    80.0   \n",
              "3135                 Lime Glycerin Soap 100 Gms             Grocery    95.0   \n",
              "980                  Tie White Satin Skinny Tie   Clothes & Fashion   299.0   \n",
              "3110     Adrika Graceful Black Women Kurta Sets   Clothes & Fashion  1799.0   \n",
              "\n",
              "      avgrating    id                                             images  \\\n",
              "3038          5  2500  https://teka-prod.s3.amazonaws.com/images/sell...   \n",
              "847           5  1680  https://teka-prod.s3.amazonaws.com/images/sell...   \n",
              "3135          5  2732  https://teka-prod.s3.amazonaws.com/images/sell...   \n",
              "980           5   656  https://teka-prod.s3.amazonaws.com/images/sell...   \n",
              "3110          5  2561  https://teka-prod.s3.amazonaws.com/images/sell...   \n",
              "\n",
              "     dealprice     type  discount discountpercent      state  \n",
              "3038    1709.1  PRODUCT       NaN              10  Telangana  \n",
              "847        NaN  PRODUCT       NaN             NaN  Telangana  \n",
              "3135       NaN  PRODUCT       NaN             NaN  Telangana  \n",
              "980        293  PRODUCT       6.0             NaN  Telangana  \n",
              "3110    1619.1  PRODUCT       NaN              10  Telangana  "
            ]
          },
          "execution_count": 71,
          "metadata": {},
          "output_type": "execute_result"
        }
      ],
      "source": [
        "def get_top_n_recommendations(customerid,predictions, n=11569):\n",
        "    predict_ratings = {}\n",
        "    # loop for getting predictions for the user\n",
        "    for uid, iid, true_r, est, _ in predictions:\n",
        "        if (uid==customerid):\n",
        "            predict_ratings[iid] = est\n",
        "    predict_ratings = sorted(predict_ratings.items(), key=lambda kv: kv[1],reverse=True)[:n]\n",
        "    top_items = [i[0] for i in predict_ratings]\n",
        "    # print(top_items)\n",
        "    # top_items = [str(i) for i in top_items]\n",
        "    # print(\"=\"*10,\"Recommended movies for user {} :\".format(customerid),\"=\"*10)\n",
        "    # print(df_merged[df_merged[\"id\"].isin(top_items)][\"item_name\"].to_string(index=False))\n",
        "    return data_merged[data_merged[\"id\"].isin(top_items)][[\"item_name\",\"market\",\"price\",\"avgrating\",'id','images','dealprice','type','discount','discountpercent','state']].sort_values(by=['avgrating'],ascending=False)\n",
        "get_top_n_recommendations('633434892288e00638e17613',item_predictions).head()"
      ]
    },
    {
      "cell_type": "markdown",
      "metadata": {
        "id": "FxTnMyskWjhK"
      },
      "source": [
        "## New user recommendation"
      ]
    },
    {
      "cell_type": "code",
      "execution_count": null,
      "metadata": {
        "id": "zSCH3_ZUN7ip"
      },
      "outputs": [],
      "source": [
        "# new_user_id = 'new_user'\n",
        "new_user = [('new_user',7399, 4), ('new_user',754, 5), ('new_user',7400, 3)]\n",
        "\n",
        "new_user_predictions = baseline_model.test(new_user)\n",
        "\n"
      ]
    },
    {
      "cell_type": "code",
      "execution_count": null,
      "metadata": {
        "colab": {
          "base_uri": "https://localhost:8080/",
          "height": 143
        },
        "id": "yfeycSeMX30y",
        "outputId": "d583cd09-9961-40f8-b2b0-84a97f2d0b81"
      },
      "outputs": [
        {
          "data": {
            "text/html": [
              "\n",
              "  <div id=\"df-35d23799-e93f-4bd2-a755-e48863ff4ea2\">\n",
              "    <div class=\"colab-df-container\">\n",
              "      <div>\n",
              "<style scoped>\n",
              "    .dataframe tbody tr th:only-of-type {\n",
              "        vertical-align: middle;\n",
              "    }\n",
              "\n",
              "    .dataframe tbody tr th {\n",
              "        vertical-align: top;\n",
              "    }\n",
              "\n",
              "    .dataframe thead th {\n",
              "        text-align: right;\n",
              "    }\n",
              "</style>\n",
              "<table border=\"1\" class=\"dataframe\">\n",
              "  <thead>\n",
              "    <tr style=\"text-align: right;\">\n",
              "      <th></th>\n",
              "      <th>item_name</th>\n",
              "      <th>market</th>\n",
              "      <th>price</th>\n",
              "      <th>avgrating</th>\n",
              "      <th>state</th>\n",
              "    </tr>\n",
              "  </thead>\n",
              "  <tbody>\n",
              "    <tr>\n",
              "      <th>2</th>\n",
              "      <td>Jeera</td>\n",
              "      <td>Grocery</td>\n",
              "      <td>1.0</td>\n",
              "      <td>4</td>\n",
              "      <td>Telangana</td>\n",
              "    </tr>\n",
              "    <tr>\n",
              "      <th>3</th>\n",
              "      <td>Roti</td>\n",
              "      <td>Food &amp; Restaurants</td>\n",
              "      <td>35.0</td>\n",
              "      <td>4</td>\n",
              "      <td>NaN</td>\n",
              "    </tr>\n",
              "    <tr>\n",
              "      <th>1</th>\n",
              "      <td>WingsBiryani</td>\n",
              "      <td>Food &amp; Restaurants</td>\n",
              "      <td>339.0</td>\n",
              "      <td>1</td>\n",
              "      <td>NaN</td>\n",
              "    </tr>\n",
              "  </tbody>\n",
              "</table>\n",
              "</div>\n",
              "      <button class=\"colab-df-convert\" onclick=\"convertToInteractive('df-35d23799-e93f-4bd2-a755-e48863ff4ea2')\"\n",
              "              title=\"Convert this dataframe to an interactive table.\"\n",
              "              style=\"display:none;\">\n",
              "        \n",
              "  <svg xmlns=\"http://www.w3.org/2000/svg\" height=\"24px\"viewBox=\"0 0 24 24\"\n",
              "       width=\"24px\">\n",
              "    <path d=\"M0 0h24v24H0V0z\" fill=\"none\"/>\n",
              "    <path d=\"M18.56 5.44l.94 2.06.94-2.06 2.06-.94-2.06-.94-.94-2.06-.94 2.06-2.06.94zm-11 1L8.5 8.5l.94-2.06 2.06-.94-2.06-.94L8.5 2.5l-.94 2.06-2.06.94zm10 10l.94 2.06.94-2.06 2.06-.94-2.06-.94-.94-2.06-.94 2.06-2.06.94z\"/><path d=\"M17.41 7.96l-1.37-1.37c-.4-.4-.92-.59-1.43-.59-.52 0-1.04.2-1.43.59L10.3 9.45l-7.72 7.72c-.78.78-.78 2.05 0 2.83L4 21.41c.39.39.9.59 1.41.59.51 0 1.02-.2 1.41-.59l7.78-7.78 2.81-2.81c.8-.78.8-2.07 0-2.86zM5.41 20L4 18.59l7.72-7.72 1.47 1.35L5.41 20z\"/>\n",
              "  </svg>\n",
              "      </button>\n",
              "      \n",
              "  <style>\n",
              "    .colab-df-container {\n",
              "      display:flex;\n",
              "      flex-wrap:wrap;\n",
              "      gap: 12px;\n",
              "    }\n",
              "\n",
              "    .colab-df-convert {\n",
              "      background-color: #E8F0FE;\n",
              "      border: none;\n",
              "      border-radius: 50%;\n",
              "      cursor: pointer;\n",
              "      display: none;\n",
              "      fill: #1967D2;\n",
              "      height: 32px;\n",
              "      padding: 0 0 0 0;\n",
              "      width: 32px;\n",
              "    }\n",
              "\n",
              "    .colab-df-convert:hover {\n",
              "      background-color: #E2EBFA;\n",
              "      box-shadow: 0px 1px 2px rgba(60, 64, 67, 0.3), 0px 1px 3px 1px rgba(60, 64, 67, 0.15);\n",
              "      fill: #174EA6;\n",
              "    }\n",
              "\n",
              "    [theme=dark] .colab-df-convert {\n",
              "      background-color: #3B4455;\n",
              "      fill: #D2E3FC;\n",
              "    }\n",
              "\n",
              "    [theme=dark] .colab-df-convert:hover {\n",
              "      background-color: #434B5C;\n",
              "      box-shadow: 0px 1px 3px 1px rgba(0, 0, 0, 0.15);\n",
              "      filter: drop-shadow(0px 1px 2px rgba(0, 0, 0, 0.3));\n",
              "      fill: #FFFFFF;\n",
              "    }\n",
              "  </style>\n",
              "\n",
              "      <script>\n",
              "        const buttonEl =\n",
              "          document.querySelector('#df-35d23799-e93f-4bd2-a755-e48863ff4ea2 button.colab-df-convert');\n",
              "        buttonEl.style.display =\n",
              "          google.colab.kernel.accessAllowed ? 'block' : 'none';\n",
              "\n",
              "        async function convertToInteractive(key) {\n",
              "          const element = document.querySelector('#df-35d23799-e93f-4bd2-a755-e48863ff4ea2');\n",
              "          const dataTable =\n",
              "            await google.colab.kernel.invokeFunction('convertToInteractive',\n",
              "                                                     [key], {});\n",
              "          if (!dataTable) return;\n",
              "\n",
              "          const docLinkHtml = 'Like what you see? Visit the ' +\n",
              "            '<a target=\"_blank\" href=https://colab.research.google.com/notebooks/data_table.ipynb>data table notebook</a>'\n",
              "            + ' to learn more about interactive tables.';\n",
              "          element.innerHTML = '';\n",
              "          dataTable['output_type'] = 'display_data';\n",
              "          await google.colab.output.renderOutput(dataTable, element);\n",
              "          const docLink = document.createElement('div');\n",
              "          docLink.innerHTML = docLinkHtml;\n",
              "          element.appendChild(docLink);\n",
              "        }\n",
              "      </script>\n",
              "    </div>\n",
              "  </div>\n",
              "  "
            ],
            "text/plain": [
              "      item_name              market  price  avgrating      state\n",
              "2         Jeera             Grocery    1.0          4  Telangana\n",
              "3          Roti  Food & Restaurants   35.0          4        NaN\n",
              "1  WingsBiryani  Food & Restaurants  339.0          1        NaN"
            ]
          },
          "execution_count": 40,
          "metadata": {},
          "output_type": "execute_result"
        }
      ],
      "source": [
        "get_top_n_recommendations('new_user',new_user_predictions)"
      ]
    },
    {
      "cell_type": "markdown",
      "metadata": {
        "id": "G0zYLwyQnWXE"
      },
      "source": [
        "## Trending items"
      ]
    },
    {
      "cell_type": "code",
      "execution_count": null,
      "metadata": {
        "id": "r-bmvM1rnZyU"
      },
      "outputs": [],
      "source": [
        "from collections import defaultdict"
      ]
    },
    {
      "cell_type": "code",
      "execution_count": null,
      "metadata": {
        "id": "I-RsD1wzndp7"
      },
      "outputs": [],
      "source": [
        "# item_popularity = defaultdict(int)\n",
        "# for user, item, rating in train_ratings.all_ratings():\n",
        "#     item_popularity[item] += 1\n",
        "\n",
        "# # Get the top-N trending items\n",
        "# n = 10 # number of items to recommend\n",
        "# top_n = sorted(item_popularity.items(), key=lambda x: -x[1])[:n]\n",
        "\n",
        "# # Print the top-N trending items\n",
        "# print('Top-N trending items:')\n",
        "# for item_id, _ in top_n:\n",
        "#     print(df_merged.loc[df_merged.id==item_id].item_name)"
      ]
    },
    {
      "cell_type": "code",
      "execution_count": null,
      "metadata": {
        "id": "P9rHpd88gNwf"
      },
      "outputs": [],
      "source": [
        "data=get_top_n_recommendations('62d7e395ec76434350c3b45c',item_predictions)"
      ]
    },
    {
      "cell_type": "code",
      "execution_count": null,
      "metadata": {
        "id": "mDhgPFZo2VhZ"
      },
      "outputs": [],
      "source": [
        "def user_location(area):\n",
        "  g=data.groupby(['state'])\n",
        "  data_state=g.get_group(area)\n",
        "  return data_state"
      ]
    },
    {
      "cell_type": "code",
      "execution_count": null,
      "metadata": {
        "colab": {
          "base_uri": "https://localhost:8080/",
          "height": 1000
        },
        "id": "LA-NQVR52qyB",
        "outputId": "6fdba4ff-6d00-4d62-8996-b9f6b575748a"
      },
      "outputs": [
        {
          "data": {
            "text/html": [
              "\n",
              "  <div id=\"df-5f5757ee-3b4a-4bf0-882d-a8bc4cbad140\">\n",
              "    <div class=\"colab-df-container\">\n",
              "      <div>\n",
              "<style scoped>\n",
              "    .dataframe tbody tr th:only-of-type {\n",
              "        vertical-align: middle;\n",
              "    }\n",
              "\n",
              "    .dataframe tbody tr th {\n",
              "        vertical-align: top;\n",
              "    }\n",
              "\n",
              "    .dataframe thead th {\n",
              "        text-align: right;\n",
              "    }\n",
              "</style>\n",
              "<table border=\"1\" class=\"dataframe\">\n",
              "  <thead>\n",
              "    <tr style=\"text-align: right;\">\n",
              "      <th></th>\n",
              "      <th>item_name</th>\n",
              "      <th>market</th>\n",
              "      <th>price</th>\n",
              "      <th>avgrating</th>\n",
              "      <th>id</th>\n",
              "      <th>images</th>\n",
              "      <th>dealprice</th>\n",
              "      <th>type</th>\n",
              "      <th>discount</th>\n",
              "      <th>discountpercent</th>\n",
              "      <th>state</th>\n",
              "    </tr>\n",
              "  </thead>\n",
              "  <tbody>\n",
              "    <tr>\n",
              "      <th>4844</th>\n",
              "      <td>Purple Softwear Plain Shrug</td>\n",
              "      <td>Clothes &amp; Fashion</td>\n",
              "      <td>499.0</td>\n",
              "      <td>5</td>\n",
              "      <td>3956</td>\n",
              "      <td>https://teka-prod.s3.amazonaws.com/images/sell...</td>\n",
              "      <td>449.1</td>\n",
              "      <td>PRODUCT</td>\n",
              "      <td>NaN</td>\n",
              "      <td>10</td>\n",
              "      <td>Telangana</td>\n",
              "    </tr>\n",
              "    <tr>\n",
              "      <th>9207</th>\n",
              "      <td>Cotton Handkerchief For Men - Pack Of 12</td>\n",
              "      <td>Clothes &amp; Fashion</td>\n",
              "      <td>2299.0</td>\n",
              "      <td>5</td>\n",
              "      <td>7655</td>\n",
              "      <td>https://teka-prod.s3.amazonaws.com/images/sell...</td>\n",
              "      <td>2253</td>\n",
              "      <td>PRODUCT</td>\n",
              "      <td>46.0</td>\n",
              "      <td>NaN</td>\n",
              "      <td>Telangana</td>\n",
              "    </tr>\n",
              "    <tr>\n",
              "      <th>9208</th>\n",
              "      <td>Cotton Handkerchief For Men - Pack Of 12</td>\n",
              "      <td>Clothes &amp; Fashion</td>\n",
              "      <td>2299.0</td>\n",
              "      <td>5</td>\n",
              "      <td>7655</td>\n",
              "      <td>https://teka-prod.s3.amazonaws.com/images/sell...</td>\n",
              "      <td>2253</td>\n",
              "      <td>PRODUCT</td>\n",
              "      <td>46.0</td>\n",
              "      <td>NaN</td>\n",
              "      <td>Telangana</td>\n",
              "    </tr>\n",
              "    <tr>\n",
              "      <th>7662</th>\n",
              "      <td>CAIRON MAROON STRIPE CASUAL SHIRT</td>\n",
              "      <td>Clothes &amp; Fashion</td>\n",
              "      <td>1155.0</td>\n",
              "      <td>5</td>\n",
              "      <td>6303</td>\n",
              "      <td>https://teka-prod.s3.amazonaws.com/images/sell...</td>\n",
              "      <td>1039.5</td>\n",
              "      <td>PRODUCT</td>\n",
              "      <td>NaN</td>\n",
              "      <td>10</td>\n",
              "      <td>Telangana</td>\n",
              "    </tr>\n",
              "    <tr>\n",
              "      <th>7661</th>\n",
              "      <td>CAIRON MAROON STRIPE CASUAL SHIRT</td>\n",
              "      <td>Clothes &amp; Fashion</td>\n",
              "      <td>1155.0</td>\n",
              "      <td>5</td>\n",
              "      <td>6303</td>\n",
              "      <td>https://teka-prod.s3.amazonaws.com/images/sell...</td>\n",
              "      <td>1039.5</td>\n",
              "      <td>PRODUCT</td>\n",
              "      <td>NaN</td>\n",
              "      <td>10</td>\n",
              "      <td>Telangana</td>\n",
              "    </tr>\n",
              "    <tr>\n",
              "      <th>...</th>\n",
              "      <td>...</td>\n",
              "      <td>...</td>\n",
              "      <td>...</td>\n",
              "      <td>...</td>\n",
              "      <td>...</td>\n",
              "      <td>...</td>\n",
              "      <td>...</td>\n",
              "      <td>...</td>\n",
              "      <td>...</td>\n",
              "      <td>...</td>\n",
              "      <td>...</td>\n",
              "    </tr>\n",
              "    <tr>\n",
              "      <th>8185</th>\n",
              "      <td>Dabur Vatika Smooth &amp; Silky Hair Shampoo 16 N ...</td>\n",
              "      <td>Grocery</td>\n",
              "      <td>16.0</td>\n",
              "      <td>1</td>\n",
              "      <td>6802</td>\n",
              "      <td>https://teka-prod.s3.amazonaws.com/images/sell...</td>\n",
              "      <td>14.22</td>\n",
              "      <td>PRODUCT</td>\n",
              "      <td>NaN</td>\n",
              "      <td>11.11</td>\n",
              "      <td>Telangana</td>\n",
              "    </tr>\n",
              "    <tr>\n",
              "      <th>8184</th>\n",
              "      <td>Dabur Vatika Smooth &amp; Silky Hair Shampoo 16 N ...</td>\n",
              "      <td>Grocery</td>\n",
              "      <td>16.0</td>\n",
              "      <td>1</td>\n",
              "      <td>6802</td>\n",
              "      <td>https://teka-prod.s3.amazonaws.com/images/sell...</td>\n",
              "      <td>14.22</td>\n",
              "      <td>PRODUCT</td>\n",
              "      <td>NaN</td>\n",
              "      <td>11.11</td>\n",
              "      <td>Telangana</td>\n",
              "    </tr>\n",
              "    <tr>\n",
              "      <th>8181</th>\n",
              "      <td>Dabur Vatika Smooth &amp; Silky Hair Shampoo 16 N ...</td>\n",
              "      <td>Grocery</td>\n",
              "      <td>16.0</td>\n",
              "      <td>1</td>\n",
              "      <td>6802</td>\n",
              "      <td>https://teka-prod.s3.amazonaws.com/images/sell...</td>\n",
              "      <td>14.22</td>\n",
              "      <td>PRODUCT</td>\n",
              "      <td>NaN</td>\n",
              "      <td>11.11</td>\n",
              "      <td>Telangana</td>\n",
              "    </tr>\n",
              "    <tr>\n",
              "      <th>5004</th>\n",
              "      <td>Latest Red Harem Pant (Premium</td>\n",
              "      <td>Clothes &amp; Fashion</td>\n",
              "      <td>1389.0</td>\n",
              "      <td>1</td>\n",
              "      <td>4061</td>\n",
              "      <td>https://teka-prod.s3.amazonaws.com/images/sell...</td>\n",
              "      <td>1250.1</td>\n",
              "      <td>PRODUCT</td>\n",
              "      <td>NaN</td>\n",
              "      <td>10</td>\n",
              "      <td>Telangana</td>\n",
              "    </tr>\n",
              "    <tr>\n",
              "      <th>5495</th>\n",
              "      <td>Name</td>\n",
              "      <td>Clothes &amp; Fashion</td>\n",
              "      <td>1500.0</td>\n",
              "      <td>1</td>\n",
              "      <td>4446</td>\n",
              "      <td>https://teka-prod.s3.amazonaws.com/images/sell...</td>\n",
              "      <td>1350</td>\n",
              "      <td>PRODUCT</td>\n",
              "      <td>NaN</td>\n",
              "      <td>10</td>\n",
              "      <td>Telangana</td>\n",
              "    </tr>\n",
              "  </tbody>\n",
              "</table>\n",
              "<p>381 rows × 11 columns</p>\n",
              "</div>\n",
              "      <button class=\"colab-df-convert\" onclick=\"convertToInteractive('df-5f5757ee-3b4a-4bf0-882d-a8bc4cbad140')\"\n",
              "              title=\"Convert this dataframe to an interactive table.\"\n",
              "              style=\"display:none;\">\n",
              "        \n",
              "  <svg xmlns=\"http://www.w3.org/2000/svg\" height=\"24px\"viewBox=\"0 0 24 24\"\n",
              "       width=\"24px\">\n",
              "    <path d=\"M0 0h24v24H0V0z\" fill=\"none\"/>\n",
              "    <path d=\"M18.56 5.44l.94 2.06.94-2.06 2.06-.94-2.06-.94-.94-2.06-.94 2.06-2.06.94zm-11 1L8.5 8.5l.94-2.06 2.06-.94-2.06-.94L8.5 2.5l-.94 2.06-2.06.94zm10 10l.94 2.06.94-2.06 2.06-.94-2.06-.94-.94-2.06-.94 2.06-2.06.94z\"/><path d=\"M17.41 7.96l-1.37-1.37c-.4-.4-.92-.59-1.43-.59-.52 0-1.04.2-1.43.59L10.3 9.45l-7.72 7.72c-.78.78-.78 2.05 0 2.83L4 21.41c.39.39.9.59 1.41.59.51 0 1.02-.2 1.41-.59l7.78-7.78 2.81-2.81c.8-.78.8-2.07 0-2.86zM5.41 20L4 18.59l7.72-7.72 1.47 1.35L5.41 20z\"/>\n",
              "  </svg>\n",
              "      </button>\n",
              "      \n",
              "  <style>\n",
              "    .colab-df-container {\n",
              "      display:flex;\n",
              "      flex-wrap:wrap;\n",
              "      gap: 12px;\n",
              "    }\n",
              "\n",
              "    .colab-df-convert {\n",
              "      background-color: #E8F0FE;\n",
              "      border: none;\n",
              "      border-radius: 50%;\n",
              "      cursor: pointer;\n",
              "      display: none;\n",
              "      fill: #1967D2;\n",
              "      height: 32px;\n",
              "      padding: 0 0 0 0;\n",
              "      width: 32px;\n",
              "    }\n",
              "\n",
              "    .colab-df-convert:hover {\n",
              "      background-color: #E2EBFA;\n",
              "      box-shadow: 0px 1px 2px rgba(60, 64, 67, 0.3), 0px 1px 3px 1px rgba(60, 64, 67, 0.15);\n",
              "      fill: #174EA6;\n",
              "    }\n",
              "\n",
              "    [theme=dark] .colab-df-convert {\n",
              "      background-color: #3B4455;\n",
              "      fill: #D2E3FC;\n",
              "    }\n",
              "\n",
              "    [theme=dark] .colab-df-convert:hover {\n",
              "      background-color: #434B5C;\n",
              "      box-shadow: 0px 1px 3px 1px rgba(0, 0, 0, 0.15);\n",
              "      filter: drop-shadow(0px 1px 2px rgba(0, 0, 0, 0.3));\n",
              "      fill: #FFFFFF;\n",
              "    }\n",
              "  </style>\n",
              "\n",
              "      <script>\n",
              "        const buttonEl =\n",
              "          document.querySelector('#df-5f5757ee-3b4a-4bf0-882d-a8bc4cbad140 button.colab-df-convert');\n",
              "        buttonEl.style.display =\n",
              "          google.colab.kernel.accessAllowed ? 'block' : 'none';\n",
              "\n",
              "        async function convertToInteractive(key) {\n",
              "          const element = document.querySelector('#df-5f5757ee-3b4a-4bf0-882d-a8bc4cbad140');\n",
              "          const dataTable =\n",
              "            await google.colab.kernel.invokeFunction('convertToInteractive',\n",
              "                                                     [key], {});\n",
              "          if (!dataTable) return;\n",
              "\n",
              "          const docLinkHtml = 'Like what you see? Visit the ' +\n",
              "            '<a target=\"_blank\" href=https://colab.research.google.com/notebooks/data_table.ipynb>data table notebook</a>'\n",
              "            + ' to learn more about interactive tables.';\n",
              "          element.innerHTML = '';\n",
              "          dataTable['output_type'] = 'display_data';\n",
              "          await google.colab.output.renderOutput(dataTable, element);\n",
              "          const docLink = document.createElement('div');\n",
              "          docLink.innerHTML = docLinkHtml;\n",
              "          element.appendChild(docLink);\n",
              "        }\n",
              "      </script>\n",
              "    </div>\n",
              "  </div>\n",
              "  "
            ],
            "text/plain": [
              "                                              item_name             market  \\\n",
              "4844                        Purple Softwear Plain Shrug  Clothes & Fashion   \n",
              "9207           Cotton Handkerchief For Men - Pack Of 12  Clothes & Fashion   \n",
              "9208           Cotton Handkerchief For Men - Pack Of 12  Clothes & Fashion   \n",
              "7662                  CAIRON MAROON STRIPE CASUAL SHIRT  Clothes & Fashion   \n",
              "7661                  CAIRON MAROON STRIPE CASUAL SHIRT  Clothes & Fashion   \n",
              "...                                                 ...                ...   \n",
              "8185  Dabur Vatika Smooth & Silky Hair Shampoo 16 N ...            Grocery   \n",
              "8184  Dabur Vatika Smooth & Silky Hair Shampoo 16 N ...            Grocery   \n",
              "8181  Dabur Vatika Smooth & Silky Hair Shampoo 16 N ...            Grocery   \n",
              "5004                     Latest Red Harem Pant (Premium  Clothes & Fashion   \n",
              "5495                                               Name  Clothes & Fashion   \n",
              "\n",
              "       price  avgrating    id  \\\n",
              "4844   499.0          5  3956   \n",
              "9207  2299.0          5  7655   \n",
              "9208  2299.0          5  7655   \n",
              "7662  1155.0          5  6303   \n",
              "7661  1155.0          5  6303   \n",
              "...      ...        ...   ...   \n",
              "8185    16.0          1  6802   \n",
              "8184    16.0          1  6802   \n",
              "8181    16.0          1  6802   \n",
              "5004  1389.0          1  4061   \n",
              "5495  1500.0          1  4446   \n",
              "\n",
              "                                                 images dealprice     type  \\\n",
              "4844  https://teka-prod.s3.amazonaws.com/images/sell...     449.1  PRODUCT   \n",
              "9207  https://teka-prod.s3.amazonaws.com/images/sell...      2253  PRODUCT   \n",
              "9208  https://teka-prod.s3.amazonaws.com/images/sell...      2253  PRODUCT   \n",
              "7662  https://teka-prod.s3.amazonaws.com/images/sell...    1039.5  PRODUCT   \n",
              "7661  https://teka-prod.s3.amazonaws.com/images/sell...    1039.5  PRODUCT   \n",
              "...                                                 ...       ...      ...   \n",
              "8185  https://teka-prod.s3.amazonaws.com/images/sell...     14.22  PRODUCT   \n",
              "8184  https://teka-prod.s3.amazonaws.com/images/sell...     14.22  PRODUCT   \n",
              "8181  https://teka-prod.s3.amazonaws.com/images/sell...     14.22  PRODUCT   \n",
              "5004  https://teka-prod.s3.amazonaws.com/images/sell...    1250.1  PRODUCT   \n",
              "5495  https://teka-prod.s3.amazonaws.com/images/sell...      1350  PRODUCT   \n",
              "\n",
              "      discount discountpercent      state  \n",
              "4844       NaN              10  Telangana  \n",
              "9207      46.0             NaN  Telangana  \n",
              "9208      46.0             NaN  Telangana  \n",
              "7662       NaN              10  Telangana  \n",
              "7661       NaN              10  Telangana  \n",
              "...        ...             ...        ...  \n",
              "8185       NaN           11.11  Telangana  \n",
              "8184       NaN           11.11  Telangana  \n",
              "8181       NaN           11.11  Telangana  \n",
              "5004       NaN              10  Telangana  \n",
              "5495       NaN              10  Telangana  \n",
              "\n",
              "[381 rows x 11 columns]"
            ]
          },
          "execution_count": 91,
          "metadata": {},
          "output_type": "execute_result"
        }
      ],
      "source": [
        "user_location('Telangana')"
      ]
    },
    {
      "cell_type": "code",
      "execution_count": null,
      "metadata": {
        "id": "Ib_yIMGQi_Rj"
      },
      "outputs": [],
      "source": [
        "g=data.groupby(['state'])\n"
      ]
    },
    {
      "cell_type": "code",
      "execution_count": null,
      "metadata": {
        "colab": {
          "base_uri": "https://localhost:8080/",
          "height": 1000
        },
        "id": "A6giDfF5rBaC",
        "outputId": "829756a9-4366-4b2b-97a5-6fe5ce268fcf"
      },
      "outputs": [
        {
          "data": {
            "text/html": [
              "\n",
              "  <div id=\"df-bb5d8e65-67e8-4b1c-9495-21166944c1b3\">\n",
              "    <div class=\"colab-df-container\">\n",
              "      <div>\n",
              "<style scoped>\n",
              "    .dataframe tbody tr th:only-of-type {\n",
              "        vertical-align: middle;\n",
              "    }\n",
              "\n",
              "    .dataframe tbody tr th {\n",
              "        vertical-align: top;\n",
              "    }\n",
              "\n",
              "    .dataframe thead th {\n",
              "        text-align: right;\n",
              "    }\n",
              "</style>\n",
              "<table border=\"1\" class=\"dataframe\">\n",
              "  <thead>\n",
              "    <tr style=\"text-align: right;\">\n",
              "      <th></th>\n",
              "      <th>item_name</th>\n",
              "      <th>market</th>\n",
              "      <th>price</th>\n",
              "      <th>avgrating</th>\n",
              "      <th>id</th>\n",
              "      <th>images</th>\n",
              "      <th>dealprice</th>\n",
              "      <th>type</th>\n",
              "      <th>discount</th>\n",
              "      <th>discountpercent</th>\n",
              "      <th>state</th>\n",
              "    </tr>\n",
              "  </thead>\n",
              "  <tbody>\n",
              "    <tr>\n",
              "      <th>4844</th>\n",
              "      <td>Purple Softwear Plain Shrug</td>\n",
              "      <td>Clothes &amp; Fashion</td>\n",
              "      <td>499.0</td>\n",
              "      <td>5</td>\n",
              "      <td>3956</td>\n",
              "      <td>https://teka-prod.s3.amazonaws.com/images/sell...</td>\n",
              "      <td>449.1</td>\n",
              "      <td>PRODUCT</td>\n",
              "      <td>NaN</td>\n",
              "      <td>10</td>\n",
              "      <td>Telangana</td>\n",
              "    </tr>\n",
              "    <tr>\n",
              "      <th>9207</th>\n",
              "      <td>Cotton Handkerchief For Men - Pack Of 12</td>\n",
              "      <td>Clothes &amp; Fashion</td>\n",
              "      <td>2299.0</td>\n",
              "      <td>5</td>\n",
              "      <td>7655</td>\n",
              "      <td>https://teka-prod.s3.amazonaws.com/images/sell...</td>\n",
              "      <td>2253</td>\n",
              "      <td>PRODUCT</td>\n",
              "      <td>46.0</td>\n",
              "      <td>NaN</td>\n",
              "      <td>Telangana</td>\n",
              "    </tr>\n",
              "    <tr>\n",
              "      <th>9208</th>\n",
              "      <td>Cotton Handkerchief For Men - Pack Of 12</td>\n",
              "      <td>Clothes &amp; Fashion</td>\n",
              "      <td>2299.0</td>\n",
              "      <td>5</td>\n",
              "      <td>7655</td>\n",
              "      <td>https://teka-prod.s3.amazonaws.com/images/sell...</td>\n",
              "      <td>2253</td>\n",
              "      <td>PRODUCT</td>\n",
              "      <td>46.0</td>\n",
              "      <td>NaN</td>\n",
              "      <td>Telangana</td>\n",
              "    </tr>\n",
              "    <tr>\n",
              "      <th>7662</th>\n",
              "      <td>CAIRON MAROON STRIPE CASUAL SHIRT</td>\n",
              "      <td>Clothes &amp; Fashion</td>\n",
              "      <td>1155.0</td>\n",
              "      <td>5</td>\n",
              "      <td>6303</td>\n",
              "      <td>https://teka-prod.s3.amazonaws.com/images/sell...</td>\n",
              "      <td>1039.5</td>\n",
              "      <td>PRODUCT</td>\n",
              "      <td>NaN</td>\n",
              "      <td>10</td>\n",
              "      <td>Telangana</td>\n",
              "    </tr>\n",
              "    <tr>\n",
              "      <th>7661</th>\n",
              "      <td>CAIRON MAROON STRIPE CASUAL SHIRT</td>\n",
              "      <td>Clothes &amp; Fashion</td>\n",
              "      <td>1155.0</td>\n",
              "      <td>5</td>\n",
              "      <td>6303</td>\n",
              "      <td>https://teka-prod.s3.amazonaws.com/images/sell...</td>\n",
              "      <td>1039.5</td>\n",
              "      <td>PRODUCT</td>\n",
              "      <td>NaN</td>\n",
              "      <td>10</td>\n",
              "      <td>Telangana</td>\n",
              "    </tr>\n",
              "    <tr>\n",
              "      <th>...</th>\n",
              "      <td>...</td>\n",
              "      <td>...</td>\n",
              "      <td>...</td>\n",
              "      <td>...</td>\n",
              "      <td>...</td>\n",
              "      <td>...</td>\n",
              "      <td>...</td>\n",
              "      <td>...</td>\n",
              "      <td>...</td>\n",
              "      <td>...</td>\n",
              "      <td>...</td>\n",
              "    </tr>\n",
              "    <tr>\n",
              "      <th>8185</th>\n",
              "      <td>Dabur Vatika Smooth &amp; Silky Hair Shampoo 16 N ...</td>\n",
              "      <td>Grocery</td>\n",
              "      <td>16.0</td>\n",
              "      <td>1</td>\n",
              "      <td>6802</td>\n",
              "      <td>https://teka-prod.s3.amazonaws.com/images/sell...</td>\n",
              "      <td>14.22</td>\n",
              "      <td>PRODUCT</td>\n",
              "      <td>NaN</td>\n",
              "      <td>11.11</td>\n",
              "      <td>Telangana</td>\n",
              "    </tr>\n",
              "    <tr>\n",
              "      <th>8184</th>\n",
              "      <td>Dabur Vatika Smooth &amp; Silky Hair Shampoo 16 N ...</td>\n",
              "      <td>Grocery</td>\n",
              "      <td>16.0</td>\n",
              "      <td>1</td>\n",
              "      <td>6802</td>\n",
              "      <td>https://teka-prod.s3.amazonaws.com/images/sell...</td>\n",
              "      <td>14.22</td>\n",
              "      <td>PRODUCT</td>\n",
              "      <td>NaN</td>\n",
              "      <td>11.11</td>\n",
              "      <td>Telangana</td>\n",
              "    </tr>\n",
              "    <tr>\n",
              "      <th>8181</th>\n",
              "      <td>Dabur Vatika Smooth &amp; Silky Hair Shampoo 16 N ...</td>\n",
              "      <td>Grocery</td>\n",
              "      <td>16.0</td>\n",
              "      <td>1</td>\n",
              "      <td>6802</td>\n",
              "      <td>https://teka-prod.s3.amazonaws.com/images/sell...</td>\n",
              "      <td>14.22</td>\n",
              "      <td>PRODUCT</td>\n",
              "      <td>NaN</td>\n",
              "      <td>11.11</td>\n",
              "      <td>Telangana</td>\n",
              "    </tr>\n",
              "    <tr>\n",
              "      <th>5004</th>\n",
              "      <td>Latest Red Harem Pant (Premium</td>\n",
              "      <td>Clothes &amp; Fashion</td>\n",
              "      <td>1389.0</td>\n",
              "      <td>1</td>\n",
              "      <td>4061</td>\n",
              "      <td>https://teka-prod.s3.amazonaws.com/images/sell...</td>\n",
              "      <td>1250.1</td>\n",
              "      <td>PRODUCT</td>\n",
              "      <td>NaN</td>\n",
              "      <td>10</td>\n",
              "      <td>Telangana</td>\n",
              "    </tr>\n",
              "    <tr>\n",
              "      <th>5495</th>\n",
              "      <td>Name</td>\n",
              "      <td>Clothes &amp; Fashion</td>\n",
              "      <td>1500.0</td>\n",
              "      <td>1</td>\n",
              "      <td>4446</td>\n",
              "      <td>https://teka-prod.s3.amazonaws.com/images/sell...</td>\n",
              "      <td>1350</td>\n",
              "      <td>PRODUCT</td>\n",
              "      <td>NaN</td>\n",
              "      <td>10</td>\n",
              "      <td>Telangana</td>\n",
              "    </tr>\n",
              "  </tbody>\n",
              "</table>\n",
              "<p>381 rows × 11 columns</p>\n",
              "</div>\n",
              "      <button class=\"colab-df-convert\" onclick=\"convertToInteractive('df-bb5d8e65-67e8-4b1c-9495-21166944c1b3')\"\n",
              "              title=\"Convert this dataframe to an interactive table.\"\n",
              "              style=\"display:none;\">\n",
              "        \n",
              "  <svg xmlns=\"http://www.w3.org/2000/svg\" height=\"24px\"viewBox=\"0 0 24 24\"\n",
              "       width=\"24px\">\n",
              "    <path d=\"M0 0h24v24H0V0z\" fill=\"none\"/>\n",
              "    <path d=\"M18.56 5.44l.94 2.06.94-2.06 2.06-.94-2.06-.94-.94-2.06-.94 2.06-2.06.94zm-11 1L8.5 8.5l.94-2.06 2.06-.94-2.06-.94L8.5 2.5l-.94 2.06-2.06.94zm10 10l.94 2.06.94-2.06 2.06-.94-2.06-.94-.94-2.06-.94 2.06-2.06.94z\"/><path d=\"M17.41 7.96l-1.37-1.37c-.4-.4-.92-.59-1.43-.59-.52 0-1.04.2-1.43.59L10.3 9.45l-7.72 7.72c-.78.78-.78 2.05 0 2.83L4 21.41c.39.39.9.59 1.41.59.51 0 1.02-.2 1.41-.59l7.78-7.78 2.81-2.81c.8-.78.8-2.07 0-2.86zM5.41 20L4 18.59l7.72-7.72 1.47 1.35L5.41 20z\"/>\n",
              "  </svg>\n",
              "      </button>\n",
              "      \n",
              "  <style>\n",
              "    .colab-df-container {\n",
              "      display:flex;\n",
              "      flex-wrap:wrap;\n",
              "      gap: 12px;\n",
              "    }\n",
              "\n",
              "    .colab-df-convert {\n",
              "      background-color: #E8F0FE;\n",
              "      border: none;\n",
              "      border-radius: 50%;\n",
              "      cursor: pointer;\n",
              "      display: none;\n",
              "      fill: #1967D2;\n",
              "      height: 32px;\n",
              "      padding: 0 0 0 0;\n",
              "      width: 32px;\n",
              "    }\n",
              "\n",
              "    .colab-df-convert:hover {\n",
              "      background-color: #E2EBFA;\n",
              "      box-shadow: 0px 1px 2px rgba(60, 64, 67, 0.3), 0px 1px 3px 1px rgba(60, 64, 67, 0.15);\n",
              "      fill: #174EA6;\n",
              "    }\n",
              "\n",
              "    [theme=dark] .colab-df-convert {\n",
              "      background-color: #3B4455;\n",
              "      fill: #D2E3FC;\n",
              "    }\n",
              "\n",
              "    [theme=dark] .colab-df-convert:hover {\n",
              "      background-color: #434B5C;\n",
              "      box-shadow: 0px 1px 3px 1px rgba(0, 0, 0, 0.15);\n",
              "      filter: drop-shadow(0px 1px 2px rgba(0, 0, 0, 0.3));\n",
              "      fill: #FFFFFF;\n",
              "    }\n",
              "  </style>\n",
              "\n",
              "      <script>\n",
              "        const buttonEl =\n",
              "          document.querySelector('#df-bb5d8e65-67e8-4b1c-9495-21166944c1b3 button.colab-df-convert');\n",
              "        buttonEl.style.display =\n",
              "          google.colab.kernel.accessAllowed ? 'block' : 'none';\n",
              "\n",
              "        async function convertToInteractive(key) {\n",
              "          const element = document.querySelector('#df-bb5d8e65-67e8-4b1c-9495-21166944c1b3');\n",
              "          const dataTable =\n",
              "            await google.colab.kernel.invokeFunction('convertToInteractive',\n",
              "                                                     [key], {});\n",
              "          if (!dataTable) return;\n",
              "\n",
              "          const docLinkHtml = 'Like what you see? Visit the ' +\n",
              "            '<a target=\"_blank\" href=https://colab.research.google.com/notebooks/data_table.ipynb>data table notebook</a>'\n",
              "            + ' to learn more about interactive tables.';\n",
              "          element.innerHTML = '';\n",
              "          dataTable['output_type'] = 'display_data';\n",
              "          await google.colab.output.renderOutput(dataTable, element);\n",
              "          const docLink = document.createElement('div');\n",
              "          docLink.innerHTML = docLinkHtml;\n",
              "          element.appendChild(docLink);\n",
              "        }\n",
              "      </script>\n",
              "    </div>\n",
              "  </div>\n",
              "  "
            ],
            "text/plain": [
              "                                              item_name             market  \\\n",
              "4844                        Purple Softwear Plain Shrug  Clothes & Fashion   \n",
              "9207           Cotton Handkerchief For Men - Pack Of 12  Clothes & Fashion   \n",
              "9208           Cotton Handkerchief For Men - Pack Of 12  Clothes & Fashion   \n",
              "7662                  CAIRON MAROON STRIPE CASUAL SHIRT  Clothes & Fashion   \n",
              "7661                  CAIRON MAROON STRIPE CASUAL SHIRT  Clothes & Fashion   \n",
              "...                                                 ...                ...   \n",
              "8185  Dabur Vatika Smooth & Silky Hair Shampoo 16 N ...            Grocery   \n",
              "8184  Dabur Vatika Smooth & Silky Hair Shampoo 16 N ...            Grocery   \n",
              "8181  Dabur Vatika Smooth & Silky Hair Shampoo 16 N ...            Grocery   \n",
              "5004                     Latest Red Harem Pant (Premium  Clothes & Fashion   \n",
              "5495                                               Name  Clothes & Fashion   \n",
              "\n",
              "       price  avgrating    id  \\\n",
              "4844   499.0          5  3956   \n",
              "9207  2299.0          5  7655   \n",
              "9208  2299.0          5  7655   \n",
              "7662  1155.0          5  6303   \n",
              "7661  1155.0          5  6303   \n",
              "...      ...        ...   ...   \n",
              "8185    16.0          1  6802   \n",
              "8184    16.0          1  6802   \n",
              "8181    16.0          1  6802   \n",
              "5004  1389.0          1  4061   \n",
              "5495  1500.0          1  4446   \n",
              "\n",
              "                                                 images dealprice     type  \\\n",
              "4844  https://teka-prod.s3.amazonaws.com/images/sell...     449.1  PRODUCT   \n",
              "9207  https://teka-prod.s3.amazonaws.com/images/sell...      2253  PRODUCT   \n",
              "9208  https://teka-prod.s3.amazonaws.com/images/sell...      2253  PRODUCT   \n",
              "7662  https://teka-prod.s3.amazonaws.com/images/sell...    1039.5  PRODUCT   \n",
              "7661  https://teka-prod.s3.amazonaws.com/images/sell...    1039.5  PRODUCT   \n",
              "...                                                 ...       ...      ...   \n",
              "8185  https://teka-prod.s3.amazonaws.com/images/sell...     14.22  PRODUCT   \n",
              "8184  https://teka-prod.s3.amazonaws.com/images/sell...     14.22  PRODUCT   \n",
              "8181  https://teka-prod.s3.amazonaws.com/images/sell...     14.22  PRODUCT   \n",
              "5004  https://teka-prod.s3.amazonaws.com/images/sell...    1250.1  PRODUCT   \n",
              "5495  https://teka-prod.s3.amazonaws.com/images/sell...      1350  PRODUCT   \n",
              "\n",
              "      discount discountpercent      state  \n",
              "4844       NaN              10  Telangana  \n",
              "9207      46.0             NaN  Telangana  \n",
              "9208      46.0             NaN  Telangana  \n",
              "7662       NaN              10  Telangana  \n",
              "7661       NaN              10  Telangana  \n",
              "...        ...             ...        ...  \n",
              "8185       NaN           11.11  Telangana  \n",
              "8184       NaN           11.11  Telangana  \n",
              "8181       NaN           11.11  Telangana  \n",
              "5004       NaN              10  Telangana  \n",
              "5495       NaN              10  Telangana  \n",
              "\n",
              "[381 rows x 11 columns]"
            ]
          },
          "execution_count": 78,
          "metadata": {},
          "output_type": "execute_result"
        }
      ],
      "source": [
        "g.get_group('Telangana')"
      ]
    },
    {
      "cell_type": "code",
      "execution_count": null,
      "metadata": {
        "id": "e9ffq6MxgnsT"
      },
      "outputs": [],
      "source": [
        "g1=data.groupby(['market'])"
      ]
    },
    {
      "cell_type": "code",
      "execution_count": null,
      "metadata": {
        "id": "q5QZUZ99jX_B"
      },
      "outputs": [],
      "source": [
        "def best_pick(state,item):\n",
        "  data_state=g.get_group(state)\n",
        "  g1=data_state.groupby(['market'])\n",
        "  df_item=g1.get_group(item)\n",
        "  final_item=df_item[['avgrating','item_name','price',]]\n",
        "  best_pick_item=final_item.sort_values(by='avgrating',ascending=False)\n",
        "  best_pick_item.drop_duplicates('item_name',inplace=True)\n",
        "  return best_pick_item.head()"
      ]
    },
    {
      "cell_type": "code",
      "execution_count": null,
      "metadata": {
        "id": "LOzRDBc8gUs_"
      },
      "outputs": [],
      "source": [
        "# def best_pick(item):\n",
        "#   df_item=g1.get_group(item)\n",
        "#   final_item=df_item[['avgrating','item_name','price',]]\n",
        "#   best_pick_item=final_item.sort_values(by='avgrating',ascending=False)\n",
        "#   best_pick_item.drop_duplicates('item_name',inplace=True)\n",
        "#   return best_pick_item.head()"
      ]
    },
    {
      "cell_type": "code",
      "execution_count": null,
      "metadata": {
        "colab": {
          "base_uri": "https://localhost:8080/",
          "height": 206
        },
        "id": "WAKz1-Fgg0tB",
        "outputId": "5eda9212-55dc-4967-a965-3135c2029060"
      },
      "outputs": [
        {
          "data": {
            "text/html": [
              "\n",
              "  <div id=\"df-09ee6689-a5bb-483e-a709-2c4e5634ee87\">\n",
              "    <div class=\"colab-df-container\">\n",
              "      <div>\n",
              "<style scoped>\n",
              "    .dataframe tbody tr th:only-of-type {\n",
              "        vertical-align: middle;\n",
              "    }\n",
              "\n",
              "    .dataframe tbody tr th {\n",
              "        vertical-align: top;\n",
              "    }\n",
              "\n",
              "    .dataframe thead th {\n",
              "        text-align: right;\n",
              "    }\n",
              "</style>\n",
              "<table border=\"1\" class=\"dataframe\">\n",
              "  <thead>\n",
              "    <tr style=\"text-align: right;\">\n",
              "      <th></th>\n",
              "      <th>avgrating</th>\n",
              "      <th>item_name</th>\n",
              "      <th>price</th>\n",
              "    </tr>\n",
              "  </thead>\n",
              "  <tbody>\n",
              "    <tr>\n",
              "      <th>4844</th>\n",
              "      <td>5</td>\n",
              "      <td>Purple Softwear Plain Shrug</td>\n",
              "      <td>499.0</td>\n",
              "    </tr>\n",
              "    <tr>\n",
              "      <th>8073</th>\n",
              "      <td>5</td>\n",
              "      <td>CAIRON BROWN SOLID OXFORD PREMIUM FORMAL SHIRT</td>\n",
              "      <td>1592.0</td>\n",
              "    </tr>\n",
              "    <tr>\n",
              "      <th>4330</th>\n",
              "      <td>5</td>\n",
              "      <td>Brown Flower Applique Buttoned Placket Woolen ...</td>\n",
              "      <td>1699.0</td>\n",
              "    </tr>\n",
              "    <tr>\n",
              "      <th>9507</th>\n",
              "      <td>5</td>\n",
              "      <td>Black Micro Fiber Polka Dots Broad Necktie - ...</td>\n",
              "      <td>799.0</td>\n",
              "    </tr>\n",
              "    <tr>\n",
              "      <th>5701</th>\n",
              "      <td>5</td>\n",
              "      <td>Contrasting Slit Pencil Skirt and Crop Top set</td>\n",
              "      <td>2655.0</td>\n",
              "    </tr>\n",
              "  </tbody>\n",
              "</table>\n",
              "</div>\n",
              "      <button class=\"colab-df-convert\" onclick=\"convertToInteractive('df-09ee6689-a5bb-483e-a709-2c4e5634ee87')\"\n",
              "              title=\"Convert this dataframe to an interactive table.\"\n",
              "              style=\"display:none;\">\n",
              "        \n",
              "  <svg xmlns=\"http://www.w3.org/2000/svg\" height=\"24px\"viewBox=\"0 0 24 24\"\n",
              "       width=\"24px\">\n",
              "    <path d=\"M0 0h24v24H0V0z\" fill=\"none\"/>\n",
              "    <path d=\"M18.56 5.44l.94 2.06.94-2.06 2.06-.94-2.06-.94-.94-2.06-.94 2.06-2.06.94zm-11 1L8.5 8.5l.94-2.06 2.06-.94-2.06-.94L8.5 2.5l-.94 2.06-2.06.94zm10 10l.94 2.06.94-2.06 2.06-.94-2.06-.94-.94-2.06-.94 2.06-2.06.94z\"/><path d=\"M17.41 7.96l-1.37-1.37c-.4-.4-.92-.59-1.43-.59-.52 0-1.04.2-1.43.59L10.3 9.45l-7.72 7.72c-.78.78-.78 2.05 0 2.83L4 21.41c.39.39.9.59 1.41.59.51 0 1.02-.2 1.41-.59l7.78-7.78 2.81-2.81c.8-.78.8-2.07 0-2.86zM5.41 20L4 18.59l7.72-7.72 1.47 1.35L5.41 20z\"/>\n",
              "  </svg>\n",
              "      </button>\n",
              "      \n",
              "  <style>\n",
              "    .colab-df-container {\n",
              "      display:flex;\n",
              "      flex-wrap:wrap;\n",
              "      gap: 12px;\n",
              "    }\n",
              "\n",
              "    .colab-df-convert {\n",
              "      background-color: #E8F0FE;\n",
              "      border: none;\n",
              "      border-radius: 50%;\n",
              "      cursor: pointer;\n",
              "      display: none;\n",
              "      fill: #1967D2;\n",
              "      height: 32px;\n",
              "      padding: 0 0 0 0;\n",
              "      width: 32px;\n",
              "    }\n",
              "\n",
              "    .colab-df-convert:hover {\n",
              "      background-color: #E2EBFA;\n",
              "      box-shadow: 0px 1px 2px rgba(60, 64, 67, 0.3), 0px 1px 3px 1px rgba(60, 64, 67, 0.15);\n",
              "      fill: #174EA6;\n",
              "    }\n",
              "\n",
              "    [theme=dark] .colab-df-convert {\n",
              "      background-color: #3B4455;\n",
              "      fill: #D2E3FC;\n",
              "    }\n",
              "\n",
              "    [theme=dark] .colab-df-convert:hover {\n",
              "      background-color: #434B5C;\n",
              "      box-shadow: 0px 1px 3px 1px rgba(0, 0, 0, 0.15);\n",
              "      filter: drop-shadow(0px 1px 2px rgba(0, 0, 0, 0.3));\n",
              "      fill: #FFFFFF;\n",
              "    }\n",
              "  </style>\n",
              "\n",
              "      <script>\n",
              "        const buttonEl =\n",
              "          document.querySelector('#df-09ee6689-a5bb-483e-a709-2c4e5634ee87 button.colab-df-convert');\n",
              "        buttonEl.style.display =\n",
              "          google.colab.kernel.accessAllowed ? 'block' : 'none';\n",
              "\n",
              "        async function convertToInteractive(key) {\n",
              "          const element = document.querySelector('#df-09ee6689-a5bb-483e-a709-2c4e5634ee87');\n",
              "          const dataTable =\n",
              "            await google.colab.kernel.invokeFunction('convertToInteractive',\n",
              "                                                     [key], {});\n",
              "          if (!dataTable) return;\n",
              "\n",
              "          const docLinkHtml = 'Like what you see? Visit the ' +\n",
              "            '<a target=\"_blank\" href=https://colab.research.google.com/notebooks/data_table.ipynb>data table notebook</a>'\n",
              "            + ' to learn more about interactive tables.';\n",
              "          element.innerHTML = '';\n",
              "          dataTable['output_type'] = 'display_data';\n",
              "          await google.colab.output.renderOutput(dataTable, element);\n",
              "          const docLink = document.createElement('div');\n",
              "          docLink.innerHTML = docLinkHtml;\n",
              "          element.appendChild(docLink);\n",
              "        }\n",
              "      </script>\n",
              "    </div>\n",
              "  </div>\n",
              "  "
            ],
            "text/plain": [
              "      avgrating                                          item_name   price\n",
              "4844          5                        Purple Softwear Plain Shrug   499.0\n",
              "8073          5     CAIRON BROWN SOLID OXFORD PREMIUM FORMAL SHIRT  1592.0\n",
              "4330          5  Brown Flower Applique Buttoned Placket Woolen ...  1699.0\n",
              "9507          5   Black Micro Fiber Polka Dots Broad Necktie - ...   799.0\n",
              "5701          5     Contrasting Slit Pencil Skirt and Crop Top set  2655.0"
            ]
          },
          "execution_count": 87,
          "metadata": {},
          "output_type": "execute_result"
        }
      ],
      "source": [
        "best_pick('Telangana','Clothes & Fashion')"
      ]
    },
    {
      "cell_type": "code",
      "execution_count": null,
      "metadata": {
        "id": "aNUHw6U3kItR"
      },
      "outputs": [],
      "source": [
        "#from surprise.model_selection import GridSearchCV,RandomizedSearchCV"
      ]
    },
    {
      "cell_type": "code",
      "execution_count": null,
      "metadata": {
        "colab": {
          "base_uri": "https://localhost:8080/"
        },
        "id": "jzE1ea2ekGr6",
        "outputId": "c3d3e1ab-2854-423d-fe71-4870b7fec428"
      },
      "outputs": [
        {
          "data": {
            "text/plain": [
              "{'n_factors': 150, 'reg_all': 0.02, 'n_epochs': 50}"
            ]
          },
          "execution_count": 62,
          "metadata": {},
          "output_type": "execute_result"
        }
      ],
      "source": [
        "# param_distributions  = {'n_factors': list(range(50,160,10)),'reg_all': np.arange(0.02,0.1),'n_epochs' : list(range(1,51))}\n",
        "# rs = GridSearchCV(SVD, param_distributions, measures=['rmse'], return_train_measures = True, cv = 5)\n",
        "# rs.fit(ratings)\n",
        "# rs.best_params['rmse']"
      ]
    },
    {
      "cell_type": "code",
      "execution_count": null,
      "metadata": {
        "colab": {
          "base_uri": "https://localhost:8080/"
        },
        "id": "J_Ieu-IIl3MO",
        "outputId": "97d90cd8-bb41-41d4-eebd-8b70fd7961b0"
      },
      "outputs": [
        {
          "name": "stdout",
          "output_type": "stream",
          "text": [
            "RMSE on training data :  0.45180141635725146\n",
            "RMSE on test data:  1.287761933127254\n"
          ]
        }
      ],
      "source": [
        "# tuned_svd_model = SVD(n_factors=130, reg_all =0.1, n_epochs = 50, random_state = 42,verbose = False)\n",
        "# tuned_svd_model.fit(train_ratings)\n",
        "# train_predictions = tuned_svd_model.test(train_ratings.build_testset())\n",
        "# test_predictions = tuned_svd_model.test(test_ratings)\n",
        "# print(\"RMSE on training data : \", accuracy.rmse(train_predictions, verbose = False))\n",
        "# print(\"RMSE on test data: \", accuracy.rmse(test_predictions, verbose = False))"
      ]
    },
    {
      "cell_type": "code",
      "execution_count": null,
      "metadata": {
        "colab": {
          "base_uri": "https://localhost:8080/",
          "height": 206
        },
        "id": "t-g1h58A6zC7",
        "outputId": "407c01df-fe3b-422d-974c-55f0bc4f2cff"
      },
      "outputs": [
        {
          "data": {
            "text/html": [
              "\n",
              "  <div id=\"df-ea63a6e1-a4b4-4400-81d9-2477fbe99b61\">\n",
              "    <div class=\"colab-df-container\">\n",
              "      <div>\n",
              "<style scoped>\n",
              "    .dataframe tbody tr th:only-of-type {\n",
              "        vertical-align: middle;\n",
              "    }\n",
              "\n",
              "    .dataframe tbody tr th {\n",
              "        vertical-align: top;\n",
              "    }\n",
              "\n",
              "    .dataframe thead th {\n",
              "        text-align: right;\n",
              "    }\n",
              "</style>\n",
              "<table border=\"1\" class=\"dataframe\">\n",
              "  <thead>\n",
              "    <tr style=\"text-align: right;\">\n",
              "      <th></th>\n",
              "      <th>customerid</th>\n",
              "      <th>id</th>\n",
              "      <th>avgrating</th>\n",
              "    </tr>\n",
              "  </thead>\n",
              "  <tbody>\n",
              "    <tr>\n",
              "      <th>0</th>\n",
              "      <td>628cb023c3ccbfbb1d5f410e</td>\n",
              "      <td>1</td>\n",
              "      <td>1</td>\n",
              "    </tr>\n",
              "    <tr>\n",
              "      <th>1</th>\n",
              "      <td>633ac3aff0f1d2a7c6a29f5a</td>\n",
              "      <td>7399</td>\n",
              "      <td>1</td>\n",
              "    </tr>\n",
              "    <tr>\n",
              "      <th>2</th>\n",
              "      <td>630718b7cf57702ea522b0cb</td>\n",
              "      <td>754</td>\n",
              "      <td>4</td>\n",
              "    </tr>\n",
              "    <tr>\n",
              "      <th>3</th>\n",
              "      <td>63419766f0f1d24d99a34f54</td>\n",
              "      <td>7400</td>\n",
              "      <td>4</td>\n",
              "    </tr>\n",
              "    <tr>\n",
              "      <th>4</th>\n",
              "      <td>62dbd5ce9670f2007f7cce70</td>\n",
              "      <td>809</td>\n",
              "      <td>3</td>\n",
              "    </tr>\n",
              "  </tbody>\n",
              "</table>\n",
              "</div>\n",
              "      <button class=\"colab-df-convert\" onclick=\"convertToInteractive('df-ea63a6e1-a4b4-4400-81d9-2477fbe99b61')\"\n",
              "              title=\"Convert this dataframe to an interactive table.\"\n",
              "              style=\"display:none;\">\n",
              "        \n",
              "  <svg xmlns=\"http://www.w3.org/2000/svg\" height=\"24px\"viewBox=\"0 0 24 24\"\n",
              "       width=\"24px\">\n",
              "    <path d=\"M0 0h24v24H0V0z\" fill=\"none\"/>\n",
              "    <path d=\"M18.56 5.44l.94 2.06.94-2.06 2.06-.94-2.06-.94-.94-2.06-.94 2.06-2.06.94zm-11 1L8.5 8.5l.94-2.06 2.06-.94-2.06-.94L8.5 2.5l-.94 2.06-2.06.94zm10 10l.94 2.06.94-2.06 2.06-.94-2.06-.94-.94-2.06-.94 2.06-2.06.94z\"/><path d=\"M17.41 7.96l-1.37-1.37c-.4-.4-.92-.59-1.43-.59-.52 0-1.04.2-1.43.59L10.3 9.45l-7.72 7.72c-.78.78-.78 2.05 0 2.83L4 21.41c.39.39.9.59 1.41.59.51 0 1.02-.2 1.41-.59l7.78-7.78 2.81-2.81c.8-.78.8-2.07 0-2.86zM5.41 20L4 18.59l7.72-7.72 1.47 1.35L5.41 20z\"/>\n",
              "  </svg>\n",
              "      </button>\n",
              "      \n",
              "  <style>\n",
              "    .colab-df-container {\n",
              "      display:flex;\n",
              "      flex-wrap:wrap;\n",
              "      gap: 12px;\n",
              "    }\n",
              "\n",
              "    .colab-df-convert {\n",
              "      background-color: #E8F0FE;\n",
              "      border: none;\n",
              "      border-radius: 50%;\n",
              "      cursor: pointer;\n",
              "      display: none;\n",
              "      fill: #1967D2;\n",
              "      height: 32px;\n",
              "      padding: 0 0 0 0;\n",
              "      width: 32px;\n",
              "    }\n",
              "\n",
              "    .colab-df-convert:hover {\n",
              "      background-color: #E2EBFA;\n",
              "      box-shadow: 0px 1px 2px rgba(60, 64, 67, 0.3), 0px 1px 3px 1px rgba(60, 64, 67, 0.15);\n",
              "      fill: #174EA6;\n",
              "    }\n",
              "\n",
              "    [theme=dark] .colab-df-convert {\n",
              "      background-color: #3B4455;\n",
              "      fill: #D2E3FC;\n",
              "    }\n",
              "\n",
              "    [theme=dark] .colab-df-convert:hover {\n",
              "      background-color: #434B5C;\n",
              "      box-shadow: 0px 1px 3px 1px rgba(0, 0, 0, 0.15);\n",
              "      filter: drop-shadow(0px 1px 2px rgba(0, 0, 0, 0.3));\n",
              "      fill: #FFFFFF;\n",
              "    }\n",
              "  </style>\n",
              "\n",
              "      <script>\n",
              "        const buttonEl =\n",
              "          document.querySelector('#df-ea63a6e1-a4b4-4400-81d9-2477fbe99b61 button.colab-df-convert');\n",
              "        buttonEl.style.display =\n",
              "          google.colab.kernel.accessAllowed ? 'block' : 'none';\n",
              "\n",
              "        async function convertToInteractive(key) {\n",
              "          const element = document.querySelector('#df-ea63a6e1-a4b4-4400-81d9-2477fbe99b61');\n",
              "          const dataTable =\n",
              "            await google.colab.kernel.invokeFunction('convertToInteractive',\n",
              "                                                     [key], {});\n",
              "          if (!dataTable) return;\n",
              "\n",
              "          const docLinkHtml = 'Like what you see? Visit the ' +\n",
              "            '<a target=\"_blank\" href=https://colab.research.google.com/notebooks/data_table.ipynb>data table notebook</a>'\n",
              "            + ' to learn more about interactive tables.';\n",
              "          element.innerHTML = '';\n",
              "          dataTable['output_type'] = 'display_data';\n",
              "          await google.colab.output.renderOutput(dataTable, element);\n",
              "          const docLink = document.createElement('div');\n",
              "          docLink.innerHTML = docLinkHtml;\n",
              "          element.appendChild(docLink);\n",
              "        }\n",
              "      </script>\n",
              "    </div>\n",
              "  </div>\n",
              "  "
            ],
            "text/plain": [
              "                 customerid    id  avgrating\n",
              "0  628cb023c3ccbfbb1d5f410e     1          1\n",
              "1  633ac3aff0f1d2a7c6a29f5a  7399          1\n",
              "2  630718b7cf57702ea522b0cb   754          4\n",
              "3  63419766f0f1d24d99a34f54  7400          4\n",
              "4  62dbd5ce9670f2007f7cce70   809          3"
            ]
          },
          "execution_count": 41,
          "metadata": {},
          "output_type": "execute_result"
        }
      ],
      "source": [
        "# final_df.iloc[0:1000].head()"
      ]
    },
    {
      "cell_type": "code",
      "execution_count": null,
      "metadata": {
        "id": "wbey9_HtBbOb"
      },
      "outputs": [],
      "source": []
    }
  ],
  "metadata": {
    "accelerator": "GPU",
    "colab": {
      "provenance": []
    },
    "gpuClass": "standard",
    "kernelspec": {
      "display_name": "Python 3",
      "name": "python3"
    },
    "language_info": {
      "codemirror_mode": {
        "name": "ipython",
        "version": 3
      },
      "file_extension": ".py",
      "mimetype": "text/x-python",
      "name": "python",
      "nbconvert_exporter": "python",
      "pygments_lexer": "ipython3",
      "version": "3.7.6"
    }
  },
  "nbformat": 4,
  "nbformat_minor": 0
}
