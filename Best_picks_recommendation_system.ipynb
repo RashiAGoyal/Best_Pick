{
  "cells": [
    {
      "cell_type": "markdown",
      "metadata": {
        "id": "view-in-github",
        "colab_type": "text"
      },
      "source": [
        "<a href=\"https://colab.research.google.com/github/RashiAGoyal/Best_Pick/blob/main/Best_picks_recommendation_system.ipynb\" target=\"_parent\"><img src=\"https://colab.research.google.com/assets/colab-badge.svg\" alt=\"Open In Colab\"/></a>"
      ]
    },
    {
      "cell_type": "code",
      "execution_count": null,
      "metadata": {
        "colab": {
          "base_uri": "https://localhost:8080/"
        },
        "id": "zItDBlYyD5hZ",
        "outputId": "0b595fcd-b6de-4f9b-afe7-0562c3e66221"
      },
      "outputs": [
        {
          "output_type": "stream",
          "name": "stdout",
          "text": [
            "Looking in indexes: https://pypi.org/simple, https://us-python.pkg.dev/colab-wheels/public/simple/\n",
            "Collecting scikit-surprise\n",
            "  Downloading scikit-surprise-1.1.3.tar.gz (771 kB)\n",
            "\u001b[2K     \u001b[90m━━━━━━━━━━━━━━━━━━━━━━━━━━━━━━━━━━━━━━\u001b[0m \u001b[32m772.0/772.0 KB\u001b[0m \u001b[31m13.8 MB/s\u001b[0m eta \u001b[36m0:00:00\u001b[0m\n",
            "\u001b[?25h  Preparing metadata (setup.py) ... \u001b[?25l\u001b[?25hdone\n",
            "Requirement already satisfied: joblib>=1.0.0 in /usr/local/lib/python3.9/dist-packages (from scikit-surprise) (1.1.1)\n",
            "Requirement already satisfied: numpy>=1.17.3 in /usr/local/lib/python3.9/dist-packages (from scikit-surprise) (1.22.4)\n",
            "Requirement already satisfied: scipy>=1.3.2 in /usr/local/lib/python3.9/dist-packages (from scikit-surprise) (1.10.1)\n",
            "Building wheels for collected packages: scikit-surprise\n",
            "  Building wheel for scikit-surprise (setup.py) ... \u001b[?25l\u001b[?25hdone\n",
            "  Created wheel for scikit-surprise: filename=scikit_surprise-1.1.3-cp39-cp39-linux_x86_64.whl size=3195799 sha256=ff790d81da36764c12c38f3575381e15e8d0dfc1078cc20236b094a6ec6526ec\n",
            "  Stored in directory: /root/.cache/pip/wheels/c6/3a/46/9b17b3512bdf283c6cb84f59929cdd5199d4e754d596d22784\n",
            "Successfully built scikit-surprise\n",
            "Installing collected packages: scikit-surprise\n",
            "Successfully installed scikit-surprise-1.1.3\n"
          ]
        }
      ],
      "source": [
        "!pip install scikit-surprise"
      ]
    },
    {
      "cell_type": "code",
      "execution_count": null,
      "metadata": {
        "colab": {
          "base_uri": "https://localhost:8080/"
        },
        "id": "mGoqNnDdEfmG",
        "outputId": "3137a9ee-6da2-42e9-98be-6f39559c83a3"
      },
      "outputs": [
        {
          "output_type": "stream",
          "name": "stdout",
          "text": [
            "Mounted at /content/drive\n"
          ]
        }
      ],
      "source": [
        "from google.colab import drive\n",
        "drive.mount('/content/drive')"
      ]
    },
    {
      "cell_type": "code",
      "execution_count": null,
      "metadata": {
        "id": "BQLwie8gFOOM"
      },
      "outputs": [],
      "source": [
        "import numpy as np \n",
        "import pandas as pd\n",
        "import matplotlib.pyplot as plt\n",
        "import seaborn as sns\n",
        "from sklearn import preprocessing\n",
        "from surprise import Dataset \n",
        "from surprise import Reader\n",
        "from surprise.model_selection import train_test_split\n",
        "from surprise import accuracy\n"
      ]
    },
    {
      "cell_type": "code",
      "execution_count": null,
      "metadata": {
        "id": "MjVTNGqmE5Aq"
      },
      "outputs": [],
      "source": [
        "items=pd.read_csv('/content/drive/MyDrive/Trigital /prep_items_202303291533.csv')"
      ]
    },
    {
      "cell_type": "code",
      "execution_count": null,
      "metadata": {
        "id": "4oskyVWFFaH1"
      },
      "outputs": [],
      "source": [
        "items.item_name =items.item_name.str.rstrip()"
      ]
    },
    {
      "cell_type": "code",
      "execution_count": null,
      "metadata": {
        "colab": {
          "base_uri": "https://localhost:8080/"
        },
        "id": "HM7-6VpkFclx",
        "outputId": "a4bc62a4-5fd7-4427-cd29-150951c434eb"
      },
      "outputs": [
        {
          "output_type": "stream",
          "name": "stdout",
          "text": [
            "<class 'pandas.core.frame.DataFrame'>\n",
            "RangeIndex: 10142 entries, 0 to 10141\n",
            "Data columns (total 37 columns):\n",
            " #   Column               Non-Null Count  Dtype  \n",
            "---  ------               --------------  -----  \n",
            " 0   id                   10142 non-null  int64  \n",
            " 1   item_id              0 non-null      float64\n",
            " 2   tax_code             0 non-null      float64\n",
            " 3   is_deleted           0 non-null      float64\n",
            " 4   tenant_id            0 non-null      float64\n",
            " 5   provider_id          0 non-null      float64\n",
            " 6   catalog_id           0 non-null      float64\n",
            " 7   is_availabe          0 non-null      float64\n",
            " 8   dwh_updated_at       0 non-null      float64\n",
            " 9   _id                  10142 non-null  object \n",
            " 10  description_summary  10142 non-null  object \n",
            " 11  provider             10142 non-null  object \n",
            " 12  discount             3597 non-null   float64\n",
            " 13  discountpercent      4830 non-null   object \n",
            " 14  dealprice            8773 non-null   object \n",
            " 15  price                10139 non-null  float64\n",
            " 16  images               10142 non-null  object \n",
            " 17  catalogid            10142 non-null  object \n",
            " 18  producttype          10141 non-null  object \n",
            " 19  type                 10142 non-null  object \n",
            " 20  issellable           10138 non-null  object \n",
            " 21  sellercontact        5424 non-null   object \n",
            " 22  quantity             6860 non-null   object \n",
            " 23  isdeleted            10142 non-null  bool   \n",
            " 24  tenant               10142 non-null  object \n",
            " 25  avgrating            10142 non-null  int64  \n",
            " 26  providername         10142 non-null  object \n",
            " 27  isoffline            10142 non-null  bool   \n",
            " 28  variations           4204 non-null   object \n",
            " 29  category             10142 non-null  object \n",
            " 30  market               10142 non-null  object \n",
            " 31  slug                 9907 non-null   object \n",
            " 32  integer_attributes   10142 non-null  object \n",
            " 33  stockcount           0 non-null      float64\n",
            " 34  createdat            10142 non-null  object \n",
            " 35  updatedat            10142 non-null  object \n",
            " 36  item_name            10142 non-null  object \n",
            "dtypes: bool(2), float64(11), int64(2), object(22)\n",
            "memory usage: 2.7+ MB\n"
          ]
        }
      ],
      "source": [
        "items.info()"
      ]
    },
    {
      "cell_type": "code",
      "execution_count": null,
      "metadata": {
        "colab": {
          "base_uri": "https://localhost:8080/"
        },
        "id": "6CLG3V8YFhfX",
        "outputId": "d7a64c88-7fc2-4586-b626-e7759f2c9f6b"
      },
      "outputs": [
        {
          "output_type": "execute_result",
          "data": {
            "text/plain": [
              "Name                                              489\n",
              "CAIRON WHITE SATIN SOLID CLUBWEAR SHIRT            50\n",
              "CAIRON GREY SATIN SOLID CLUBWEAR SHIRT             48\n",
              "CAIRON RED CHECK CASUAL SHIRT                      37\n",
              "Bigen B103 Men's Beard Haircolor                   35\n",
              "                                                 ... \n",
              "Lipton Green Tea Bags Honey Lemon, 10 N             1\n",
              "Tetley Green Tea Bag Ginger, Mint Lemon, 25 N       1\n",
              "Lipton Lemon Honey Green Tea Bags Sachet, 25 N      1\n",
              "Lipton Green Tea 100 g                              1\n",
              "Diamond mirshi 100g                                 1\n",
              "Name: item_name, Length: 3796, dtype: int64"
            ]
          },
          "metadata": {},
          "execution_count": 7
        }
      ],
      "source": [
        "items.item_name.value_counts()"
      ]
    },
    {
      "cell_type": "code",
      "execution_count": null,
      "metadata": {
        "id": "LX8c0g64Fk6U"
      },
      "outputs": [],
      "source": [
        "order=pd.read_csv('/content/drive/MyDrive/Trigital /prep_orderitem_dummy_202303291450.csv')"
      ]
    },
    {
      "cell_type": "code",
      "source": [
        "customer=pd.read_csv('/content/drive/MyDrive/Trigital /prep_customers_address_202304031410.csv')"
      ],
      "metadata": {
        "id": "d934qYzOb5uQ"
      },
      "execution_count": null,
      "outputs": []
    },
    {
      "cell_type": "code",
      "source": [
        "customer.info()"
      ],
      "metadata": {
        "colab": {
          "base_uri": "https://localhost:8080/"
        },
        "id": "ryzdell6ci9G",
        "outputId": "76321f50-a2b9-4b10-d0fb-690e35a4cf36"
      },
      "execution_count": null,
      "outputs": [
        {
          "output_type": "stream",
          "name": "stdout",
          "text": [
            "<class 'pandas.core.frame.DataFrame'>\n",
            "RangeIndex: 11604 entries, 0 to 11603\n",
            "Data columns (total 19 columns):\n",
            " #   Column       Non-Null Count  Dtype  \n",
            "---  ------       --------------  -----  \n",
            " 0   _id          11604 non-null  object \n",
            " 1   customerno   11604 non-null  object \n",
            " 2   tenant       11604 non-null  object \n",
            " 3   address_id   11604 non-null  object \n",
            " 4   isdefault    11604 non-null  bool   \n",
            " 5   latitude     0 non-null      float64\n",
            " 6   longitude    0 non-null      float64\n",
            " 7   type         11604 non-null  object \n",
            " 8   city         11604 non-null  object \n",
            " 9   country      11604 non-null  object \n",
            " 10  housenumber  11602 non-null  object \n",
            " 11  state        11604 non-null  object \n",
            " 12  street1      11603 non-null  object \n",
            " 13  street2      11604 non-null  object \n",
            " 14  zip          11604 non-null  object \n",
            " 15  category     11604 non-null  object \n",
            " 16  fullname     11604 non-null  object \n",
            " 17  gender       11604 non-null  object \n",
            " 18  age          11604 non-null  int64  \n",
            "dtypes: bool(1), float64(2), int64(1), object(15)\n",
            "memory usage: 1.6+ MB\n"
          ]
        }
      ]
    },
    {
      "cell_type": "code",
      "source": [
        "customer.state.value_counts()"
      ],
      "metadata": {
        "colab": {
          "base_uri": "https://localhost:8080/"
        },
        "id": "VP6K2nvUy92p",
        "outputId": "e27568e9-396b-4634-88f1-a7f49f164843"
      },
      "execution_count": null,
      "outputs": [
        {
          "output_type": "execute_result",
          "data": {
            "text/plain": [
              "Telangana          6003\n",
              "Andhra Pradesh     3114\n",
              "Telangana           880\n",
              "West Bengal         198\n",
              "Andhra Pradesh      140\n",
              "                   ... \n",
              "ANDHRA Pradesh        1\n",
              "Igigitgi              1\n",
              "ODISHA                1\n",
              "500038                1\n",
              "Nalgonda              1\n",
              "Name: state, Length: 313, dtype: int64"
            ]
          },
          "metadata": {},
          "execution_count": 18
        }
      ]
    },
    {
      "cell_type": "code",
      "source": [
        "customer.state=customer.state.str.replace(' ', '')"
      ],
      "metadata": {
        "id": "CHVTWqJUzDi1"
      },
      "execution_count": null,
      "outputs": []
    },
    {
      "cell_type": "code",
      "source": [
        "customer.state=customer.state.map({'Telangana':'Telangana','Telagna':'Telagna','WestBengal':'West Bengal',\n",
        "                                       'Andhara Pradesh':'Andhara Pradesh','Gujarat':'Gujarat',\n",
        "                                   'Andrapradesh':'Andhara Pradesh','AndhraPradesh':'Andhara Pradesh',\n",
        "                                   'Avadi': 'Andhara Pradesh','Telanganana':'Telangana','Rajasthan':'Rajasthan'})"
      ],
      "metadata": {
        "id": "yrBLkzJhz9Pp"
      },
      "execution_count": null,
      "outputs": []
    },
    {
      "cell_type": "code",
      "execution_count": null,
      "metadata": {
        "colab": {
          "base_uri": "https://localhost:8080/"
        },
        "id": "EQ8-ZqUIFov_",
        "outputId": "da35c73b-f2b1-4597-91c2-a8f704f1c2a8"
      },
      "outputs": [
        {
          "output_type": "stream",
          "name": "stdout",
          "text": [
            "<class 'pandas.core.frame.DataFrame'>\n",
            "RangeIndex: 10000 entries, 0 to 9999\n",
            "Data columns (total 3 columns):\n",
            " #   Column      Non-Null Count  Dtype \n",
            "---  ------      --------------  ----- \n",
            " 0   item_id     10000 non-null  object\n",
            " 1   customerid  9892 non-null   object\n",
            " 2   serialno    10000 non-null  int64 \n",
            "dtypes: int64(1), object(2)\n",
            "memory usage: 234.5+ KB\n"
          ]
        }
      ],
      "source": [
        "order.info()"
      ]
    },
    {
      "cell_type": "code",
      "execution_count": null,
      "metadata": {
        "id": "LqVVDkZ7FwHa"
      },
      "outputs": [],
      "source": [
        "df_merged =items.merge(order,how='left',left_on='_id',right_on='item_id',suffixes=('', '_drop'))\n",
        "df_merged.drop([col for col in df_merged.columns if 'drop' in col], axis=1, inplace=True)"
      ]
    },
    {
      "cell_type": "code",
      "source": [
        "df_merged.market=df_merged.market.map({'Clothes & Fashion':'Clothes & Fashion','Grocery':'Grocery','Food & Restaurants':'Food & Restaurants',\n",
        "                                       'Clothes  & Fashion':'Clothes & Fashion','Electronics':'Electronics',\n",
        "                                   'Office & Stationary':'Office & Stationary','Office & Stationery':'Office & Stationary',\n",
        "                                   'Home Improvement': 'Home Improvement','Virtual assets & Real Estate':'Virtual assets & Real Estate',\n",
        "                                   'virtual assets & Real Estate':'Virtual assets & Real Estate','Fruits & Vegetables':'Fruits & Vegetables','Health Care':'Health Care'})"
      ],
      "metadata": {
        "id": "BKGofWCnu48j"
      },
      "execution_count": null,
      "outputs": []
    },
    {
      "cell_type": "code",
      "source": [
        "df_merged.to_csv('df_merged.csv')"
      ],
      "metadata": {
        "id": "-n47NYCqvCEj"
      },
      "execution_count": null,
      "outputs": []
    },
    {
      "cell_type": "code",
      "execution_count": null,
      "metadata": {
        "colab": {
          "base_uri": "https://localhost:8080/"
        },
        "id": "tSYiPXgVF8k-",
        "outputId": "57acc7a4-a1bb-4c8d-f675-cc1f9f97787a"
      },
      "outputs": [
        {
          "output_type": "execute_result",
          "data": {
            "text/plain": [
              "(10142, 39)"
            ]
          },
          "metadata": {},
          "execution_count": 17
        }
      ],
      "source": [
        "df_merged.shape"
      ]
    },
    {
      "cell_type": "code",
      "execution_count": null,
      "metadata": {
        "colab": {
          "base_uri": "https://localhost:8080/"
        },
        "id": "be4c9gM6F_H9",
        "outputId": "55227bd9-64c4-430b-82d7-9828b41cce14"
      },
      "outputs": [
        {
          "output_type": "stream",
          "name": "stdout",
          "text": [
            "<class 'pandas.core.frame.DataFrame'>\n",
            "Int64Index: 10142 entries, 0 to 10141\n",
            "Data columns (total 39 columns):\n",
            " #   Column               Non-Null Count  Dtype  \n",
            "---  ------               --------------  -----  \n",
            " 0   id                   10142 non-null  int64  \n",
            " 1   item_id              0 non-null      float64\n",
            " 2   tax_code             0 non-null      float64\n",
            " 3   is_deleted           0 non-null      float64\n",
            " 4   tenant_id            0 non-null      float64\n",
            " 5   provider_id          0 non-null      float64\n",
            " 6   catalog_id           0 non-null      float64\n",
            " 7   is_availabe          0 non-null      float64\n",
            " 8   dwh_updated_at       0 non-null      float64\n",
            " 9   _id                  10142 non-null  object \n",
            " 10  description_summary  10142 non-null  object \n",
            " 11  provider             10142 non-null  object \n",
            " 12  discount             3597 non-null   float64\n",
            " 13  discountpercent      4830 non-null   object \n",
            " 14  dealprice            8773 non-null   object \n",
            " 15  price                10139 non-null  float64\n",
            " 16  images               10142 non-null  object \n",
            " 17  catalogid            10142 non-null  object \n",
            " 18  producttype          10141 non-null  object \n",
            " 19  type                 10142 non-null  object \n",
            " 20  issellable           10138 non-null  object \n",
            " 21  sellercontact        5424 non-null   object \n",
            " 22  quantity             6860 non-null   object \n",
            " 23  isdeleted            10142 non-null  bool   \n",
            " 24  tenant               10142 non-null  object \n",
            " 25  avgrating            10142 non-null  int64  \n",
            " 26  providername         10142 non-null  object \n",
            " 27  isoffline            10142 non-null  bool   \n",
            " 28  variations           4204 non-null   object \n",
            " 29  category             10142 non-null  object \n",
            " 30  market               10142 non-null  object \n",
            " 31  slug                 9907 non-null   object \n",
            " 32  integer_attributes   10142 non-null  object \n",
            " 33  stockcount           0 non-null      float64\n",
            " 34  createdat            10142 non-null  object \n",
            " 35  updatedat            10142 non-null  object \n",
            " 36  item_name            10142 non-null  object \n",
            " 37  customerid           9816 non-null   object \n",
            " 38  serialno             9924 non-null   float64\n",
            "dtypes: bool(2), float64(12), int64(2), object(23)\n",
            "memory usage: 3.0+ MB\n"
          ]
        }
      ],
      "source": [
        "df_merged.info()"
      ]
    },
    {
      "cell_type": "code",
      "source": [
        "data_merged =df_merged.merge(customer,how='left',left_on='customerid',right_on='_id',suffixes=('', '_drop'))\n",
        "data_merged.drop([col for col in df_merged.columns if 'drop' in col], axis=1, inplace=True)"
      ],
      "metadata": {
        "id": "aQII4LJrcw-R"
      },
      "execution_count": null,
      "outputs": []
    },
    {
      "cell_type": "code",
      "source": [
        "data_merged.shape"
      ],
      "metadata": {
        "colab": {
          "base_uri": "https://localhost:8080/"
        },
        "id": "3Bg11raQdT5-",
        "outputId": "bbdc4d87-5b6e-47c8-ff58-ad27ec16e502"
      },
      "execution_count": null,
      "outputs": [
        {
          "output_type": "execute_result",
          "data": {
            "text/plain": [
              "(11895, 58)"
            ]
          },
          "metadata": {},
          "execution_count": 24
        }
      ]
    },
    {
      "cell_type": "code",
      "source": [
        "dict(data_merged.market.value_counts())"
      ],
      "metadata": {
        "colab": {
          "base_uri": "https://localhost:8080/"
        },
        "id": "8Do2fGunp1af",
        "outputId": "754286c3-8952-47d2-9fec-a0f6b0283a3f"
      },
      "execution_count": null,
      "outputs": [
        {
          "output_type": "execute_result",
          "data": {
            "text/plain": [
              "{'Clothes & Fashion': 7165,\n",
              " 'Grocery': 2953,\n",
              " 'Food & Restaurants': 1017,\n",
              " 'Office & Stationary': 381,\n",
              " 'Electronics': 336,\n",
              " 'Home Improvement': 26,\n",
              " 'Virtual assets & Real Estate': 15,\n",
              " 'Fruits & Vegetables': 1,\n",
              " 'Health Care': 1}"
            ]
          },
          "metadata": {},
          "execution_count": 53
        }
      ]
    },
    {
      "cell_type": "code",
      "execution_count": null,
      "metadata": {
        "id": "htWk73RoGtiz"
      },
      "outputs": [],
      "source": [
        "final_df=data_merged[['customerid','id','gender','age','item_name','avgrating']]"
      ]
    },
    {
      "cell_type": "code",
      "execution_count": null,
      "metadata": {
        "colab": {
          "base_uri": "https://localhost:8080/",
          "height": 206
        },
        "id": "ORQjj49AHlLx",
        "outputId": "c1807278-1aef-45ac-a765-52ae1b7b555e"
      },
      "outputs": [
        {
          "output_type": "execute_result",
          "data": {
            "text/plain": [
              "                 customerid    id gender   age          item_name  avgrating\n",
              "0  628cb023c3ccbfbb1d5f410e     1   Male  63.0  Chakki Fresh Atta          1\n",
              "1  633ac3aff0f1d2a7c6a29f5a  7399   Male  63.0      Wings Biryani          1\n",
              "2  630718b7cf57702ea522b0cb   754   Male  41.0              Jeera          4\n",
              "3  63419766f0f1d24d99a34f54  7400   Male  63.0               Roti          4\n",
              "4  62dbd5ce9670f2007f7cce70   809   Male  47.0               Nuts          3"
            ],
            "text/html": [
              "\n",
              "  <div id=\"df-cd07f04b-d99f-4228-a5ef-42e91304732f\">\n",
              "    <div class=\"colab-df-container\">\n",
              "      <div>\n",
              "<style scoped>\n",
              "    .dataframe tbody tr th:only-of-type {\n",
              "        vertical-align: middle;\n",
              "    }\n",
              "\n",
              "    .dataframe tbody tr th {\n",
              "        vertical-align: top;\n",
              "    }\n",
              "\n",
              "    .dataframe thead th {\n",
              "        text-align: right;\n",
              "    }\n",
              "</style>\n",
              "<table border=\"1\" class=\"dataframe\">\n",
              "  <thead>\n",
              "    <tr style=\"text-align: right;\">\n",
              "      <th></th>\n",
              "      <th>customerid</th>\n",
              "      <th>id</th>\n",
              "      <th>gender</th>\n",
              "      <th>age</th>\n",
              "      <th>item_name</th>\n",
              "      <th>avgrating</th>\n",
              "    </tr>\n",
              "  </thead>\n",
              "  <tbody>\n",
              "    <tr>\n",
              "      <th>0</th>\n",
              "      <td>628cb023c3ccbfbb1d5f410e</td>\n",
              "      <td>1</td>\n",
              "      <td>Male</td>\n",
              "      <td>63.0</td>\n",
              "      <td>Chakki Fresh Atta</td>\n",
              "      <td>1</td>\n",
              "    </tr>\n",
              "    <tr>\n",
              "      <th>1</th>\n",
              "      <td>633ac3aff0f1d2a7c6a29f5a</td>\n",
              "      <td>7399</td>\n",
              "      <td>Male</td>\n",
              "      <td>63.0</td>\n",
              "      <td>Wings Biryani</td>\n",
              "      <td>1</td>\n",
              "    </tr>\n",
              "    <tr>\n",
              "      <th>2</th>\n",
              "      <td>630718b7cf57702ea522b0cb</td>\n",
              "      <td>754</td>\n",
              "      <td>Male</td>\n",
              "      <td>41.0</td>\n",
              "      <td>Jeera</td>\n",
              "      <td>4</td>\n",
              "    </tr>\n",
              "    <tr>\n",
              "      <th>3</th>\n",
              "      <td>63419766f0f1d24d99a34f54</td>\n",
              "      <td>7400</td>\n",
              "      <td>Male</td>\n",
              "      <td>63.0</td>\n",
              "      <td>Roti</td>\n",
              "      <td>4</td>\n",
              "    </tr>\n",
              "    <tr>\n",
              "      <th>4</th>\n",
              "      <td>62dbd5ce9670f2007f7cce70</td>\n",
              "      <td>809</td>\n",
              "      <td>Male</td>\n",
              "      <td>47.0</td>\n",
              "      <td>Nuts</td>\n",
              "      <td>3</td>\n",
              "    </tr>\n",
              "  </tbody>\n",
              "</table>\n",
              "</div>\n",
              "      <button class=\"colab-df-convert\" onclick=\"convertToInteractive('df-cd07f04b-d99f-4228-a5ef-42e91304732f')\"\n",
              "              title=\"Convert this dataframe to an interactive table.\"\n",
              "              style=\"display:none;\">\n",
              "        \n",
              "  <svg xmlns=\"http://www.w3.org/2000/svg\" height=\"24px\"viewBox=\"0 0 24 24\"\n",
              "       width=\"24px\">\n",
              "    <path d=\"M0 0h24v24H0V0z\" fill=\"none\"/>\n",
              "    <path d=\"M18.56 5.44l.94 2.06.94-2.06 2.06-.94-2.06-.94-.94-2.06-.94 2.06-2.06.94zm-11 1L8.5 8.5l.94-2.06 2.06-.94-2.06-.94L8.5 2.5l-.94 2.06-2.06.94zm10 10l.94 2.06.94-2.06 2.06-.94-2.06-.94-.94-2.06-.94 2.06-2.06.94z\"/><path d=\"M17.41 7.96l-1.37-1.37c-.4-.4-.92-.59-1.43-.59-.52 0-1.04.2-1.43.59L10.3 9.45l-7.72 7.72c-.78.78-.78 2.05 0 2.83L4 21.41c.39.39.9.59 1.41.59.51 0 1.02-.2 1.41-.59l7.78-7.78 2.81-2.81c.8-.78.8-2.07 0-2.86zM5.41 20L4 18.59l7.72-7.72 1.47 1.35L5.41 20z\"/>\n",
              "  </svg>\n",
              "      </button>\n",
              "      \n",
              "  <style>\n",
              "    .colab-df-container {\n",
              "      display:flex;\n",
              "      flex-wrap:wrap;\n",
              "      gap: 12px;\n",
              "    }\n",
              "\n",
              "    .colab-df-convert {\n",
              "      background-color: #E8F0FE;\n",
              "      border: none;\n",
              "      border-radius: 50%;\n",
              "      cursor: pointer;\n",
              "      display: none;\n",
              "      fill: #1967D2;\n",
              "      height: 32px;\n",
              "      padding: 0 0 0 0;\n",
              "      width: 32px;\n",
              "    }\n",
              "\n",
              "    .colab-df-convert:hover {\n",
              "      background-color: #E2EBFA;\n",
              "      box-shadow: 0px 1px 2px rgba(60, 64, 67, 0.3), 0px 1px 3px 1px rgba(60, 64, 67, 0.15);\n",
              "      fill: #174EA6;\n",
              "    }\n",
              "\n",
              "    [theme=dark] .colab-df-convert {\n",
              "      background-color: #3B4455;\n",
              "      fill: #D2E3FC;\n",
              "    }\n",
              "\n",
              "    [theme=dark] .colab-df-convert:hover {\n",
              "      background-color: #434B5C;\n",
              "      box-shadow: 0px 1px 3px 1px rgba(0, 0, 0, 0.15);\n",
              "      filter: drop-shadow(0px 1px 2px rgba(0, 0, 0, 0.3));\n",
              "      fill: #FFFFFF;\n",
              "    }\n",
              "  </style>\n",
              "\n",
              "      <script>\n",
              "        const buttonEl =\n",
              "          document.querySelector('#df-cd07f04b-d99f-4228-a5ef-42e91304732f button.colab-df-convert');\n",
              "        buttonEl.style.display =\n",
              "          google.colab.kernel.accessAllowed ? 'block' : 'none';\n",
              "\n",
              "        async function convertToInteractive(key) {\n",
              "          const element = document.querySelector('#df-cd07f04b-d99f-4228-a5ef-42e91304732f');\n",
              "          const dataTable =\n",
              "            await google.colab.kernel.invokeFunction('convertToInteractive',\n",
              "                                                     [key], {});\n",
              "          if (!dataTable) return;\n",
              "\n",
              "          const docLinkHtml = 'Like what you see? Visit the ' +\n",
              "            '<a target=\"_blank\" href=https://colab.research.google.com/notebooks/data_table.ipynb>data table notebook</a>'\n",
              "            + ' to learn more about interactive tables.';\n",
              "          element.innerHTML = '';\n",
              "          dataTable['output_type'] = 'display_data';\n",
              "          await google.colab.output.renderOutput(dataTable, element);\n",
              "          const docLink = document.createElement('div');\n",
              "          docLink.innerHTML = docLinkHtml;\n",
              "          element.appendChild(docLink);\n",
              "        }\n",
              "      </script>\n",
              "    </div>\n",
              "  </div>\n",
              "  "
            ]
          },
          "metadata": {},
          "execution_count": 31
        }
      ],
      "source": [
        "final_df.head()"
      ]
    },
    {
      "cell_type": "code",
      "execution_count": null,
      "metadata": {
        "colab": {
          "base_uri": "https://localhost:8080/"
        },
        "id": "acp15KXgIrZB",
        "outputId": "baab7663-c96c-4e74-c35f-5966a34cad4b"
      },
      "outputs": [
        {
          "output_type": "stream",
          "name": "stdout",
          "text": [
            "<class 'pandas.core.frame.DataFrame'>\n",
            "Int64Index: 11895 entries, 0 to 11894\n",
            "Data columns (total 6 columns):\n",
            " #   Column      Non-Null Count  Dtype  \n",
            "---  ------      --------------  -----  \n",
            " 0   customerid  11569 non-null  object \n",
            " 1   id          11895 non-null  int64  \n",
            " 2   gender      8330 non-null   object \n",
            " 3   age         8330 non-null   float64\n",
            " 4   item_name   11895 non-null  object \n",
            " 5   avgrating   11895 non-null  int64  \n",
            "dtypes: float64(1), int64(2), object(3)\n",
            "memory usage: 650.5+ KB\n"
          ]
        }
      ],
      "source": [
        "final_df.info()"
      ]
    },
    {
      "cell_type": "code",
      "source": [
        "final_df['gender'] = final_df['gender'].fillna(final_df['gender'].mode()[0])\n",
        "final_df['age'] = final_df['age'].fillna(final_df['age'].mode()[0])"
      ],
      "metadata": {
        "colab": {
          "base_uri": "https://localhost:8080/"
        },
        "id": "HZklzuFelzRt",
        "outputId": "41c92bd8-8a84-4ab0-8901-129072f4f843"
      },
      "execution_count": null,
      "outputs": [
        {
          "output_type": "stream",
          "name": "stderr",
          "text": [
            "<ipython-input-28-de8ee009fd1d>:1: SettingWithCopyWarning: \n",
            "A value is trying to be set on a copy of a slice from a DataFrame.\n",
            "Try using .loc[row_indexer,col_indexer] = value instead\n",
            "\n",
            "See the caveats in the documentation: https://pandas.pydata.org/pandas-docs/stable/user_guide/indexing.html#returning-a-view-versus-a-copy\n",
            "  final_df['gender'] = final_df['gender'].fillna(final_df['gender'].mode()[0])\n",
            "<ipython-input-28-de8ee009fd1d>:2: SettingWithCopyWarning: \n",
            "A value is trying to be set on a copy of a slice from a DataFrame.\n",
            "Try using .loc[row_indexer,col_indexer] = value instead\n",
            "\n",
            "See the caveats in the documentation: https://pandas.pydata.org/pandas-docs/stable/user_guide/indexing.html#returning-a-view-versus-a-copy\n",
            "  final_df['age'] = final_df['age'].fillna(final_df['age'].mode()[0])\n"
          ]
        }
      ]
    },
    {
      "cell_type": "code",
      "execution_count": null,
      "metadata": {
        "id": "mkMcVHCOULas"
      },
      "outputs": [],
      "source": [
        "final_df=final_df.dropna(subset=['customerid'])"
      ]
    },
    {
      "cell_type": "code",
      "execution_count": null,
      "metadata": {
        "id": "zP4UC-gVHm81"
      },
      "outputs": [],
      "source": [
        "# label_encoder = preprocessing.LabelEncoder()\n",
        "# final_df['customerid']= label_encoder.fit_transform(final_df['customerid'])"
      ]
    },
    {
      "cell_type": "markdown",
      "metadata": {
        "id": "VYfQo1-MILo-"
      },
      "source": [
        "## Total number of customer, items and ratings"
      ]
    },
    {
      "cell_type": "code",
      "execution_count": null,
      "metadata": {
        "colab": {
          "base_uri": "https://localhost:8080/"
        },
        "id": "-xJRxIJCH-jr",
        "outputId": "76f22a50-0860-4377-b334-bbec4a49cc6a"
      },
      "outputs": [
        {
          "output_type": "stream",
          "name": "stdout",
          "text": [
            "Total no of ratings : 11569\n",
            "No. of unique customers: 2388\n",
            "No. of unique items: 9816\n"
          ]
        }
      ],
      "source": [
        "print(\"Total no of ratings :\",final_df.shape[0])\n",
        "print(\"No. of unique customers:\", final_df[\"customerid\"].nunique())\n",
        "print(\"No. of unique items:\", final_df[\"id\"].nunique())"
      ]
    },
    {
      "cell_type": "markdown",
      "metadata": {
        "id": "ctRfMvQfJM00"
      },
      "source": [
        "## Distribution of ratings"
      ]
    },
    {
      "cell_type": "code",
      "execution_count": null,
      "metadata": {
        "colab": {
          "base_uri": "https://localhost:8080/"
        },
        "id": "cBcJBlbIJK4p",
        "outputId": "91743ffa-6afa-4f61-ec86-91370e9dd945"
      },
      "outputs": [
        {
          "output_type": "execute_result",
          "data": {
            "text/plain": [
              "1    2372\n",
              "2    2361\n",
              "4    2337\n",
              "3    2299\n",
              "5    2200\n",
              "Name: avgrating, dtype: int64"
            ]
          },
          "metadata": {},
          "execution_count": 59
        }
      ],
      "source": [
        "final_df.avgrating.value_counts()"
      ]
    },
    {
      "cell_type": "markdown",
      "metadata": {
        "id": "_BpSbMv8Jof7"
      },
      "source": [
        "#  Ratings per user"
      ]
    },
    {
      "cell_type": "code",
      "execution_count": null,
      "metadata": {
        "colab": {
          "base_uri": "https://localhost:8080/"
        },
        "id": "A5b1hfmVJWSp",
        "outputId": "5798f4a1-10c7-4ddf-b0fc-224cf09cdc3d"
      },
      "outputs": [
        {
          "output_type": "execute_result",
          "data": {
            "text/plain": [
              "count    2388.000000\n",
              "mean        4.844640\n",
              "std        18.560868\n",
              "min         1.000000\n",
              "25%         1.000000\n",
              "50%         2.000000\n",
              "75%         4.000000\n",
              "max       635.000000\n",
              "Name: avgrating, dtype: float64"
            ]
          },
          "metadata": {},
          "execution_count": 60
        }
      ],
      "source": [
        "ratings_per_user = final_df.groupby(by='customerid')['avgrating'].count()\n",
        "ratings_per_user.describe()"
      ]
    },
    {
      "cell_type": "markdown",
      "metadata": {
        "id": "VE4xbheaJ3xJ"
      },
      "source": [
        "## Ratings per items"
      ]
    },
    {
      "cell_type": "code",
      "execution_count": null,
      "metadata": {
        "colab": {
          "base_uri": "https://localhost:8080/"
        },
        "id": "VVtZce51dCfp",
        "outputId": "3e1a8222-3e17-4e2c-e4c9-3b39ec7bd11b"
      },
      "outputs": [
        {
          "output_type": "execute_result",
          "data": {
            "text/plain": [
              "62d7e395ec76434350c3b45c    635\n",
              "633434892288e00638e17613    361\n",
              "62b7faa283be59b149130ba3    238\n",
              "62dbd8ab9670f2007f7d3eef    180\n",
              "63353e88f0f1d27889a1f733    154\n",
              "                           ... \n",
              "633320ca2288e0a136e1420d      1\n",
              "62eb65a1a636f0a43d62194a      1\n",
              "62dbd7149670f2007f7d018e      1\n",
              "62dd470dec7643856cc3ca14      1\n",
              "634d0bb9c4fba05c88231703      1\n",
              "Name: customerid, Length: 2388, dtype: int64"
            ]
          },
          "metadata": {},
          "execution_count": 61
        }
      ],
      "source": [
        "final_df.customerid.value_counts()"
      ]
    },
    {
      "cell_type": "code",
      "execution_count": null,
      "metadata": {
        "colab": {
          "base_uri": "https://localhost:8080/"
        },
        "id": "ruVqHvIEJ3Ee",
        "outputId": "35fb9545-3246-4dd5-828a-4baf7876faf5"
      },
      "outputs": [
        {
          "output_type": "execute_result",
          "data": {
            "text/plain": [
              "count    9816.000000\n",
              "mean        1.178586\n",
              "std         1.232930\n",
              "min         1.000000\n",
              "25%         1.000000\n",
              "50%         1.000000\n",
              "75%         1.000000\n",
              "max        72.000000\n",
              "Name: avgrating, dtype: float64"
            ]
          },
          "metadata": {},
          "execution_count": 62
        }
      ],
      "source": [
        "ratings_per_item = final_df.groupby(by='id')['avgrating'].count()\n",
        "ratings_per_item.describe()"
      ]
    },
    {
      "cell_type": "markdown",
      "metadata": {
        "id": "eLTIrsKnKlUA"
      },
      "source": [
        "# Loading as Surprise dataframe and train-test split"
      ]
    },
    {
      "cell_type": "code",
      "execution_count": null,
      "metadata": {
        "id": "gyGSI7f4KR-o"
      },
      "outputs": [],
      "source": [
        "reader = Reader()\n",
        "ratings = Dataset.load_from_df(final_df[['customerid', 'id', 'avgrating']], reader)"
      ]
    },
    {
      "cell_type": "code",
      "execution_count": null,
      "metadata": {
        "colab": {
          "base_uri": "https://localhost:8080/"
        },
        "id": "B39sSmveKwNZ",
        "outputId": "8a3cefeb-f81c-4c41-eb75-e0b5ad6ea6a7"
      },
      "outputs": [
        {
          "output_type": "stream",
          "name": "stdout",
          "text": [
            "Size of trainset:  9255\n",
            "Size of testset:  2314\n"
          ]
        }
      ],
      "source": [
        "train_ratings, test_ratings = train_test_split(ratings, test_size=.20, random_state = 42)\n",
        "print(\"Size of trainset: \", train_ratings.n_ratings)\n",
        "print(\"Size of testset: \", len(test_ratings))"
      ]
    },
    {
      "cell_type": "code",
      "execution_count": null,
      "metadata": {
        "id": "NlLKmGLHK0xX"
      },
      "outputs": [],
      "source": [
        "from surprise import BaselineOnly"
      ]
    },
    {
      "cell_type": "code",
      "execution_count": null,
      "metadata": {
        "colab": {
          "base_uri": "https://localhost:8080/"
        },
        "id": "tfxZNwa4K6Fd",
        "outputId": "d506b066-829a-4a2f-930d-16ab6a1b0be1"
      },
      "outputs": [
        {
          "output_type": "execute_result",
          "data": {
            "text/plain": [
              "<surprise.prediction_algorithms.baseline_only.BaselineOnly at 0x7ff3148ec550>"
            ]
          },
          "metadata": {},
          "execution_count": 65
        }
      ],
      "source": [
        "baseline_model = BaselineOnly(verbose = False)\n",
        "baseline_model.fit(train_ratings)"
      ]
    },
    {
      "cell_type": "code",
      "execution_count": null,
      "metadata": {
        "colab": {
          "base_uri": "https://localhost:8080/"
        },
        "id": "zpqdt9B6K8wt",
        "outputId": "66648964-4722-4ecf-d6d7-10d369a65c7a"
      },
      "outputs": [
        {
          "output_type": "stream",
          "name": "stdout",
          "text": [
            "RMSE on training data :  1.1973073332039819\n",
            "RMSE on test data:  1.3675671978367903\n"
          ]
        }
      ],
      "source": [
        "train_predictions = baseline_model.test(train_ratings.build_testset())\n",
        "test_predictions = baseline_model.test(test_ratings)\n",
        "print(\"RMSE on training data : \", accuracy.rmse(train_predictions,verbose = False))\n",
        "print(\"RMSE on test data: \", accuracy.rmse(test_predictions,verbose = False))"
      ]
    },
    {
      "cell_type": "code",
      "execution_count": null,
      "metadata": {
        "colab": {
          "base_uri": "https://localhost:8080/"
        },
        "id": "oc-IZhkAY3kp",
        "outputId": "a0f31b9e-5cec-4b47-ba23-69dba30b6da5"
      },
      "outputs": [
        {
          "output_type": "execute_result",
          "data": {
            "text/plain": [
              "18"
            ]
          },
          "metadata": {},
          "execution_count": 67
        }
      ],
      "source": [
        "df_merged.loc[df_merged.customerid=='63d102996fee010ba791308c'].item_name.value_counts().sum()"
      ]
    },
    {
      "cell_type": "code",
      "source": [
        "rating = Dataset.load_from_df(a, reader)"
      ],
      "metadata": {
        "id": "4HvayrF9b6hm"
      },
      "execution_count": null,
      "outputs": []
    },
    {
      "cell_type": "code",
      "execution_count": null,
      "metadata": {
        "id": "J4s3lgIvcF7f",
        "colab": {
          "base_uri": "https://localhost:8080/",
          "height": 165
        },
        "outputId": "4023dc95-bcc2-4cdf-99e3-caf1391c4773"
      },
      "outputs": [
        {
          "output_type": "error",
          "ename": "NameError",
          "evalue": "ignored",
          "traceback": [
            "\u001b[0;31m---------------------------------------------------------------------------\u001b[0m",
            "\u001b[0;31mNameError\u001b[0m                                 Traceback (most recent call last)",
            "\u001b[0;32m<ipython-input-36-47970af69bcb>\u001b[0m in \u001b[0;36m<cell line: 1>\u001b[0;34m()\u001b[0m\n\u001b[0;32m----> 1\u001b[0;31m \u001b[0mitem_ratings\u001b[0m \u001b[0;34m=\u001b[0m \u001b[0mtrain_test_split\u001b[0m\u001b[0;34m(\u001b[0m\u001b[0mrating\u001b[0m\u001b[0;34m,\u001b[0m \u001b[0mrandom_state\u001b[0m \u001b[0;34m=\u001b[0m \u001b[0;36m42\u001b[0m\u001b[0;34m)\u001b[0m\u001b[0;34m\u001b[0m\u001b[0;34m\u001b[0m\u001b[0m\n\u001b[0m",
            "\u001b[0;31mNameError\u001b[0m: name 'rating' is not defined"
          ]
        }
      ],
      "source": [
        "item_ratings = train_test_split(rating, random_state = 42)"
      ]
    },
    {
      "cell_type": "code",
      "execution_count": null,
      "metadata": {
        "colab": {
          "base_uri": "https://localhost:8080/"
        },
        "id": "LdevbBgUN1Rp",
        "outputId": "1eb812a6-b98c-4967-a8b6-bad132f16671"
      },
      "outputs": [
        {
          "output_type": "execute_result",
          "data": {
            "text/plain": [
              "<surprise.prediction_algorithms.matrix_factorization.SVD at 0x7fc0c606f280>"
            ]
          },
          "metadata": {},
          "execution_count": 71
        }
      ],
      "source": [
        "svd_model = SVD(random_state = 42)\n",
        "svd_model.fit(train_ratings)"
      ]
    },
    {
      "cell_type": "code",
      "execution_count": null,
      "metadata": {
        "id": "Ui2fkmsxNnFn"
      },
      "outputs": [],
      "source": [
        "from surprise import SVD"
      ]
    },
    {
      "cell_type": "code",
      "execution_count": null,
      "metadata": {
        "colab": {
          "base_uri": "https://localhost:8080/"
        },
        "id": "FBOSM5koN4Hk",
        "outputId": "a6f4a800-9e2e-46c7-f4bf-61b232c3a611"
      },
      "outputs": [
        {
          "output_type": "stream",
          "name": "stdout",
          "text": [
            "RMSE on training data :  0.8738979704330262\n",
            "RMSE on test data:  1.3076715202890457\n"
          ]
        }
      ],
      "source": [
        "train_predictions = svd_model.test(train_ratings.build_testset())\n",
        "test_predictions = svd_model.test(test_ratings)\n",
        "print(\"RMSE on training data : \", accuracy.rmse(train_predictions, verbose = False))\n",
        "print(\"RMSE on test data: \", accuracy.rmse(test_predictions, verbose = False))"
      ]
    },
    {
      "cell_type": "code",
      "execution_count": null,
      "metadata": {
        "id": "aihih8PadU7Y"
      },
      "outputs": [],
      "source": [
        "import pickle\n",
        "\n",
        "# Load saved model from pickle file\n",
        "with open('/content/drive/MyDrive/Trigital /svd_model.pkl', 'wb') as f:\n",
        "    pickle.dump(svd_model, f)"
      ]
    },
    {
      "cell_type": "code",
      "execution_count": null,
      "metadata": {
        "id": "Ioxa8GKFcVhg"
      },
      "outputs": [],
      "source": [
        "item_predictions = baseline_model.test(train_ratings.build_testset())"
      ]
    },
    {
      "cell_type": "code",
      "execution_count": null,
      "metadata": {
        "colab": {
          "base_uri": "https://localhost:8080/",
          "height": 206
        },
        "id": "1YvUqnfgLAtG",
        "outputId": "550990ad-081d-4ae5-efc5-a713ae742b6e"
      },
      "outputs": [
        {
          "output_type": "execute_result",
          "data": {
            "text/plain": [
              "                                 item_name              market   price  \\\n",
              "3038  AbhisarikaFabulousGreyWomenKurtaSets   Clothes & Fashion  1899.0   \n",
              "847                                 Coffee  Food & Restaurants    80.0   \n",
              "3135                LimeGlycerinSoap100Gms             Grocery    95.0   \n",
              "980                 TieWhiteSatinSkinnyTie   Clothes & Fashion   299.0   \n",
              "3110     AdrikaGracefulBlackWomenKurtaSets   Clothes & Fashion  1799.0   \n",
              "\n",
              "      avgrating      state  \n",
              "3038          5  Telangana  \n",
              "847           5  Telangana  \n",
              "3135          5  Telangana  \n",
              "980           5  Telangana  \n",
              "3110          5  Telangana  "
            ],
            "text/html": [
              "\n",
              "  <div id=\"df-670d57af-39fc-495b-a925-87cfdc97b5bd\">\n",
              "    <div class=\"colab-df-container\">\n",
              "      <div>\n",
              "<style scoped>\n",
              "    .dataframe tbody tr th:only-of-type {\n",
              "        vertical-align: middle;\n",
              "    }\n",
              "\n",
              "    .dataframe tbody tr th {\n",
              "        vertical-align: top;\n",
              "    }\n",
              "\n",
              "    .dataframe thead th {\n",
              "        text-align: right;\n",
              "    }\n",
              "</style>\n",
              "<table border=\"1\" class=\"dataframe\">\n",
              "  <thead>\n",
              "    <tr style=\"text-align: right;\">\n",
              "      <th></th>\n",
              "      <th>item_name</th>\n",
              "      <th>market</th>\n",
              "      <th>price</th>\n",
              "      <th>avgrating</th>\n",
              "      <th>state</th>\n",
              "    </tr>\n",
              "  </thead>\n",
              "  <tbody>\n",
              "    <tr>\n",
              "      <th>3038</th>\n",
              "      <td>AbhisarikaFabulousGreyWomenKurtaSets</td>\n",
              "      <td>Clothes &amp; Fashion</td>\n",
              "      <td>1899.0</td>\n",
              "      <td>5</td>\n",
              "      <td>Telangana</td>\n",
              "    </tr>\n",
              "    <tr>\n",
              "      <th>847</th>\n",
              "      <td>Coffee</td>\n",
              "      <td>Food &amp; Restaurants</td>\n",
              "      <td>80.0</td>\n",
              "      <td>5</td>\n",
              "      <td>Telangana</td>\n",
              "    </tr>\n",
              "    <tr>\n",
              "      <th>3135</th>\n",
              "      <td>LimeGlycerinSoap100Gms</td>\n",
              "      <td>Grocery</td>\n",
              "      <td>95.0</td>\n",
              "      <td>5</td>\n",
              "      <td>Telangana</td>\n",
              "    </tr>\n",
              "    <tr>\n",
              "      <th>980</th>\n",
              "      <td>TieWhiteSatinSkinnyTie</td>\n",
              "      <td>Clothes &amp; Fashion</td>\n",
              "      <td>299.0</td>\n",
              "      <td>5</td>\n",
              "      <td>Telangana</td>\n",
              "    </tr>\n",
              "    <tr>\n",
              "      <th>3110</th>\n",
              "      <td>AdrikaGracefulBlackWomenKurtaSets</td>\n",
              "      <td>Clothes &amp; Fashion</td>\n",
              "      <td>1799.0</td>\n",
              "      <td>5</td>\n",
              "      <td>Telangana</td>\n",
              "    </tr>\n",
              "  </tbody>\n",
              "</table>\n",
              "</div>\n",
              "      <button class=\"colab-df-convert\" onclick=\"convertToInteractive('df-670d57af-39fc-495b-a925-87cfdc97b5bd')\"\n",
              "              title=\"Convert this dataframe to an interactive table.\"\n",
              "              style=\"display:none;\">\n",
              "        \n",
              "  <svg xmlns=\"http://www.w3.org/2000/svg\" height=\"24px\"viewBox=\"0 0 24 24\"\n",
              "       width=\"24px\">\n",
              "    <path d=\"M0 0h24v24H0V0z\" fill=\"none\"/>\n",
              "    <path d=\"M18.56 5.44l.94 2.06.94-2.06 2.06-.94-2.06-.94-.94-2.06-.94 2.06-2.06.94zm-11 1L8.5 8.5l.94-2.06 2.06-.94-2.06-.94L8.5 2.5l-.94 2.06-2.06.94zm10 10l.94 2.06.94-2.06 2.06-.94-2.06-.94-.94-2.06-.94 2.06-2.06.94z\"/><path d=\"M17.41 7.96l-1.37-1.37c-.4-.4-.92-.59-1.43-.59-.52 0-1.04.2-1.43.59L10.3 9.45l-7.72 7.72c-.78.78-.78 2.05 0 2.83L4 21.41c.39.39.9.59 1.41.59.51 0 1.02-.2 1.41-.59l7.78-7.78 2.81-2.81c.8-.78.8-2.07 0-2.86zM5.41 20L4 18.59l7.72-7.72 1.47 1.35L5.41 20z\"/>\n",
              "  </svg>\n",
              "      </button>\n",
              "      \n",
              "  <style>\n",
              "    .colab-df-container {\n",
              "      display:flex;\n",
              "      flex-wrap:wrap;\n",
              "      gap: 12px;\n",
              "    }\n",
              "\n",
              "    .colab-df-convert {\n",
              "      background-color: #E8F0FE;\n",
              "      border: none;\n",
              "      border-radius: 50%;\n",
              "      cursor: pointer;\n",
              "      display: none;\n",
              "      fill: #1967D2;\n",
              "      height: 32px;\n",
              "      padding: 0 0 0 0;\n",
              "      width: 32px;\n",
              "    }\n",
              "\n",
              "    .colab-df-convert:hover {\n",
              "      background-color: #E2EBFA;\n",
              "      box-shadow: 0px 1px 2px rgba(60, 64, 67, 0.3), 0px 1px 3px 1px rgba(60, 64, 67, 0.15);\n",
              "      fill: #174EA6;\n",
              "    }\n",
              "\n",
              "    [theme=dark] .colab-df-convert {\n",
              "      background-color: #3B4455;\n",
              "      fill: #D2E3FC;\n",
              "    }\n",
              "\n",
              "    [theme=dark] .colab-df-convert:hover {\n",
              "      background-color: #434B5C;\n",
              "      box-shadow: 0px 1px 3px 1px rgba(0, 0, 0, 0.15);\n",
              "      filter: drop-shadow(0px 1px 2px rgba(0, 0, 0, 0.3));\n",
              "      fill: #FFFFFF;\n",
              "    }\n",
              "  </style>\n",
              "\n",
              "      <script>\n",
              "        const buttonEl =\n",
              "          document.querySelector('#df-670d57af-39fc-495b-a925-87cfdc97b5bd button.colab-df-convert');\n",
              "        buttonEl.style.display =\n",
              "          google.colab.kernel.accessAllowed ? 'block' : 'none';\n",
              "\n",
              "        async function convertToInteractive(key) {\n",
              "          const element = document.querySelector('#df-670d57af-39fc-495b-a925-87cfdc97b5bd');\n",
              "          const dataTable =\n",
              "            await google.colab.kernel.invokeFunction('convertToInteractive',\n",
              "                                                     [key], {});\n",
              "          if (!dataTable) return;\n",
              "\n",
              "          const docLinkHtml = 'Like what you see? Visit the ' +\n",
              "            '<a target=\"_blank\" href=https://colab.research.google.com/notebooks/data_table.ipynb>data table notebook</a>'\n",
              "            + ' to learn more about interactive tables.';\n",
              "          element.innerHTML = '';\n",
              "          dataTable['output_type'] = 'display_data';\n",
              "          await google.colab.output.renderOutput(dataTable, element);\n",
              "          const docLink = document.createElement('div');\n",
              "          docLink.innerHTML = docLinkHtml;\n",
              "          element.appendChild(docLink);\n",
              "        }\n",
              "      </script>\n",
              "    </div>\n",
              "  </div>\n",
              "  "
            ]
          },
          "metadata": {},
          "execution_count": 76
        }
      ],
      "source": [
        "def get_top_n_recommendations(customerid,predictions, n=11569):\n",
        "    predict_ratings = {}\n",
        "    # loop for getting predictions for the user\n",
        "    for uid, iid, true_r, est, _ in predictions:\n",
        "        if (uid==customerid):\n",
        "            predict_ratings[iid] = est\n",
        "    predict_ratings = sorted(predict_ratings.items(), key=lambda kv: kv[1],reverse=True)[:n]\n",
        "    top_items = [i[0] for i in predict_ratings]\n",
        "    # print(top_items)\n",
        "    # top_items = [str(i) for i in top_items]\n",
        "    # print(\"=\"*10,\"Recommended movies for user {} :\".format(customerid),\"=\"*10)\n",
        "    # print(df_merged[df_merged[\"id\"].isin(top_items)][\"item_name\"].to_string(index=False))\n",
        "    return data_merged[data_merged[\"id\"].isin(top_items)][[\"item_name\",\"market\",\"price\",\"avgrating\",'state']].sort_values(by=['avgrating'],ascending=False)\n",
        "get_top_n_recommendations('633434892288e00638e17613',item_predictions).head()"
      ]
    },
    {
      "cell_type": "markdown",
      "metadata": {
        "id": "FxTnMyskWjhK"
      },
      "source": [
        "## New user recommendation"
      ]
    },
    {
      "cell_type": "code",
      "execution_count": null,
      "metadata": {
        "id": "zSCH3_ZUN7ip"
      },
      "outputs": [],
      "source": [
        "# new_user_id = 'new_user'\n",
        "new_user = [('new_user',7399, 4), ('new_user',754, 5), ('new_user',7400, 3)]\n",
        "\n",
        "new_user_predictions = baseline_model.test(new_user)\n",
        "\n"
      ]
    },
    {
      "cell_type": "code",
      "execution_count": null,
      "metadata": {
        "colab": {
          "base_uri": "https://localhost:8080/",
          "height": 143
        },
        "id": "yfeycSeMX30y",
        "outputId": "d583cd09-9961-40f8-b2b0-84a97f2d0b81"
      },
      "outputs": [
        {
          "output_type": "execute_result",
          "data": {
            "text/plain": [
              "      item_name              market  price  avgrating      state\n",
              "2         Jeera             Grocery    1.0          4  Telangana\n",
              "3          Roti  Food & Restaurants   35.0          4        NaN\n",
              "1  WingsBiryani  Food & Restaurants  339.0          1        NaN"
            ],
            "text/html": [
              "\n",
              "  <div id=\"df-35d23799-e93f-4bd2-a755-e48863ff4ea2\">\n",
              "    <div class=\"colab-df-container\">\n",
              "      <div>\n",
              "<style scoped>\n",
              "    .dataframe tbody tr th:only-of-type {\n",
              "        vertical-align: middle;\n",
              "    }\n",
              "\n",
              "    .dataframe tbody tr th {\n",
              "        vertical-align: top;\n",
              "    }\n",
              "\n",
              "    .dataframe thead th {\n",
              "        text-align: right;\n",
              "    }\n",
              "</style>\n",
              "<table border=\"1\" class=\"dataframe\">\n",
              "  <thead>\n",
              "    <tr style=\"text-align: right;\">\n",
              "      <th></th>\n",
              "      <th>item_name</th>\n",
              "      <th>market</th>\n",
              "      <th>price</th>\n",
              "      <th>avgrating</th>\n",
              "      <th>state</th>\n",
              "    </tr>\n",
              "  </thead>\n",
              "  <tbody>\n",
              "    <tr>\n",
              "      <th>2</th>\n",
              "      <td>Jeera</td>\n",
              "      <td>Grocery</td>\n",
              "      <td>1.0</td>\n",
              "      <td>4</td>\n",
              "      <td>Telangana</td>\n",
              "    </tr>\n",
              "    <tr>\n",
              "      <th>3</th>\n",
              "      <td>Roti</td>\n",
              "      <td>Food &amp; Restaurants</td>\n",
              "      <td>35.0</td>\n",
              "      <td>4</td>\n",
              "      <td>NaN</td>\n",
              "    </tr>\n",
              "    <tr>\n",
              "      <th>1</th>\n",
              "      <td>WingsBiryani</td>\n",
              "      <td>Food &amp; Restaurants</td>\n",
              "      <td>339.0</td>\n",
              "      <td>1</td>\n",
              "      <td>NaN</td>\n",
              "    </tr>\n",
              "  </tbody>\n",
              "</table>\n",
              "</div>\n",
              "      <button class=\"colab-df-convert\" onclick=\"convertToInteractive('df-35d23799-e93f-4bd2-a755-e48863ff4ea2')\"\n",
              "              title=\"Convert this dataframe to an interactive table.\"\n",
              "              style=\"display:none;\">\n",
              "        \n",
              "  <svg xmlns=\"http://www.w3.org/2000/svg\" height=\"24px\"viewBox=\"0 0 24 24\"\n",
              "       width=\"24px\">\n",
              "    <path d=\"M0 0h24v24H0V0z\" fill=\"none\"/>\n",
              "    <path d=\"M18.56 5.44l.94 2.06.94-2.06 2.06-.94-2.06-.94-.94-2.06-.94 2.06-2.06.94zm-11 1L8.5 8.5l.94-2.06 2.06-.94-2.06-.94L8.5 2.5l-.94 2.06-2.06.94zm10 10l.94 2.06.94-2.06 2.06-.94-2.06-.94-.94-2.06-.94 2.06-2.06.94z\"/><path d=\"M17.41 7.96l-1.37-1.37c-.4-.4-.92-.59-1.43-.59-.52 0-1.04.2-1.43.59L10.3 9.45l-7.72 7.72c-.78.78-.78 2.05 0 2.83L4 21.41c.39.39.9.59 1.41.59.51 0 1.02-.2 1.41-.59l7.78-7.78 2.81-2.81c.8-.78.8-2.07 0-2.86zM5.41 20L4 18.59l7.72-7.72 1.47 1.35L5.41 20z\"/>\n",
              "  </svg>\n",
              "      </button>\n",
              "      \n",
              "  <style>\n",
              "    .colab-df-container {\n",
              "      display:flex;\n",
              "      flex-wrap:wrap;\n",
              "      gap: 12px;\n",
              "    }\n",
              "\n",
              "    .colab-df-convert {\n",
              "      background-color: #E8F0FE;\n",
              "      border: none;\n",
              "      border-radius: 50%;\n",
              "      cursor: pointer;\n",
              "      display: none;\n",
              "      fill: #1967D2;\n",
              "      height: 32px;\n",
              "      padding: 0 0 0 0;\n",
              "      width: 32px;\n",
              "    }\n",
              "\n",
              "    .colab-df-convert:hover {\n",
              "      background-color: #E2EBFA;\n",
              "      box-shadow: 0px 1px 2px rgba(60, 64, 67, 0.3), 0px 1px 3px 1px rgba(60, 64, 67, 0.15);\n",
              "      fill: #174EA6;\n",
              "    }\n",
              "\n",
              "    [theme=dark] .colab-df-convert {\n",
              "      background-color: #3B4455;\n",
              "      fill: #D2E3FC;\n",
              "    }\n",
              "\n",
              "    [theme=dark] .colab-df-convert:hover {\n",
              "      background-color: #434B5C;\n",
              "      box-shadow: 0px 1px 3px 1px rgba(0, 0, 0, 0.15);\n",
              "      filter: drop-shadow(0px 1px 2px rgba(0, 0, 0, 0.3));\n",
              "      fill: #FFFFFF;\n",
              "    }\n",
              "  </style>\n",
              "\n",
              "      <script>\n",
              "        const buttonEl =\n",
              "          document.querySelector('#df-35d23799-e93f-4bd2-a755-e48863ff4ea2 button.colab-df-convert');\n",
              "        buttonEl.style.display =\n",
              "          google.colab.kernel.accessAllowed ? 'block' : 'none';\n",
              "\n",
              "        async function convertToInteractive(key) {\n",
              "          const element = document.querySelector('#df-35d23799-e93f-4bd2-a755-e48863ff4ea2');\n",
              "          const dataTable =\n",
              "            await google.colab.kernel.invokeFunction('convertToInteractive',\n",
              "                                                     [key], {});\n",
              "          if (!dataTable) return;\n",
              "\n",
              "          const docLinkHtml = 'Like what you see? Visit the ' +\n",
              "            '<a target=\"_blank\" href=https://colab.research.google.com/notebooks/data_table.ipynb>data table notebook</a>'\n",
              "            + ' to learn more about interactive tables.';\n",
              "          element.innerHTML = '';\n",
              "          dataTable['output_type'] = 'display_data';\n",
              "          await google.colab.output.renderOutput(dataTable, element);\n",
              "          const docLink = document.createElement('div');\n",
              "          docLink.innerHTML = docLinkHtml;\n",
              "          element.appendChild(docLink);\n",
              "        }\n",
              "      </script>\n",
              "    </div>\n",
              "  </div>\n",
              "  "
            ]
          },
          "metadata": {},
          "execution_count": 40
        }
      ],
      "source": [
        "get_top_n_recommendations('new_user',new_user_predictions)"
      ]
    },
    {
      "cell_type": "markdown",
      "metadata": {
        "id": "G0zYLwyQnWXE"
      },
      "source": [
        "## Trending items"
      ]
    },
    {
      "cell_type": "code",
      "execution_count": null,
      "metadata": {
        "id": "r-bmvM1rnZyU"
      },
      "outputs": [],
      "source": [
        "from collections import defaultdict"
      ]
    },
    {
      "cell_type": "code",
      "execution_count": null,
      "metadata": {
        "id": "I-RsD1wzndp7"
      },
      "outputs": [],
      "source": [
        "# item_popularity = defaultdict(int)\n",
        "# for user, item, rating in train_ratings.all_ratings():\n",
        "#     item_popularity[item] += 1\n",
        "\n",
        "# # Get the top-N trending items\n",
        "# n = 10 # number of items to recommend\n",
        "# top_n = sorted(item_popularity.items(), key=lambda x: -x[1])[:n]\n",
        "\n",
        "# # Print the top-N trending items\n",
        "# print('Top-N trending items:')\n",
        "# for item_id, _ in top_n:\n",
        "#     print(df_merged.loc[df_merged.id==item_id].item_name)"
      ]
    },
    {
      "cell_type": "code",
      "execution_count": null,
      "metadata": {
        "id": "P9rHpd88gNwf"
      },
      "outputs": [],
      "source": [
        "data=get_top_n_recommendations('62d7e395ec76434350c3b45c',item_predictions)"
      ]
    },
    {
      "cell_type": "code",
      "execution_count": null,
      "metadata": {
        "id": "e9ffq6MxgnsT"
      },
      "outputs": [],
      "source": [
        "g1=data.groupby(['market'])"
      ]
    },
    {
      "cell_type": "code",
      "execution_count": null,
      "metadata": {
        "id": "LOzRDBc8gUs_"
      },
      "outputs": [],
      "source": [
        "def best_pick(item):\n",
        "  df_item=g1.get_group(item)\n",
        "  final_item=df_item[['avgrating','item_name','price',]]\n",
        "  best_pick_item=final_item.sort_values(by='avgrating',ascending=False)\n",
        "  best_pick_item.drop_duplicates('item_name',inplace=True)\n",
        "  return best_pick_item.head()"
      ]
    },
    {
      "cell_type": "code",
      "execution_count": null,
      "metadata": {
        "colab": {
          "base_uri": "https://localhost:8080/",
          "height": 311
        },
        "id": "WAKz1-Fgg0tB",
        "outputId": "b20742a5-e951-4a9d-8f55-319cba8e3f35"
      },
      "outputs": [
        {
          "output_type": "error",
          "ename": "KeyError",
          "evalue": "ignored",
          "traceback": [
            "\u001b[0;31m---------------------------------------------------------------------------\u001b[0m",
            "\u001b[0;31mKeyError\u001b[0m                                  Traceback (most recent call last)",
            "\u001b[0;32m<ipython-input-90-7437a0a0694b>\u001b[0m in \u001b[0;36m<cell line: 1>\u001b[0;34m()\u001b[0m\n\u001b[0;32m----> 1\u001b[0;31m \u001b[0mbest_pick\u001b[0m\u001b[0;34m(\u001b[0m\u001b[0;34m'Virtual assets & Real Estate'\u001b[0m\u001b[0;34m)\u001b[0m\u001b[0;34m\u001b[0m\u001b[0;34m\u001b[0m\u001b[0m\n\u001b[0m",
            "\u001b[0;32m<ipython-input-89-d7a7b08638ae>\u001b[0m in \u001b[0;36mbest_pick\u001b[0;34m(item)\u001b[0m\n\u001b[1;32m      1\u001b[0m \u001b[0;32mdef\u001b[0m \u001b[0mbest_pick\u001b[0m\u001b[0;34m(\u001b[0m\u001b[0mitem\u001b[0m\u001b[0;34m)\u001b[0m\u001b[0;34m:\u001b[0m\u001b[0;34m\u001b[0m\u001b[0;34m\u001b[0m\u001b[0m\n\u001b[0;32m----> 2\u001b[0;31m   \u001b[0mdf_item\u001b[0m\u001b[0;34m=\u001b[0m\u001b[0mg1\u001b[0m\u001b[0;34m.\u001b[0m\u001b[0mget_group\u001b[0m\u001b[0;34m(\u001b[0m\u001b[0mitem\u001b[0m\u001b[0;34m)\u001b[0m\u001b[0;34m\u001b[0m\u001b[0;34m\u001b[0m\u001b[0m\n\u001b[0m\u001b[1;32m      3\u001b[0m   \u001b[0mfinal_item\u001b[0m\u001b[0;34m=\u001b[0m\u001b[0mdf_item\u001b[0m\u001b[0;34m[\u001b[0m\u001b[0;34m[\u001b[0m\u001b[0;34m'avgrating'\u001b[0m\u001b[0;34m,\u001b[0m\u001b[0;34m'item_name'\u001b[0m\u001b[0;34m,\u001b[0m\u001b[0;34m'price'\u001b[0m\u001b[0;34m,\u001b[0m\u001b[0;34m]\u001b[0m\u001b[0;34m]\u001b[0m\u001b[0;34m\u001b[0m\u001b[0;34m\u001b[0m\u001b[0m\n\u001b[1;32m      4\u001b[0m   \u001b[0mbest_pick_item\u001b[0m\u001b[0;34m=\u001b[0m\u001b[0mfinal_item\u001b[0m\u001b[0;34m.\u001b[0m\u001b[0msort_values\u001b[0m\u001b[0;34m(\u001b[0m\u001b[0mby\u001b[0m\u001b[0;34m=\u001b[0m\u001b[0;34m'avgrating'\u001b[0m\u001b[0;34m,\u001b[0m\u001b[0mascending\u001b[0m\u001b[0;34m=\u001b[0m\u001b[0;32mFalse\u001b[0m\u001b[0;34m)\u001b[0m\u001b[0;34m\u001b[0m\u001b[0;34m\u001b[0m\u001b[0m\n\u001b[1;32m      5\u001b[0m   \u001b[0mbest_pick_item\u001b[0m\u001b[0;34m.\u001b[0m\u001b[0mdrop_duplicates\u001b[0m\u001b[0;34m(\u001b[0m\u001b[0;34m'item_name'\u001b[0m\u001b[0;34m,\u001b[0m\u001b[0minplace\u001b[0m\u001b[0;34m=\u001b[0m\u001b[0;32mTrue\u001b[0m\u001b[0;34m)\u001b[0m\u001b[0;34m\u001b[0m\u001b[0;34m\u001b[0m\u001b[0m\n",
            "\u001b[0;32m/usr/local/lib/python3.9/dist-packages/pandas/core/groupby/groupby.py\u001b[0m in \u001b[0;36mget_group\u001b[0;34m(self, name, obj)\u001b[0m\n\u001b[1;32m    745\u001b[0m         \u001b[0minds\u001b[0m \u001b[0;34m=\u001b[0m \u001b[0mself\u001b[0m\u001b[0;34m.\u001b[0m\u001b[0m_get_index\u001b[0m\u001b[0;34m(\u001b[0m\u001b[0mname\u001b[0m\u001b[0;34m)\u001b[0m\u001b[0;34m\u001b[0m\u001b[0;34m\u001b[0m\u001b[0m\n\u001b[1;32m    746\u001b[0m         \u001b[0;32mif\u001b[0m \u001b[0;32mnot\u001b[0m \u001b[0mlen\u001b[0m\u001b[0;34m(\u001b[0m\u001b[0minds\u001b[0m\u001b[0;34m)\u001b[0m\u001b[0;34m:\u001b[0m\u001b[0;34m\u001b[0m\u001b[0;34m\u001b[0m\u001b[0m\n\u001b[0;32m--> 747\u001b[0;31m             \u001b[0;32mraise\u001b[0m \u001b[0mKeyError\u001b[0m\u001b[0;34m(\u001b[0m\u001b[0mname\u001b[0m\u001b[0;34m)\u001b[0m\u001b[0;34m\u001b[0m\u001b[0;34m\u001b[0m\u001b[0m\n\u001b[0m\u001b[1;32m    748\u001b[0m \u001b[0;34m\u001b[0m\u001b[0m\n\u001b[1;32m    749\u001b[0m         \u001b[0;32mreturn\u001b[0m \u001b[0mobj\u001b[0m\u001b[0;34m.\u001b[0m\u001b[0m_take_with_is_copy\u001b[0m\u001b[0;34m(\u001b[0m\u001b[0minds\u001b[0m\u001b[0;34m,\u001b[0m \u001b[0maxis\u001b[0m\u001b[0;34m=\u001b[0m\u001b[0mself\u001b[0m\u001b[0;34m.\u001b[0m\u001b[0maxis\u001b[0m\u001b[0;34m)\u001b[0m\u001b[0;34m\u001b[0m\u001b[0;34m\u001b[0m\u001b[0m\n",
            "\u001b[0;31mKeyError\u001b[0m: 'Virtual assets & Real Estate'"
          ]
        }
      ],
      "source": [
        "best_pick('Virtual assets & Real Estate')"
      ]
    },
    {
      "cell_type": "code",
      "execution_count": null,
      "metadata": {
        "id": "aNUHw6U3kItR"
      },
      "outputs": [],
      "source": [
        "from surprise.model_selection import GridSearchCV,RandomizedSearchCV"
      ]
    },
    {
      "cell_type": "code",
      "execution_count": null,
      "metadata": {
        "colab": {
          "base_uri": "https://localhost:8080/"
        },
        "id": "jzE1ea2ekGr6",
        "outputId": "a8901786-8a90-465f-e505-ee75e1bf496a"
      },
      "outputs": [
        {
          "output_type": "execute_result",
          "data": {
            "text/plain": [
              "{'n_factors': 150, 'reg_all': 0.02, 'n_epochs': 50}"
            ]
          },
          "metadata": {},
          "execution_count": 63
        }
      ],
      "source": [
        "param_distributions  = {'n_factors': list(range(50,160,10)),'reg_all': np.arange(0.02,0.1),'n_epochs' : list(range(1,51))}\n",
        "rs = GridSearchCV(SVD, param_distributions, measures=['rmse'], return_train_measures = True, cv = 5)\n",
        "rs.fit(ratings)\n",
        "rs.best_params['rmse']"
      ]
    },
    {
      "cell_type": "code",
      "execution_count": null,
      "metadata": {
        "id": "J_Ieu-IIl3MO",
        "colab": {
          "base_uri": "https://localhost:8080/"
        },
        "outputId": "f347f37b-2a7e-4e0a-9ebf-bfbcdaa43f6d"
      },
      "outputs": [
        {
          "output_type": "stream",
          "name": "stdout",
          "text": [
            "RMSE on training data :  0.45180141635725146\n",
            "RMSE on test data:  1.287761933127254\n"
          ]
        }
      ],
      "source": [
        "tuned_svd_model = SVD(n_factors=130, reg_all =0.1, n_epochs = 50, random_state = 42,verbose = False)\n",
        "tuned_svd_model.fit(train_ratings)\n",
        "train_predictions = tuned_svd_model.test(train_ratings.build_testset())\n",
        "test_predictions = tuned_svd_model.test(test_ratings)\n",
        "print(\"RMSE on training data : \", accuracy.rmse(train_predictions, verbose = False))\n",
        "print(\"RMSE on test data: \", accuracy.rmse(test_predictions, verbose = False))"
      ]
    },
    {
      "cell_type": "code",
      "source": [
        "final_df.iloc[0:1000].head()"
      ],
      "metadata": {
        "colab": {
          "base_uri": "https://localhost:8080/",
          "height": 206
        },
        "id": "t-g1h58A6zC7",
        "outputId": "407c01df-fe3b-422d-974c-55f0bc4f2cff"
      },
      "execution_count": null,
      "outputs": [
        {
          "output_type": "execute_result",
          "data": {
            "text/plain": [
              "                 customerid    id  avgrating\n",
              "0  628cb023c3ccbfbb1d5f410e     1          1\n",
              "1  633ac3aff0f1d2a7c6a29f5a  7399          1\n",
              "2  630718b7cf57702ea522b0cb   754          4\n",
              "3  63419766f0f1d24d99a34f54  7400          4\n",
              "4  62dbd5ce9670f2007f7cce70   809          3"
            ],
            "text/html": [
              "\n",
              "  <div id=\"df-ea63a6e1-a4b4-4400-81d9-2477fbe99b61\">\n",
              "    <div class=\"colab-df-container\">\n",
              "      <div>\n",
              "<style scoped>\n",
              "    .dataframe tbody tr th:only-of-type {\n",
              "        vertical-align: middle;\n",
              "    }\n",
              "\n",
              "    .dataframe tbody tr th {\n",
              "        vertical-align: top;\n",
              "    }\n",
              "\n",
              "    .dataframe thead th {\n",
              "        text-align: right;\n",
              "    }\n",
              "</style>\n",
              "<table border=\"1\" class=\"dataframe\">\n",
              "  <thead>\n",
              "    <tr style=\"text-align: right;\">\n",
              "      <th></th>\n",
              "      <th>customerid</th>\n",
              "      <th>id</th>\n",
              "      <th>avgrating</th>\n",
              "    </tr>\n",
              "  </thead>\n",
              "  <tbody>\n",
              "    <tr>\n",
              "      <th>0</th>\n",
              "      <td>628cb023c3ccbfbb1d5f410e</td>\n",
              "      <td>1</td>\n",
              "      <td>1</td>\n",
              "    </tr>\n",
              "    <tr>\n",
              "      <th>1</th>\n",
              "      <td>633ac3aff0f1d2a7c6a29f5a</td>\n",
              "      <td>7399</td>\n",
              "      <td>1</td>\n",
              "    </tr>\n",
              "    <tr>\n",
              "      <th>2</th>\n",
              "      <td>630718b7cf57702ea522b0cb</td>\n",
              "      <td>754</td>\n",
              "      <td>4</td>\n",
              "    </tr>\n",
              "    <tr>\n",
              "      <th>3</th>\n",
              "      <td>63419766f0f1d24d99a34f54</td>\n",
              "      <td>7400</td>\n",
              "      <td>4</td>\n",
              "    </tr>\n",
              "    <tr>\n",
              "      <th>4</th>\n",
              "      <td>62dbd5ce9670f2007f7cce70</td>\n",
              "      <td>809</td>\n",
              "      <td>3</td>\n",
              "    </tr>\n",
              "  </tbody>\n",
              "</table>\n",
              "</div>\n",
              "      <button class=\"colab-df-convert\" onclick=\"convertToInteractive('df-ea63a6e1-a4b4-4400-81d9-2477fbe99b61')\"\n",
              "              title=\"Convert this dataframe to an interactive table.\"\n",
              "              style=\"display:none;\">\n",
              "        \n",
              "  <svg xmlns=\"http://www.w3.org/2000/svg\" height=\"24px\"viewBox=\"0 0 24 24\"\n",
              "       width=\"24px\">\n",
              "    <path d=\"M0 0h24v24H0V0z\" fill=\"none\"/>\n",
              "    <path d=\"M18.56 5.44l.94 2.06.94-2.06 2.06-.94-2.06-.94-.94-2.06-.94 2.06-2.06.94zm-11 1L8.5 8.5l.94-2.06 2.06-.94-2.06-.94L8.5 2.5l-.94 2.06-2.06.94zm10 10l.94 2.06.94-2.06 2.06-.94-2.06-.94-.94-2.06-.94 2.06-2.06.94z\"/><path d=\"M17.41 7.96l-1.37-1.37c-.4-.4-.92-.59-1.43-.59-.52 0-1.04.2-1.43.59L10.3 9.45l-7.72 7.72c-.78.78-.78 2.05 0 2.83L4 21.41c.39.39.9.59 1.41.59.51 0 1.02-.2 1.41-.59l7.78-7.78 2.81-2.81c.8-.78.8-2.07 0-2.86zM5.41 20L4 18.59l7.72-7.72 1.47 1.35L5.41 20z\"/>\n",
              "  </svg>\n",
              "      </button>\n",
              "      \n",
              "  <style>\n",
              "    .colab-df-container {\n",
              "      display:flex;\n",
              "      flex-wrap:wrap;\n",
              "      gap: 12px;\n",
              "    }\n",
              "\n",
              "    .colab-df-convert {\n",
              "      background-color: #E8F0FE;\n",
              "      border: none;\n",
              "      border-radius: 50%;\n",
              "      cursor: pointer;\n",
              "      display: none;\n",
              "      fill: #1967D2;\n",
              "      height: 32px;\n",
              "      padding: 0 0 0 0;\n",
              "      width: 32px;\n",
              "    }\n",
              "\n",
              "    .colab-df-convert:hover {\n",
              "      background-color: #E2EBFA;\n",
              "      box-shadow: 0px 1px 2px rgba(60, 64, 67, 0.3), 0px 1px 3px 1px rgba(60, 64, 67, 0.15);\n",
              "      fill: #174EA6;\n",
              "    }\n",
              "\n",
              "    [theme=dark] .colab-df-convert {\n",
              "      background-color: #3B4455;\n",
              "      fill: #D2E3FC;\n",
              "    }\n",
              "\n",
              "    [theme=dark] .colab-df-convert:hover {\n",
              "      background-color: #434B5C;\n",
              "      box-shadow: 0px 1px 3px 1px rgba(0, 0, 0, 0.15);\n",
              "      filter: drop-shadow(0px 1px 2px rgba(0, 0, 0, 0.3));\n",
              "      fill: #FFFFFF;\n",
              "    }\n",
              "  </style>\n",
              "\n",
              "      <script>\n",
              "        const buttonEl =\n",
              "          document.querySelector('#df-ea63a6e1-a4b4-4400-81d9-2477fbe99b61 button.colab-df-convert');\n",
              "        buttonEl.style.display =\n",
              "          google.colab.kernel.accessAllowed ? 'block' : 'none';\n",
              "\n",
              "        async function convertToInteractive(key) {\n",
              "          const element = document.querySelector('#df-ea63a6e1-a4b4-4400-81d9-2477fbe99b61');\n",
              "          const dataTable =\n",
              "            await google.colab.kernel.invokeFunction('convertToInteractive',\n",
              "                                                     [key], {});\n",
              "          if (!dataTable) return;\n",
              "\n",
              "          const docLinkHtml = 'Like what you see? Visit the ' +\n",
              "            '<a target=\"_blank\" href=https://colab.research.google.com/notebooks/data_table.ipynb>data table notebook</a>'\n",
              "            + ' to learn more about interactive tables.';\n",
              "          element.innerHTML = '';\n",
              "          dataTable['output_type'] = 'display_data';\n",
              "          await google.colab.output.renderOutput(dataTable, element);\n",
              "          const docLink = document.createElement('div');\n",
              "          docLink.innerHTML = docLinkHtml;\n",
              "          element.appendChild(docLink);\n",
              "        }\n",
              "      </script>\n",
              "    </div>\n",
              "  </div>\n",
              "  "
            ]
          },
          "metadata": {},
          "execution_count": 41
        }
      ]
    },
    {
      "cell_type": "code",
      "source": [],
      "metadata": {
        "id": "wbey9_HtBbOb"
      },
      "execution_count": null,
      "outputs": []
    }
  ],
  "metadata": {
    "colab": {
      "provenance": [],
      "include_colab_link": true
    },
    "kernelspec": {
      "display_name": "Python 3",
      "name": "python3"
    },
    "language_info": {
      "name": "python"
    },
    "accelerator": "GPU",
    "gpuClass": "standard"
  },
  "nbformat": 4,
  "nbformat_minor": 0
}